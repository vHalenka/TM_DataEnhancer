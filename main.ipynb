{
 "cells": [
  {
   "cell_type": "code",
   "execution_count": 223,
   "id": "00f1f1d9",
   "metadata": {},
   "outputs": [],
   "source": [
    "\n",
    "#Imports\n",
    "# import os\n",
    "# os.environ['NUMEXPR_MAX_THREADS'] = 40\n",
    "import numpy as np\n",
    "import random\n",
    "from time import time\n",
    "from tmu.models.classification.vanilla_classifier import TMClassifier\n",
    "from scipy.sparse import lil_matrix\n",
    "from skimage.util import view_as_windows\n",
    "from sklearn.feature_extraction.text import CountVectorizer\n",
    "import cv2\n",
    "from skimage.transform import pyramid_gaussian, pyramid_laplacian, downscale_local_mean\n",
    "from matplotlib.gridspec import GridSpec\n",
    "import matplotlib.pyplot as plt #drawing plots\n",
    "import matplotlib.patches as patches #drawing squares\n",
    "from matplotlib.lines import Line2D\n",
    "from scipy.ndimage import rotate\n",
    "import math \n",
    "\n",
    "\n",
    "import seaborn as sns\n",
    "import pandas as pd\n",
    "from sklearn.metrics import confusion_matrix\n",
    "\n",
    "from tqdm import tqdm #runtime stats\n",
    "\n",
    "import ssl\n",
    "\n",
    "ssl._create_default_https_context = ssl._create_unverified_context\n",
    "from keras.datasets import cifar10\n"
   ]
  },
  {
   "cell_type": "code",
   "execution_count": 224,
   "id": "98e51f01",
   "metadata": {},
   "outputs": [],
   "source": [
    "\n",
    "#Parameters\n",
    "\n",
    "#TM\n",
    "epochs = 50\n",
    "max_included_literals = 10000\n",
    "clauses = 10\n",
    "T = int((np.sqrt(clauses)/2 + 2)*10)\n",
    "s = 1.5\n",
    "step = 1\n",
    "visual_tokens = True\n",
    "encode_to_hypervec = False\n",
    "\n",
    "#Data\n",
    "trained_labels = np.array([0,1,2,3])\n",
    "#trained_labels = np.arange(4)\n",
    "training_pool_size = 500 # number of testing pictures loaded\n",
    "\n",
    "#preprocessing\n",
    "resolution = 2 # scaled colors to thermometer code size of..\n",
    "patch_dim = [3,3]\n",
    "\n",
    "# Dice Dataset parameters\n",
    "use_debug_dataset = True\n",
    "train_size = training_pool_size\n",
    "test_size = 300\n",
    "window_top_left = (0, 0)\n",
    "window_bottom_right = (32, 32)\n",
    "dice_size = 12    \n",
    "\n",
    "# Second run parameters\n",
    "bypass_anchor_selection = True\n",
    "n_anchor_points = 3\n",
    "\n",
    "        "
   ]
  },
  {
   "cell_type": "code",
   "execution_count": 225,
   "id": "07fb6543",
   "metadata": {},
   "outputs": [
    {
     "name": "stdout",
     "output_type": "stream",
     "text": [
      "12 8\n",
      "9 24\n",
      "15 21\n",
      "8 16\n",
      "9 14\n",
      "20 10\n",
      "12 22\n",
      "22 11\n",
      "12 12\n"
     ]
    },
    {
     "data": {
      "image/png": "[encoded data removed]",
      "text/plain": [
       "<Figure size 2400x400 with 9 Axes>"
      ]
     },
     "metadata": {},
     "output_type": "display_data"
    }
   ],
   "source": [
    "# Debug dataset creation function\n",
    "def dice_image(value, top_left=(0, 0), bottom_right=(32, 32), dice_size=8, rand_placement=False, rotation_angle=None):\n",
    "    img = np.zeros((32, 32, 3), dtype=np.uint8)\n",
    "    \n",
    "    # Relative dot size\n",
    "    dot_size = dice_size // 6\n",
    "    if dot_size<1:dot_size=1\n",
    "    \n",
    "    dot_color = (255, 0, 0)  # Red color\n",
    "    dot_color = (255, 255, 255)  # Red color\n",
    "    \n",
    "    if value not in range(0, 10):\n",
    "        raise ValueError(\"Dice value should be between 0 and 10.\")\n",
    "\n",
    "    \n",
    "    # Relative positions for the center of dice based on its value and dice size\n",
    "    offset = dice_size // 4\n",
    "    positions = {\n",
    "        1: [(-offset, -offset)],\n",
    "        2: [(-offset, -offset), (offset, offset)],\n",
    "        3: [(-offset, -offset), (0, 0), (offset, offset)],\n",
    "        4: [(-offset, -offset), (-offset, offset), (offset, -offset), (offset, offset)],\n",
    "        5: [(-offset, -offset), (-offset, offset), (offset, -offset), (offset, offset), (0, 0)],\n",
    "        6: [(-offset, -offset), (-offset, offset), (offset, -offset), (offset, offset), (0, -offset), (0, offset)],\n",
    "        7: [(-offset, -offset), (-offset, offset), (offset, -offset), (offset, offset), (0, 0), (0, -offset), (0, offset)],\n",
    "        8: [(-offset, -offset), (-offset, offset), (offset, -offset), (offset, offset), (0, -offset), (0, offset), (-offset, 0), (offset, 0)],\n",
    "        9: [(-offset, -offset), (-offset, offset), (offset, -offset), (offset, offset), (0, 0), (0, -offset), (0, offset), (-offset, 0), (offset, 0)]\n",
    "    }\n",
    "    if rand_placement:\n",
    "        # Generate a random position within the window for the center of the dice\n",
    "        center_x = random.randint(top_left[0] + dice_size // 2, bottom_right[0] - dice_size // 2)\n",
    "        center_y = random.randint(top_left[1] + dice_size // 2, bottom_right[1] - dice_size // 2)\n",
    "    else:\n",
    "        center_y = bottom_right[1] - top_left[1]\n",
    "        center_x = bottom_right[0] - top_left[0]\n",
    "    if value != 0:\n",
    "        for pos in positions[value]:\n",
    "            x = center_x + pos[0]\n",
    "            y = center_y + pos[1]\n",
    "            img[y-dot_size//2:y+dot_size//2, x-dot_size//2:x+dot_size//2] = dot_color\n",
    "\n",
    "    # Rotation logic\n",
    "    if rotation_angle is not None:\n",
    "        if rotation_angle in [90, 180, 270]:\n",
    "            img = np.rot90(img, k=rotation_angle // 90)\n",
    "        else:\n",
    "            img = rotate(img, rotation_angle, reshape=False, mode='nearest')\n",
    "\n",
    "    return img, center_x, center_y\n",
    "\n",
    "\n",
    "# Testing the function\n",
    "# Plotting the dice faces with random positions and rotations within the specified window\n",
    "window_top_left = (0, 0)\n",
    "window_bottom_right = (32, 32)\n",
    "dice_size = 12\n",
    "fig, axes = plt.subplots(1, 9, figsize=(24, 4))\n",
    "\n",
    "rotations = [None, 45, 15, 250, 45, 30, 0, 0, 0 ,0]  # Some sample rotations\n",
    "\n",
    "for ax, value, rot in zip(axes, range(0, 11), rotations):\n",
    "    img, auxX, auxY = dice_image(value, window_top_left, window_bottom_right, dice_size, True, rot)\n",
    "    ax.imshow(img)\n",
    "    print(auxX, auxY)\n",
    "    ax.axis(\"off\")\n",
    "    ax.set_title(f\"Face {value} - {rot}° rotation\")\n",
    "\n",
    "plt.tight_layout()\n",
    "plt.show()"
   ]
  },
  {
   "cell_type": "code",
   "execution_count": 226,
   "id": "6d1e2ceb",
   "metadata": {},
   "outputs": [
    {
     "data": {
      "image/png": "[encoded data removed]",
      "text/plain": [
       "<Figure size 2400x400 with 9 Axes>"
      ]
     },
     "metadata": {},
     "output_type": "display_data"
    },
    {
     "name": "stdout",
     "output_type": "stream",
     "text": [
      "(500, 32, 32, 3)\n",
      "(500,)\n",
      "(300, 32, 32, 3)\n",
      "(300,)\n"
     ]
    }
   ],
   "source": [
    "if use_debug_dataset: # Dataset selection\n",
    "    def generate_debug_dataset(dataset_size, window_top_left, window_bottom_right, dice_size, random_rotations=False, include_random_class=False, random_placement=False):\n",
    "        dataset = np.zeros((dataset_size, 32, 32, 3), dtype=np.uint8)\n",
    "        labels = np.zeros((dataset_size,), dtype=np.uint8)\n",
    "        dice_coordinates = np.zeros((dataset_size,2), dtype=np.uint8)\n",
    "        \n",
    "        #rotations = [None, 90, 180, 270]\n",
    "        rotations = [None, 90, 180, 270]\n",
    "        if not random_rotations:\n",
    "            rotations = [None]\n",
    "        \n",
    "        for i in range(dataset_size):\n",
    "            dice_val = trained_labels[(i % len(trained_labels))]\n",
    "            rot = random.choice(rotations)\n",
    "            # If the random class is to be included and the current index is for the random class\n",
    "            if include_random_class and dice_val == 10:\n",
    "                # Create a random pixel image\n",
    "                dataset[i] = np.random.randint(0, 256, (32, 32, 3), dtype=np.uint8)\n",
    "                labels[i] = 10  # The label for the random class\n",
    "            else:\n",
    "                # Create a dice image\n",
    "                dataset[i], dice_coordinates[i, 0], dice_coordinates[i, 1] = dice_image(value=dice_val, top_left=window_top_left, bottom_right=window_bottom_right, dice_size=dice_size, rotation_angle=rot, rand_placement=random_placement)\n",
    "                labels[i] = dice_val  # Making labels 0-indexed\n",
    "        \n",
    "        return dataset, labels, dice_coordinates\n",
    "\n",
    "    \n",
    "\n",
    "    # Generate datasets\n",
    "    X_train_org, Y_train_org, coors_train_org = generate_debug_dataset(train_size, window_top_left, window_bottom_right, dice_size, include_random_class=True, random_rotations=False, random_placement=True)\n",
    "    X_test_org, Y_test_org, coors_test_org = generate_debug_dataset(test_size, window_top_left, window_bottom_right, dice_size, random_rotations=False, random_placement=True)\n",
    "\n",
    "    # Display some sample images from the training set\n",
    "    fig, axes = plt.subplots(1, 9, figsize=(24, 4))\n",
    "    for i in range(9):\n",
    "        ax = axes[i]\n",
    "        ax.imshow(X_train_org[i])\n",
    "        ax.axis(\"off\")\n",
    "        ax.set_title(f\"Label: {Y_train_org[i]+1}\")\n",
    "\n",
    "    plt.tight_layout()\n",
    "    plt.show()\n",
    "    labels = [\"Zero\", \"One\", \"Two\", \"Three\", \"Four\", \"Five\", \"Six\", \"Seven\", \"Eight\", \"Nine\"]\n",
    "    \n",
    "else:\n",
    "\n",
    "    #Load cifar10\n",
    "    (X_train_org, Y_train_org), (X_test_org, Y_test_org) = cifar10.load_data()\n",
    "    labels = [\"Airplane\", \"Car\", \"Bird\", \"Cat\", \"Deer\", \"Dog\", \"Frog\", \"Horse\", \"Ship\", \"Truck\"]\n",
    "\n",
    "\n",
    "    #adjust to train pool size\n",
    "    X_test_org = X_test_org[0:training_pool_size]\n",
    "    Y_test_org = Y_test_org.reshape(Y_test_org.shape[0])[0:training_pool_size]\n",
    "    X_train_org = X_train_org[0:training_pool_size]\n",
    "    Y_train_org = Y_train_org.reshape(Y_train_org.shape[0])[0:training_pool_size]\n",
    "\n",
    "    #filter only desired labels\n",
    "    X_train_org = X_train_org[np.in1d(Y_train_org, trained_labels)]\n",
    "    Y_train_org = Y_train_org[np.in1d(Y_train_org, trained_labels)]\n",
    "\n",
    "X_test_org = X_test_org[np.in1d(Y_test_org, trained_labels)]\n",
    "Y_test_org = Y_test_org[np.in1d(Y_test_org, trained_labels)]\n",
    "\n",
    "print(X_train_org.shape)\n",
    "print(Y_train_org.shape)\n",
    "print(X_test_org.shape)\n",
    "print(Y_test_org.shape)"
   ]
  },
  {
   "cell_type": "code",
   "execution_count": 227,
   "id": "ed37b6af",
   "metadata": {},
   "outputs": [],
   "source": [
    "# Thermometer Coding\n",
    "def thermometer_encode(image, resolution=8, prevMin=0, prevMax=255):\n",
    "    # Get the shape of the input image\n",
    "    shape = image.shape\n",
    "    \n",
    "    # Initialize the thermometer encoded image array\n",
    "    encoded_image = np.empty(shape + (resolution,), dtype=np.uint8)\n",
    "    \n",
    "    # Perform thermometer encoding\n",
    "    scale_factor = (prevMax - prevMin) / (resolution + 1)\n",
    "    for z in range(resolution):\n",
    "        encoded_image[..., z] = image >= prevMin + (z + 1) * scale_factor\n",
    "    \n",
    "    return encoded_image\n",
    "\n",
    "def thermometer_decode(encoded_image, resolution, toMin=0, toMax=255):\n",
    "    # Sum along the last dimension and scale back to the original range\n",
    "    scale_factor = (toMax - toMin) / (resolution + 1)\n",
    "    decoded_image = toMin + np.sum(encoded_image, axis=-1) * scale_factor\n",
    "    \n",
    "    # Cast the decoded image to uint8 data type\n",
    "    decoded_image = decoded_image.astype(np.uint8)\n",
    "    \n",
    "    return decoded_image\n"
   ]
  },
  {
   "cell_type": "code",
   "execution_count": 228,
   "id": "bd83babf",
   "metadata": {},
   "outputs": [],
   "source": [
    "def test_ThermEncodeAndDecode(original_image, thermometer_encode, thermometer_decode, resolution):\n",
    "    # Encode the original image\n",
    "    encoded_image = thermometer_encode(original_image, resolution)\n",
    "    print(encoded_image[0])\n",
    "    # Decode the encoded image back to the original form\n",
    "    decoded_image = thermometer_decode(encoded_image, resolution)\n",
    "\n",
    "    # Visualization\n",
    "    plt.figure(figsize=(20, 7))\n",
    "\n",
    "    plt.subplot(1, 3, 1)\n",
    "    plt.imshow(original_image)\n",
    "    plt.title('Original Image')\n",
    "    plt.axis('off')\n",
    "    \n",
    "    plt.subplot(1, 3, 2)\n",
    "    plt.imshow(decoded_image)\n",
    "    plt.title('Decoded Image')\n",
    "    plt.axis('off')\n",
    "\n",
    "    plt.tight_layout()\n",
    "    plt.show()\n",
    "# Call the test function\n",
    "#test_ThermEncodeAndDecode(np.full((32,32,3),223), thermometer_encode, thermometer_decode, 8)\n"
   ]
  },
  {
   "cell_type": "code",
   "execution_count": 229,
   "id": "c35c54ad",
   "metadata": {},
   "outputs": [],
   "source": [
    "def reshape_and_pad_dataset(dataset, target_dim_count, max_sizes):\n",
    "    \"\"\"Reshape and pad the dataset to have the target number of dimensions and sizes.\"\"\"\n",
    "    reshaped_dataset = dataset\n",
    "    # Add new dimensions if necessary\n",
    "    while len(reshaped_dataset.shape) < target_dim_count:\n",
    "        reshaped_dataset = np.expand_dims(reshaped_dataset, axis=-1)\n",
    "    \n",
    "    # Pad each dimension as necessary\n",
    "    padding = [(0, max_sizes[i] - reshaped_dataset.shape[i]) for i in range(len(max_sizes))]\n",
    "    padded_dataset = np.pad(reshaped_dataset, padding, mode='constant', constant_values=0)\n",
    "    \n",
    "    return padded_dataset\n",
    "\n",
    "def create_windowed_dataset(*datasets, patch_dim):\n",
    "    if len(datasets) == 0:\n",
    "        raise ValueError(\"At least one dataset must be provided\")\n",
    "\n",
    "    # Determine the maximum number of dimensions and sizes among all datasets\n",
    "    max_dims = max(len(dataset.shape) for dataset in datasets)\n",
    "    max_sizes = [max([dataset.shape[i] if i < len(dataset.shape) else 1 for dataset in datasets]) for i in range(max_dims)]\n",
    "\n",
    "    # Reshape and pad datasets to have the same number of dimensions and sizes\n",
    "    reshaped_padded_datasets = [reshape_and_pad_dataset(dataset, max_dims, max_sizes) for dataset in datasets]\n",
    "\n",
    "    # Validate the shapes of the datasets\n",
    "    common_shape = reshaped_padded_datasets[0].shape[:3]\n",
    "    for dataset in reshaped_padded_datasets:\n",
    "        if dataset.shape[:3] != common_shape:\n",
    "            raise ValueError(f\"All datasets must have the same num_images, height, and width. Expected shape: {common_shape}, but got {dataset.shape[:3]}\")\n",
    "\n",
    "    # Concatenate all datasets along the last dimension\n",
    "    concatenated_dataset = np.concatenate(reshaped_padded_datasets, axis=-1)\n",
    "\n",
    "    # Calculate and create the windowed dataset\n",
    "    num_images, height, width, *data_dims = concatenated_dataset.shape\n",
    "    windowed_shape = (num_images, height - patch_dim[0] + 1, width - patch_dim[1] + 1, patch_dim[0] * patch_dim[1] * np.prod(data_dims))\n",
    "    windowed_dataset = np.zeros(windowed_shape, dtype=concatenated_dataset.dtype)\n",
    "\n",
    "    for i in range(num_images):\n",
    "        for y in range(height - patch_dim[0] + 1):\n",
    "            for x in range(width - patch_dim[1] + 1):\n",
    "                patch = concatenated_dataset[i, y:y + patch_dim[0], x:x + patch_dim[1], :]\n",
    "                windowed_dataset[i, y, x, :] = patch.reshape(-1)\n",
    "\n",
    "    return windowed_dataset\n",
    "\n",
    "\n"
   ]
  },
  {
   "cell_type": "code",
   "execution_count": 230,
   "id": "1f222340",
   "metadata": {},
   "outputs": [],
   "source": [
    "#Create windows\n",
    "X_train = create_windowed_dataset(thermometer_encode(X_train_org), patch_dim=patch_dim)\n",
    "X_test = create_windowed_dataset(thermometer_encode(X_test_org), patch_dim=patch_dim)\n",
    "\n",
    "Y_train = Y_train_org\n",
    "Y_test  = Y_test_org\n"
   ]
  },
  {
   "cell_type": "code",
   "execution_count": 231,
   "id": "653068cc",
   "metadata": {},
   "outputs": [
    {
     "name": "stdout",
     "output_type": "stream",
     "text": [
      "Training:\n",
      "4 labels used: [0 1 2 3]\n",
      "Training pictures: 500\n",
      "Testing:\n",
      "4 labels used: [0 1 2 3]\n",
      "Maximum achievable accuracy: 100.0\n",
      "..adjusting\n",
      "Testing pictures: 300\n",
      "\n",
      "Accuracy over 50 epochs:\n",
      "\n"
     ]
    },
    {
     "name": "stderr",
     "output_type": "stream",
     "text": [
      "  0%|          | 0/50 [00:00<?, ?it/s]"
     ]
    },
    {
     "name": "stdout",
     "output_type": "stream",
     "text": [
      "2023-12-18 17:12:04,347 - tmu.models.classification.base_classification - DEBUG - Initializing clause bank....\n"
     ]
    },
    {
     "name": "stderr",
     "output_type": "stream",
     "text": [
      "  2%|▏         | 1/50 [00:03<02:30,  3.07s/it]"
     ]
    },
    {
     "name": "stdout",
     "output_type": "stream",
     "text": [
      "0 0 49.67 50.60 0.36 1.02\n"
     ]
    },
    {
     "name": "stderr",
     "output_type": "stream",
     "text": [
      "  4%|▍         | 2/50 [00:05<02:19,  2.90s/it]"
     ]
    },
    {
     "name": "stdout",
     "output_type": "stream",
     "text": [
      "0 1 54.00 51.60 0.06 1.02\n"
     ]
    },
    {
     "name": "stderr",
     "output_type": "stream",
     "text": [
      "  6%|▌         | 3/50 [00:08<02:13,  2.85s/it]"
     ]
    },
    {
     "name": "stdout",
     "output_type": "stream",
     "text": [
      "0 2 59.33 58.80 0.06 1.02\n"
     ]
    },
    {
     "name": "stderr",
     "output_type": "stream",
     "text": [
      "  8%|▊         | 4/50 [00:11<02:10,  2.83s/it]"
     ]
    },
    {
     "name": "stdout",
     "output_type": "stream",
     "text": [
      "0 3 56.33 56.00 0.06 1.02\n"
     ]
    },
    {
     "name": "stderr",
     "output_type": "stream",
     "text": [
      " 10%|█         | 5/50 [00:14<02:06,  2.82s/it]"
     ]
    },
    {
     "name": "stdout",
     "output_type": "stream",
     "text": [
      "0 4 57.00 55.60 0.06 1.02\n"
     ]
    },
    {
     "name": "stderr",
     "output_type": "stream",
     "text": [
      " 12%|█▏        | 6/50 [00:17<02:03,  2.81s/it]"
     ]
    },
    {
     "name": "stdout",
     "output_type": "stream",
     "text": [
      "0 5 65.67 64.40 0.06 1.03\n"
     ]
    },
    {
     "name": "stderr",
     "output_type": "stream",
     "text": [
      " 14%|█▍        | 7/50 [00:19<02:00,  2.80s/it]"
     ]
    },
    {
     "name": "stdout",
     "output_type": "stream",
     "text": [
      "0 6 77.00 75.40 0.06 1.02\n"
     ]
    },
    {
     "name": "stderr",
     "output_type": "stream",
     "text": [
      " 16%|█▌        | 8/50 [00:22<01:57,  2.80s/it]"
     ]
    },
    {
     "name": "stdout",
     "output_type": "stream",
     "text": [
      "0 7 78.00 74.80 0.06 1.02\n"
     ]
    },
    {
     "name": "stderr",
     "output_type": "stream",
     "text": [
      " 18%|█▊        | 9/50 [00:25<01:54,  2.80s/it]"
     ]
    },
    {
     "name": "stdout",
     "output_type": "stream",
     "text": [
      "0 8 65.33 62.40 0.06 1.03\n"
     ]
    },
    {
     "name": "stderr",
     "output_type": "stream",
     "text": [
      " 20%|██        | 10/50 [00:28<01:51,  2.80s/it]"
     ]
    },
    {
     "name": "stdout",
     "output_type": "stream",
     "text": [
      "0 9 75.67 73.20 0.06 1.03\n"
     ]
    },
    {
     "name": "stderr",
     "output_type": "stream",
     "text": [
      " 22%|██▏       | 11/50 [00:30<01:49,  2.80s/it]"
     ]
    },
    {
     "name": "stdout",
     "output_type": "stream",
     "text": [
      "0 10 68.00 69.80 0.06 1.03\n"
     ]
    },
    {
     "name": "stderr",
     "output_type": "stream",
     "text": [
      " 24%|██▍       | 12/50 [00:33<01:46,  2.79s/it]"
     ]
    },
    {
     "name": "stdout",
     "output_type": "stream",
     "text": [
      "0 11 69.00 65.20 0.06 1.02\n"
     ]
    },
    {
     "name": "stderr",
     "output_type": "stream",
     "text": [
      " 26%|██▌       | 13/50 [00:36<01:43,  2.79s/it]"
     ]
    },
    {
     "name": "stdout",
     "output_type": "stream",
     "text": [
      "0 12 66.67 63.20 0.06 1.03\n"
     ]
    },
    {
     "name": "stderr",
     "output_type": "stream",
     "text": [
      " 28%|██▊       | 14/50 [00:39<01:40,  2.79s/it]"
     ]
    },
    {
     "name": "stdout",
     "output_type": "stream",
     "text": [
      "0 13 68.33 71.00 0.06 1.02\n"
     ]
    },
    {
     "name": "stderr",
     "output_type": "stream",
     "text": [
      " 30%|███       | 15/50 [00:42<01:37,  2.79s/it]"
     ]
    },
    {
     "name": "stdout",
     "output_type": "stream",
     "text": [
      "0 14 63.67 67.80 0.06 1.02\n"
     ]
    },
    {
     "name": "stderr",
     "output_type": "stream",
     "text": [
      " 32%|███▏      | 16/50 [00:44<01:34,  2.79s/it]"
     ]
    },
    {
     "name": "stdout",
     "output_type": "stream",
     "text": [
      "0 15 63.00 65.40 0.06 1.03\n"
     ]
    },
    {
     "name": "stderr",
     "output_type": "stream",
     "text": [
      " 34%|███▍      | 17/50 [00:47<01:32,  2.80s/it]"
     ]
    },
    {
     "name": "stdout",
     "output_type": "stream",
     "text": [
      "0 16 58.67 59.20 0.06 1.03\n"
     ]
    },
    {
     "name": "stderr",
     "output_type": "stream",
     "text": [
      " 36%|███▌      | 18/50 [00:50<01:29,  2.80s/it]"
     ]
    },
    {
     "name": "stdout",
     "output_type": "stream",
     "text": [
      "0 17 75.00 76.40 0.06 1.03\n"
     ]
    },
    {
     "name": "stderr",
     "output_type": "stream",
     "text": [
      " 38%|███▊      | 19/50 [00:53<01:26,  2.80s/it]"
     ]
    },
    {
     "name": "stdout",
     "output_type": "stream",
     "text": [
      "0 18 69.33 70.40 0.06 1.03\n"
     ]
    },
    {
     "name": "stderr",
     "output_type": "stream",
     "text": [
      " 40%|████      | 20/50 [00:56<01:24,  2.80s/it]"
     ]
    },
    {
     "name": "stdout",
     "output_type": "stream",
     "text": [
      "0 19 68.00 66.40 0.06 1.04\n"
     ]
    },
    {
     "name": "stderr",
     "output_type": "stream",
     "text": [
      " 42%|████▏     | 21/50 [00:58<01:21,  2.80s/it]"
     ]
    },
    {
     "name": "stdout",
     "output_type": "stream",
     "text": [
      "0 20 64.33 64.80 0.06 1.03\n"
     ]
    },
    {
     "name": "stderr",
     "output_type": "stream",
     "text": [
      " 44%|████▍     | 22/50 [01:01<01:18,  2.80s/it]"
     ]
    },
    {
     "name": "stdout",
     "output_type": "stream",
     "text": [
      "0 21 69.67 68.60 0.06 1.03\n"
     ]
    },
    {
     "name": "stderr",
     "output_type": "stream",
     "text": [
      " 46%|████▌     | 23/50 [01:04<01:15,  2.80s/it]"
     ]
    },
    {
     "name": "stdout",
     "output_type": "stream",
     "text": [
      "0 22 64.33 62.80 0.06 1.03\n"
     ]
    },
    {
     "name": "stderr",
     "output_type": "stream",
     "text": [
      " 48%|████▊     | 24/50 [01:07<01:12,  2.80s/it]"
     ]
    },
    {
     "name": "stdout",
     "output_type": "stream",
     "text": [
      "0 23 65.67 64.20 0.06 1.02\n"
     ]
    },
    {
     "name": "stderr",
     "output_type": "stream",
     "text": [
      " 50%|█████     | 25/50 [01:10<01:09,  2.80s/it]"
     ]
    },
    {
     "name": "stdout",
     "output_type": "stream",
     "text": [
      "0 24 83.33 79.80 0.06 1.02\n"
     ]
    },
    {
     "name": "stderr",
     "output_type": "stream",
     "text": [
      " 52%|█████▏    | 26/50 [01:12<01:07,  2.79s/it]"
     ]
    },
    {
     "name": "stdout",
     "output_type": "stream",
     "text": [
      "0 25 66.67 66.20 0.06 1.02\n"
     ]
    },
    {
     "name": "stderr",
     "output_type": "stream",
     "text": [
      " 54%|█████▍    | 27/50 [01:15<01:04,  2.79s/it]"
     ]
    },
    {
     "name": "stdout",
     "output_type": "stream",
     "text": [
      "0 26 69.67 73.40 0.06 1.02\n"
     ]
    },
    {
     "name": "stderr",
     "output_type": "stream",
     "text": [
      " 56%|█████▌    | 28/50 [01:18<01:01,  2.79s/it]"
     ]
    },
    {
     "name": "stdout",
     "output_type": "stream",
     "text": [
      "0 27 70.67 69.60 0.06 1.02\n"
     ]
    },
    {
     "name": "stderr",
     "output_type": "stream",
     "text": [
      " 58%|█████▊    | 29/50 [01:21<00:58,  2.79s/it]"
     ]
    },
    {
     "name": "stdout",
     "output_type": "stream",
     "text": [
      "0 28 60.67 62.00 0.06 1.03\n"
     ]
    },
    {
     "name": "stderr",
     "output_type": "stream",
     "text": [
      " 60%|██████    | 30/50 [01:24<00:55,  2.79s/it]"
     ]
    },
    {
     "name": "stdout",
     "output_type": "stream",
     "text": [
      "0 29 74.67 76.60 0.06 1.02\n"
     ]
    },
    {
     "name": "stderr",
     "output_type": "stream",
     "text": [
      " 62%|██████▏   | 31/50 [01:26<00:53,  2.79s/it]"
     ]
    },
    {
     "name": "stdout",
     "output_type": "stream",
     "text": [
      "0 30 60.67 62.40 0.06 1.03\n"
     ]
    },
    {
     "name": "stderr",
     "output_type": "stream",
     "text": [
      " 64%|██████▍   | 32/50 [01:29<00:50,  2.79s/it]"
     ]
    },
    {
     "name": "stdout",
     "output_type": "stream",
     "text": [
      "0 31 68.67 64.60 0.06 1.02\n"
     ]
    },
    {
     "name": "stderr",
     "output_type": "stream",
     "text": [
      " 66%|██████▌   | 33/50 [01:32<00:47,  2.79s/it]"
     ]
    },
    {
     "name": "stdout",
     "output_type": "stream",
     "text": [
      "0 32 77.00 76.60 0.06 1.02\n"
     ]
    },
    {
     "name": "stderr",
     "output_type": "stream",
     "text": [
      " 68%|██████▊   | 34/50 [01:35<00:44,  2.79s/it]"
     ]
    },
    {
     "name": "stdout",
     "output_type": "stream",
     "text": [
      "0 33 79.33 78.20 0.06 1.02\n"
     ]
    },
    {
     "name": "stderr",
     "output_type": "stream",
     "text": [
      " 70%|███████   | 35/50 [01:38<00:41,  2.79s/it]"
     ]
    },
    {
     "name": "stdout",
     "output_type": "stream",
     "text": [
      "0 34 67.00 64.20 0.06 1.02\n"
     ]
    },
    {
     "name": "stderr",
     "output_type": "stream",
     "text": [
      " 72%|███████▏  | 36/50 [01:40<00:39,  2.79s/it]"
     ]
    },
    {
     "name": "stdout",
     "output_type": "stream",
     "text": [
      "0 35 70.00 71.20 0.06 1.03\n"
     ]
    },
    {
     "name": "stderr",
     "output_type": "stream",
     "text": [
      " 74%|███████▍  | 37/50 [01:43<00:36,  2.79s/it]"
     ]
    },
    {
     "name": "stdout",
     "output_type": "stream",
     "text": [
      "0 36 75.00 70.40 0.06 1.03\n"
     ]
    },
    {
     "name": "stderr",
     "output_type": "stream",
     "text": [
      " 76%|███████▌  | 38/50 [01:46<00:33,  2.79s/it]"
     ]
    },
    {
     "name": "stdout",
     "output_type": "stream",
     "text": [
      "0 37 80.33 77.00 0.06 1.03\n"
     ]
    },
    {
     "name": "stderr",
     "output_type": "stream",
     "text": [
      " 78%|███████▊  | 39/50 [01:49<00:30,  2.79s/it]"
     ]
    },
    {
     "name": "stdout",
     "output_type": "stream",
     "text": [
      "0 38 79.67 77.40 0.06 1.03\n"
     ]
    },
    {
     "name": "stderr",
     "output_type": "stream",
     "text": [
      " 80%|████████  | 40/50 [01:52<00:27,  2.79s/it]"
     ]
    },
    {
     "name": "stdout",
     "output_type": "stream",
     "text": [
      "0 39 74.00 72.60 0.06 1.02\n"
     ]
    },
    {
     "name": "stderr",
     "output_type": "stream",
     "text": [
      " 82%|████████▏ | 41/50 [01:54<00:25,  2.79s/it]"
     ]
    },
    {
     "name": "stdout",
     "output_type": "stream",
     "text": [
      "0 40 67.00 65.80 0.06 1.02\n"
     ]
    },
    {
     "name": "stderr",
     "output_type": "stream",
     "text": [
      " 84%|████████▍ | 42/50 [01:57<00:22,  2.79s/it]"
     ]
    },
    {
     "name": "stdout",
     "output_type": "stream",
     "text": [
      "0 41 67.67 64.60 0.06 1.02\n"
     ]
    },
    {
     "name": "stderr",
     "output_type": "stream",
     "text": [
      " 86%|████████▌ | 43/50 [02:00<00:19,  2.79s/it]"
     ]
    },
    {
     "name": "stdout",
     "output_type": "stream",
     "text": [
      "0 42 72.67 74.20 0.06 1.02\n"
     ]
    },
    {
     "name": "stderr",
     "output_type": "stream",
     "text": [
      " 88%|████████▊ | 44/50 [02:03<00:16,  2.79s/it]"
     ]
    },
    {
     "name": "stdout",
     "output_type": "stream",
     "text": [
      "0 43 70.67 72.80 0.06 1.02\n"
     ]
    },
    {
     "name": "stderr",
     "output_type": "stream",
     "text": [
      " 90%|█████████ | 45/50 [02:05<00:13,  2.79s/it]"
     ]
    },
    {
     "name": "stdout",
     "output_type": "stream",
     "text": [
      "0 44 68.67 72.40 0.06 1.02\n"
     ]
    },
    {
     "name": "stderr",
     "output_type": "stream",
     "text": [
      " 92%|█████████▏| 46/50 [02:08<00:11,  2.79s/it]"
     ]
    },
    {
     "name": "stdout",
     "output_type": "stream",
     "text": [
      "0 45 73.33 76.40 0.06 1.02\n"
     ]
    },
    {
     "name": "stderr",
     "output_type": "stream",
     "text": [
      " 94%|█████████▍| 47/50 [02:11<00:08,  2.79s/it]"
     ]
    },
    {
     "name": "stdout",
     "output_type": "stream",
     "text": [
      "0 46 62.67 62.20 0.06 1.02\n"
     ]
    },
    {
     "name": "stderr",
     "output_type": "stream",
     "text": [
      " 96%|█████████▌| 48/50 [02:14<00:05,  2.79s/it]"
     ]
    },
    {
     "name": "stdout",
     "output_type": "stream",
     "text": [
      "0 47 63.33 62.40 0.06 1.02\n"
     ]
    },
    {
     "name": "stderr",
     "output_type": "stream",
     "text": [
      " 98%|█████████▊| 49/50 [02:17<00:02,  2.79s/it]"
     ]
    },
    {
     "name": "stdout",
     "output_type": "stream",
     "text": [
      "0 48 57.33 58.60 0.06 1.03\n"
     ]
    },
    {
     "name": "stderr",
     "output_type": "stream",
     "text": [
      "100%|██████████| 50/50 [02:19<00:00,  2.80s/it]\n"
     ]
    },
    {
     "name": "stdout",
     "output_type": "stream",
     "text": [
      "0 49 72.33 71.20 0.06 1.02\n",
      "\n",
      "Accuracy over 50 epochs:\n",
      "\n"
     ]
    },
    {
     "name": "stderr",
     "output_type": "stream",
     "text": [
      "  0%|          | 0/50 [00:00<?, ?it/s]"
     ]
    },
    {
     "name": "stdout",
     "output_type": "stream",
     "text": [
      "2023-12-18 17:14:24,256 - tmu.models.classification.base_classification - DEBUG - Initializing clause bank....\n"
     ]
    },
    {
     "name": "stderr",
     "output_type": "stream",
     "text": [
      "  2%|▏         | 1/50 [00:03<02:29,  3.05s/it]"
     ]
    },
    {
     "name": "stdout",
     "output_type": "stream",
     "text": [
      "1 0 49.67 48.60 0.35 1.02\n"
     ]
    },
    {
     "name": "stderr",
     "output_type": "stream",
     "text": [
      "  4%|▍         | 2/50 [00:05<02:18,  2.89s/it]"
     ]
    },
    {
     "name": "stdout",
     "output_type": "stream",
     "text": [
      "1 1 66.00 66.80 0.06 1.02\n"
     ]
    },
    {
     "name": "stderr",
     "output_type": "stream",
     "text": [
      "  6%|▌         | 3/50 [00:08<02:13,  2.85s/it]"
     ]
    },
    {
     "name": "stdout",
     "output_type": "stream",
     "text": [
      "1 2 54.67 54.80 0.06 1.02\n"
     ]
    },
    {
     "name": "stderr",
     "output_type": "stream",
     "text": [
      "  8%|▊         | 4/50 [00:11<02:09,  2.82s/it]"
     ]
    },
    {
     "name": "stdout",
     "output_type": "stream",
     "text": [
      "1 3 67.33 70.80 0.06 1.02\n"
     ]
    },
    {
     "name": "stderr",
     "output_type": "stream",
     "text": [
      " 10%|█         | 5/50 [00:14<02:06,  2.81s/it]"
     ]
    },
    {
     "name": "stdout",
     "output_type": "stream",
     "text": [
      "1 4 80.00 79.00 0.06 1.02\n"
     ]
    },
    {
     "name": "stderr",
     "output_type": "stream",
     "text": [
      " 12%|█▏        | 6/50 [00:16<02:03,  2.80s/it]"
     ]
    },
    {
     "name": "stdout",
     "output_type": "stream",
     "text": [
      "1 5 81.67 80.00 0.06 1.02\n"
     ]
    },
    {
     "name": "stderr",
     "output_type": "stream",
     "text": [
      " 14%|█▍        | 7/50 [00:19<02:00,  2.80s/it]"
     ]
    },
    {
     "name": "stdout",
     "output_type": "stream",
     "text": [
      "1 6 85.00 81.80 0.06 1.02\n"
     ]
    },
    {
     "name": "stderr",
     "output_type": "stream",
     "text": [
      " 16%|█▌        | 8/50 [00:22<01:57,  2.79s/it]"
     ]
    },
    {
     "name": "stdout",
     "output_type": "stream",
     "text": [
      "1 7 73.33 75.40 0.06 1.02\n"
     ]
    },
    {
     "name": "stderr",
     "output_type": "stream",
     "text": [
      " 18%|█▊        | 9/50 [00:25<01:54,  2.79s/it]"
     ]
    },
    {
     "name": "stdout",
     "output_type": "stream",
     "text": [
      "1 8 78.00 77.20 0.06 1.02\n"
     ]
    },
    {
     "name": "stderr",
     "output_type": "stream",
     "text": [
      " 20%|██        | 10/50 [00:28<01:51,  2.79s/it]"
     ]
    },
    {
     "name": "stdout",
     "output_type": "stream",
     "text": [
      "1 9 75.67 78.00 0.06 1.02\n"
     ]
    },
    {
     "name": "stderr",
     "output_type": "stream",
     "text": [
      " 22%|██▏       | 11/50 [00:30<01:48,  2.79s/it]"
     ]
    },
    {
     "name": "stdout",
     "output_type": "stream",
     "text": [
      "1 10 76.33 77.40 0.06 1.03\n"
     ]
    },
    {
     "name": "stderr",
     "output_type": "stream",
     "text": [
      " 24%|██▍       | 12/50 [00:33<01:46,  2.79s/it]"
     ]
    },
    {
     "name": "stdout",
     "output_type": "stream",
     "text": [
      "1 11 74.00 75.40 0.06 1.03\n"
     ]
    },
    {
     "name": "stderr",
     "output_type": "stream",
     "text": [
      " 26%|██▌       | 13/50 [00:36<01:43,  2.79s/it]"
     ]
    },
    {
     "name": "stdout",
     "output_type": "stream",
     "text": [
      "1 12 79.00 82.20 0.06 1.03\n"
     ]
    },
    {
     "name": "stderr",
     "output_type": "stream",
     "text": [
      " 28%|██▊       | 14/50 [00:39<01:40,  2.79s/it]"
     ]
    },
    {
     "name": "stdout",
     "output_type": "stream",
     "text": [
      "1 13 79.00 83.20 0.06 1.03\n"
     ]
    },
    {
     "name": "stderr",
     "output_type": "stream",
     "text": [
      " 30%|███       | 15/50 [00:42<01:37,  2.79s/it]"
     ]
    },
    {
     "name": "stdout",
     "output_type": "stream",
     "text": [
      "1 14 83.00 82.80 0.06 1.03\n"
     ]
    },
    {
     "name": "stderr",
     "output_type": "stream",
     "text": [
      " 32%|███▏      | 16/50 [00:44<01:34,  2.79s/it]"
     ]
    },
    {
     "name": "stdout",
     "output_type": "stream",
     "text": [
      "1 15 80.33 82.80 0.06 1.03\n"
     ]
    },
    {
     "name": "stderr",
     "output_type": "stream",
     "text": [
      " 34%|███▍      | 17/50 [00:47<01:32,  2.79s/it]"
     ]
    },
    {
     "name": "stdout",
     "output_type": "stream",
     "text": [
      "1 16 84.33 84.40 0.06 1.03\n"
     ]
    },
    {
     "name": "stderr",
     "output_type": "stream",
     "text": [
      " 36%|███▌      | 18/50 [00:50<01:29,  2.79s/it]"
     ]
    },
    {
     "name": "stdout",
     "output_type": "stream",
     "text": [
      "1 17 81.67 83.20 0.06 1.03\n"
     ]
    },
    {
     "name": "stderr",
     "output_type": "stream",
     "text": [
      " 38%|███▊      | 19/50 [00:53<01:26,  2.79s/it]"
     ]
    },
    {
     "name": "stdout",
     "output_type": "stream",
     "text": [
      "1 18 83.33 86.40 0.06 1.03\n"
     ]
    },
    {
     "name": "stderr",
     "output_type": "stream",
     "text": [
      " 40%|████      | 20/50 [00:56<01:23,  2.79s/it]"
     ]
    },
    {
     "name": "stdout",
     "output_type": "stream",
     "text": [
      "1 19 77.00 80.80 0.06 1.03\n"
     ]
    },
    {
     "name": "stderr",
     "output_type": "stream",
     "text": [
      " 42%|████▏     | 21/50 [00:58<01:21,  2.79s/it]"
     ]
    },
    {
     "name": "stdout",
     "output_type": "stream",
     "text": [
      "1 20 85.00 85.40 0.06 1.03\n"
     ]
    },
    {
     "name": "stderr",
     "output_type": "stream",
     "text": [
      " 44%|████▍     | 22/50 [01:01<01:18,  2.79s/it]"
     ]
    },
    {
     "name": "stdout",
     "output_type": "stream",
     "text": [
      "1 21 88.33 89.20 0.06 1.02\n"
     ]
    },
    {
     "name": "stderr",
     "output_type": "stream",
     "text": [
      " 46%|████▌     | 23/50 [01:04<01:15,  2.79s/it]"
     ]
    },
    {
     "name": "stdout",
     "output_type": "stream",
     "text": [
      "1 22 82.33 85.40 0.06 1.03\n"
     ]
    },
    {
     "name": "stderr",
     "output_type": "stream",
     "text": [
      " 48%|████▊     | 24/50 [01:07<01:12,  2.79s/it]"
     ]
    },
    {
     "name": "stdout",
     "output_type": "stream",
     "text": [
      "1 23 78.00 80.20 0.06 1.02\n"
     ]
    },
    {
     "name": "stderr",
     "output_type": "stream",
     "text": [
      " 50%|█████     | 25/50 [01:10<01:09,  2.79s/it]"
     ]
    },
    {
     "name": "stdout",
     "output_type": "stream",
     "text": [
      "1 24 84.67 83.60 0.06 1.02\n"
     ]
    },
    {
     "name": "stderr",
     "output_type": "stream",
     "text": [
      " 52%|█████▏    | 26/50 [01:12<01:06,  2.79s/it]"
     ]
    },
    {
     "name": "stdout",
     "output_type": "stream",
     "text": [
      "1 25 86.00 89.20 0.06 1.02\n"
     ]
    },
    {
     "name": "stderr",
     "output_type": "stream",
     "text": [
      " 54%|█████▍    | 27/50 [01:15<01:04,  2.79s/it]"
     ]
    },
    {
     "name": "stdout",
     "output_type": "stream",
     "text": [
      "1 26 83.33 85.00 0.06 1.03\n"
     ]
    },
    {
     "name": "stderr",
     "output_type": "stream",
     "text": [
      " 56%|█████▌    | 28/50 [01:18<01:01,  2.79s/it]"
     ]
    },
    {
     "name": "stdout",
     "output_type": "stream",
     "text": [
      "1 27 76.00 78.40 0.06 1.02\n"
     ]
    },
    {
     "name": "stderr",
     "output_type": "stream",
     "text": [
      " 58%|█████▊    | 29/50 [01:21<00:58,  2.79s/it]"
     ]
    },
    {
     "name": "stdout",
     "output_type": "stream",
     "text": [
      "1 28 79.67 82.80 0.06 1.03\n"
     ]
    },
    {
     "name": "stderr",
     "output_type": "stream",
     "text": [
      " 60%|██████    | 30/50 [01:23<00:55,  2.79s/it]"
     ]
    },
    {
     "name": "stdout",
     "output_type": "stream",
     "text": [
      "1 29 83.00 86.20 0.06 1.03\n"
     ]
    },
    {
     "name": "stderr",
     "output_type": "stream",
     "text": [
      " 62%|██████▏   | 31/50 [01:26<00:53,  2.79s/it]"
     ]
    },
    {
     "name": "stdout",
     "output_type": "stream",
     "text": [
      "1 30 82.67 86.80 0.06 1.03\n"
     ]
    },
    {
     "name": "stderr",
     "output_type": "stream",
     "text": [
      " 64%|██████▍   | 32/50 [01:29<00:50,  2.79s/it]"
     ]
    },
    {
     "name": "stdout",
     "output_type": "stream",
     "text": [
      "1 31 79.67 83.00 0.06 1.03\n"
     ]
    },
    {
     "name": "stderr",
     "output_type": "stream",
     "text": [
      " 66%|██████▌   | 33/50 [01:32<00:47,  2.79s/it]"
     ]
    },
    {
     "name": "stdout",
     "output_type": "stream",
     "text": [
      "1 32 86.33 88.80 0.06 1.03\n"
     ]
    },
    {
     "name": "stderr",
     "output_type": "stream",
     "text": [
      " 68%|██████▊   | 34/50 [01:35<00:44,  2.79s/it]"
     ]
    },
    {
     "name": "stdout",
     "output_type": "stream",
     "text": [
      "1 33 75.67 78.00 0.06 1.03\n"
     ]
    },
    {
     "name": "stderr",
     "output_type": "stream",
     "text": [
      " 70%|███████   | 35/50 [01:37<00:41,  2.79s/it]"
     ]
    },
    {
     "name": "stdout",
     "output_type": "stream",
     "text": [
      "1 34 83.67 84.20 0.06 1.02\n"
     ]
    },
    {
     "name": "stderr",
     "output_type": "stream",
     "text": [
      " 72%|███████▏  | 36/50 [01:40<00:39,  2.79s/it]"
     ]
    },
    {
     "name": "stdout",
     "output_type": "stream",
     "text": [
      "1 35 87.00 86.40 0.06 1.03\n"
     ]
    },
    {
     "name": "stderr",
     "output_type": "stream",
     "text": [
      " 74%|███████▍  | 37/50 [01:43<00:36,  2.79s/it]"
     ]
    },
    {
     "name": "stdout",
     "output_type": "stream",
     "text": [
      "1 36 83.67 84.00 0.06 1.03\n"
     ]
    },
    {
     "name": "stderr",
     "output_type": "stream",
     "text": [
      " 76%|███████▌  | 38/50 [01:46<00:33,  2.79s/it]"
     ]
    },
    {
     "name": "stdout",
     "output_type": "stream",
     "text": [
      "1 37 81.67 84.60 0.06 1.03\n"
     ]
    },
    {
     "name": "stderr",
     "output_type": "stream",
     "text": [
      " 78%|███████▊  | 39/50 [01:49<00:30,  2.79s/it]"
     ]
    },
    {
     "name": "stdout",
     "output_type": "stream",
     "text": [
      "1 38 83.67 87.20 0.06 1.03\n"
     ]
    },
    {
     "name": "stderr",
     "output_type": "stream",
     "text": [
      " 80%|████████  | 40/50 [01:51<00:27,  2.80s/it]"
     ]
    },
    {
     "name": "stdout",
     "output_type": "stream",
     "text": [
      "1 39 83.67 86.40 0.06 1.03\n"
     ]
    },
    {
     "name": "stderr",
     "output_type": "stream",
     "text": [
      " 82%|████████▏ | 41/50 [01:54<00:25,  2.80s/it]"
     ]
    },
    {
     "name": "stdout",
     "output_type": "stream",
     "text": [
      "1 40 75.67 76.00 0.06 1.03\n"
     ]
    },
    {
     "name": "stderr",
     "output_type": "stream",
     "text": [
      " 84%|████████▍ | 42/50 [01:57<00:22,  2.80s/it]"
     ]
    },
    {
     "name": "stdout",
     "output_type": "stream",
     "text": [
      "1 41 79.33 79.80 0.06 1.02\n"
     ]
    },
    {
     "name": "stderr",
     "output_type": "stream",
     "text": [
      " 86%|████████▌ | 43/50 [02:00<00:19,  2.79s/it]"
     ]
    },
    {
     "name": "stdout",
     "output_type": "stream",
     "text": [
      "1 42 86.33 87.00 0.06 1.02\n"
     ]
    },
    {
     "name": "stderr",
     "output_type": "stream",
     "text": [
      " 88%|████████▊ | 44/50 [02:03<00:16,  2.79s/it]"
     ]
    },
    {
     "name": "stdout",
     "output_type": "stream",
     "text": [
      "1 43 85.33 85.40 0.06 1.03\n"
     ]
    },
    {
     "name": "stderr",
     "output_type": "stream",
     "text": [
      " 90%|█████████ | 45/50 [02:05<00:13,  2.79s/it]"
     ]
    },
    {
     "name": "stdout",
     "output_type": "stream",
     "text": [
      "1 44 85.00 86.80 0.06 1.02\n"
     ]
    },
    {
     "name": "stderr",
     "output_type": "stream",
     "text": [
      " 92%|█████████▏| 46/50 [02:08<00:11,  2.79s/it]"
     ]
    },
    {
     "name": "stdout",
     "output_type": "stream",
     "text": [
      "1 45 84.33 87.40 0.06 1.03\n"
     ]
    },
    {
     "name": "stderr",
     "output_type": "stream",
     "text": [
      " 94%|█████████▍| 47/50 [02:11<00:08,  2.79s/it]"
     ]
    },
    {
     "name": "stdout",
     "output_type": "stream",
     "text": [
      "1 46 70.00 68.80 0.06 1.03\n"
     ]
    },
    {
     "name": "stderr",
     "output_type": "stream",
     "text": [
      " 96%|█████████▌| 48/50 [02:14<00:05,  2.79s/it]"
     ]
    },
    {
     "name": "stdout",
     "output_type": "stream",
     "text": [
      "1 47 86.67 89.40 0.06 1.02\n"
     ]
    },
    {
     "name": "stderr",
     "output_type": "stream",
     "text": [
      " 98%|█████████▊| 49/50 [02:17<00:02,  2.79s/it]"
     ]
    },
    {
     "name": "stdout",
     "output_type": "stream",
     "text": [
      "1 48 82.67 83.40 0.06 1.03\n"
     ]
    },
    {
     "name": "stderr",
     "output_type": "stream",
     "text": [
      "100%|██████████| 50/50 [02:19<00:00,  2.80s/it]\n"
     ]
    },
    {
     "name": "stdout",
     "output_type": "stream",
     "text": [
      "1 49 83.33 82.60 0.06 1.03\n",
      "\n",
      "Accuracy over 50 epochs:\n",
      "\n"
     ]
    },
    {
     "name": "stderr",
     "output_type": "stream",
     "text": [
      "  0%|          | 0/50 [00:00<?, ?it/s]"
     ]
    },
    {
     "name": "stdout",
     "output_type": "stream",
     "text": [
      "2023-12-18 17:16:44,132 - tmu.models.classification.base_classification - DEBUG - Initializing clause bank....\n"
     ]
    },
    {
     "name": "stderr",
     "output_type": "stream",
     "text": [
      "  2%|▏         | 1/50 [00:03<02:29,  3.05s/it]"
     ]
    },
    {
     "name": "stdout",
     "output_type": "stream",
     "text": [
      "2 0 64.33 62.40 0.34 1.01\n"
     ]
    },
    {
     "name": "stderr",
     "output_type": "stream",
     "text": [
      "  4%|▍         | 2/50 [00:05<02:18,  2.89s/it]"
     ]
    },
    {
     "name": "stdout",
     "output_type": "stream",
     "text": [
      "2 1 71.00 71.00 0.06 1.02\n"
     ]
    },
    {
     "name": "stderr",
     "output_type": "stream",
     "text": [
      "  6%|▌         | 3/50 [00:08<02:13,  2.84s/it]"
     ]
    },
    {
     "name": "stdout",
     "output_type": "stream",
     "text": [
      "2 2 87.33 84.80 0.06 1.02\n"
     ]
    },
    {
     "name": "stderr",
     "output_type": "stream",
     "text": [
      "  8%|▊         | 4/50 [00:11<02:09,  2.82s/it]"
     ]
    },
    {
     "name": "stdout",
     "output_type": "stream",
     "text": [
      "2 3 73.67 73.40 0.06 1.03\n"
     ]
    },
    {
     "name": "stderr",
     "output_type": "stream",
     "text": [
      " 10%|█         | 5/50 [00:14<02:06,  2.81s/it]"
     ]
    },
    {
     "name": "stdout",
     "output_type": "stream",
     "text": [
      "2 4 84.67 84.00 0.06 1.02\n"
     ]
    },
    {
     "name": "stderr",
     "output_type": "stream",
     "text": [
      " 12%|█▏        | 6/50 [00:16<02:03,  2.81s/it]"
     ]
    },
    {
     "name": "stdout",
     "output_type": "stream",
     "text": [
      "2 5 75.33 75.20 0.06 1.03\n"
     ]
    },
    {
     "name": "stderr",
     "output_type": "stream",
     "text": [
      " 14%|█▍        | 7/50 [00:19<02:00,  2.80s/it]"
     ]
    },
    {
     "name": "stdout",
     "output_type": "stream",
     "text": [
      "2 6 76.67 78.80 0.06 1.03\n"
     ]
    },
    {
     "name": "stderr",
     "output_type": "stream",
     "text": [
      " 16%|█▌        | 8/50 [00:22<01:57,  2.80s/it]"
     ]
    },
    {
     "name": "stdout",
     "output_type": "stream",
     "text": [
      "2 7 75.00 76.80 0.06 1.02\n"
     ]
    },
    {
     "name": "stderr",
     "output_type": "stream",
     "text": [
      " 18%|█▊        | 9/50 [00:25<01:54,  2.79s/it]"
     ]
    },
    {
     "name": "stdout",
     "output_type": "stream",
     "text": [
      "2 8 84.67 85.60 0.06 1.02\n"
     ]
    },
    {
     "name": "stderr",
     "output_type": "stream",
     "text": [
      " 20%|██        | 10/50 [00:28<01:51,  2.79s/it]"
     ]
    },
    {
     "name": "stdout",
     "output_type": "stream",
     "text": [
      "2 9 78.00 78.60 0.05 1.02\n"
     ]
    },
    {
     "name": "stderr",
     "output_type": "stream",
     "text": [
      " 22%|██▏       | 11/50 [00:30<01:48,  2.79s/it]"
     ]
    },
    {
     "name": "stdout",
     "output_type": "stream",
     "text": [
      "2 10 82.67 87.80 0.06 1.02\n"
     ]
    },
    {
     "name": "stderr",
     "output_type": "stream",
     "text": [
      " 24%|██▍       | 12/50 [00:33<01:46,  2.79s/it]"
     ]
    },
    {
     "name": "stdout",
     "output_type": "stream",
     "text": [
      "2 11 74.33 74.80 0.05 1.02\n"
     ]
    },
    {
     "name": "stderr",
     "output_type": "stream",
     "text": [
      " 26%|██▌       | 13/50 [00:36<01:43,  2.79s/it]"
     ]
    },
    {
     "name": "stdout",
     "output_type": "stream",
     "text": [
      "2 12 81.00 86.00 0.06 1.03\n"
     ]
    },
    {
     "name": "stderr",
     "output_type": "stream",
     "text": [
      " 28%|██▊       | 14/50 [00:39<01:40,  2.79s/it]"
     ]
    },
    {
     "name": "stdout",
     "output_type": "stream",
     "text": [
      "2 13 76.33 81.80 0.06 1.03\n"
     ]
    },
    {
     "name": "stderr",
     "output_type": "stream",
     "text": [
      " 30%|███       | 15/50 [00:42<01:37,  2.79s/it]"
     ]
    },
    {
     "name": "stdout",
     "output_type": "stream",
     "text": [
      "2 14 87.33 88.00 0.06 1.02\n"
     ]
    },
    {
     "name": "stderr",
     "output_type": "stream",
     "text": [
      " 32%|███▏      | 16/50 [00:44<01:34,  2.78s/it]"
     ]
    },
    {
     "name": "stdout",
     "output_type": "stream",
     "text": [
      "2 15 75.33 76.00 0.06 1.02\n"
     ]
    },
    {
     "name": "stderr",
     "output_type": "stream",
     "text": [
      " 34%|███▍      | 17/50 [00:47<01:31,  2.78s/it]"
     ]
    },
    {
     "name": "stdout",
     "output_type": "stream",
     "text": [
      "2 16 84.67 88.00 0.06 1.02\n"
     ]
    },
    {
     "name": "stderr",
     "output_type": "stream",
     "text": [
      " 36%|███▌      | 18/50 [00:50<01:29,  2.78s/it]"
     ]
    },
    {
     "name": "stdout",
     "output_type": "stream",
     "text": [
      "2 17 76.00 75.60 0.06 1.02\n"
     ]
    },
    {
     "name": "stderr",
     "output_type": "stream",
     "text": [
      " 38%|███▊      | 19/50 [00:53<01:26,  2.78s/it]"
     ]
    },
    {
     "name": "stdout",
     "output_type": "stream",
     "text": [
      "2 18 83.00 85.20 0.06 1.03\n"
     ]
    },
    {
     "name": "stderr",
     "output_type": "stream",
     "text": [
      " 40%|████      | 20/50 [00:55<01:23,  2.78s/it]"
     ]
    },
    {
     "name": "stdout",
     "output_type": "stream",
     "text": [
      "2 19 81.00 83.20 0.06 1.02\n"
     ]
    },
    {
     "name": "stderr",
     "output_type": "stream",
     "text": [
      " 42%|████▏     | 21/50 [00:58<01:20,  2.78s/it]"
     ]
    },
    {
     "name": "stdout",
     "output_type": "stream",
     "text": [
      "2 20 80.00 84.40 0.06 1.02\n"
     ]
    },
    {
     "name": "stderr",
     "output_type": "stream",
     "text": [
      " 44%|████▍     | 22/50 [01:01<01:17,  2.78s/it]"
     ]
    },
    {
     "name": "stdout",
     "output_type": "stream",
     "text": [
      "2 21 82.33 87.60 0.06 1.02\n"
     ]
    },
    {
     "name": "stderr",
     "output_type": "stream",
     "text": [
      " 46%|████▌     | 23/50 [01:04<01:15,  2.78s/it]"
     ]
    },
    {
     "name": "stdout",
     "output_type": "stream",
     "text": [
      "2 22 82.00 85.20 0.06 1.03\n"
     ]
    },
    {
     "name": "stderr",
     "output_type": "stream",
     "text": [
      " 48%|████▊     | 24/50 [01:07<01:12,  2.78s/it]"
     ]
    },
    {
     "name": "stdout",
     "output_type": "stream",
     "text": [
      "2 23 81.67 84.00 0.06 1.02\n"
     ]
    },
    {
     "name": "stderr",
     "output_type": "stream",
     "text": [
      " 50%|█████     | 25/50 [01:09<01:09,  2.78s/it]"
     ]
    },
    {
     "name": "stdout",
     "output_type": "stream",
     "text": [
      "2 24 84.33 87.80 0.06 1.02\n"
     ]
    },
    {
     "name": "stderr",
     "output_type": "stream",
     "text": [
      " 52%|█████▏    | 26/50 [01:12<01:06,  2.78s/it]"
     ]
    },
    {
     "name": "stdout",
     "output_type": "stream",
     "text": [
      "2 25 85.67 89.40 0.06 1.02\n"
     ]
    },
    {
     "name": "stderr",
     "output_type": "stream",
     "text": [
      " 54%|█████▍    | 27/50 [01:15<01:04,  2.78s/it]"
     ]
    },
    {
     "name": "stdout",
     "output_type": "stream",
     "text": [
      "2 26 86.33 89.20 0.06 1.02\n"
     ]
    },
    {
     "name": "stderr",
     "output_type": "stream",
     "text": [
      " 56%|█████▌    | 28/50 [01:18<01:01,  2.78s/it]"
     ]
    },
    {
     "name": "stdout",
     "output_type": "stream",
     "text": [
      "2 27 88.33 89.20 0.06 1.02\n"
     ]
    },
    {
     "name": "stderr",
     "output_type": "stream",
     "text": [
      " 58%|█████▊    | 29/50 [01:21<00:58,  2.78s/it]"
     ]
    },
    {
     "name": "stdout",
     "output_type": "stream",
     "text": [
      "2 28 88.67 90.60 0.06 1.02\n"
     ]
    },
    {
     "name": "stderr",
     "output_type": "stream",
     "text": [
      " 60%|██████    | 30/50 [01:23<00:55,  2.78s/it]"
     ]
    },
    {
     "name": "stdout",
     "output_type": "stream",
     "text": [
      "2 29 79.67 78.00 0.06 1.02\n"
     ]
    },
    {
     "name": "stderr",
     "output_type": "stream",
     "text": [
      " 62%|██████▏   | 31/50 [01:26<00:52,  2.78s/it]"
     ]
    },
    {
     "name": "stdout",
     "output_type": "stream",
     "text": [
      "2 30 75.00 75.00 0.06 1.02\n"
     ]
    },
    {
     "name": "stderr",
     "output_type": "stream",
     "text": [
      " 64%|██████▍   | 32/50 [01:29<00:50,  2.78s/it]"
     ]
    },
    {
     "name": "stdout",
     "output_type": "stream",
     "text": [
      "2 31 87.67 89.00 0.06 1.03\n"
     ]
    },
    {
     "name": "stderr",
     "output_type": "stream",
     "text": [
      " 66%|██████▌   | 33/50 [01:32<00:47,  2.78s/it]"
     ]
    },
    {
     "name": "stdout",
     "output_type": "stream",
     "text": [
      "2 32 84.33 84.80 0.06 1.02\n"
     ]
    },
    {
     "name": "stderr",
     "output_type": "stream",
     "text": [
      " 68%|██████▊   | 34/50 [01:34<00:44,  2.79s/it]"
     ]
    },
    {
     "name": "stdout",
     "output_type": "stream",
     "text": [
      "2 33 88.67 90.80 0.06 1.02\n"
     ]
    },
    {
     "name": "stderr",
     "output_type": "stream",
     "text": [
      " 70%|███████   | 35/50 [01:37<00:41,  2.78s/it]"
     ]
    },
    {
     "name": "stdout",
     "output_type": "stream",
     "text": [
      "2 34 88.67 90.40 0.06 1.02\n"
     ]
    },
    {
     "name": "stderr",
     "output_type": "stream",
     "text": [
      " 72%|███████▏  | 36/50 [01:40<00:38,  2.78s/it]"
     ]
    },
    {
     "name": "stdout",
     "output_type": "stream",
     "text": [
      "2 35 50.00 50.00 0.06 1.02\n"
     ]
    },
    {
     "name": "stderr",
     "output_type": "stream",
     "text": [
      " 74%|███████▍  | 37/50 [01:43<00:36,  2.78s/it]"
     ]
    },
    {
     "name": "stdout",
     "output_type": "stream",
     "text": [
      "2 36 87.33 90.40 0.06 1.02\n"
     ]
    },
    {
     "name": "stderr",
     "output_type": "stream",
     "text": [
      " 76%|███████▌  | 38/50 [01:46<00:33,  2.78s/it]"
     ]
    },
    {
     "name": "stdout",
     "output_type": "stream",
     "text": [
      "2 37 85.67 83.80 0.05 1.02\n"
     ]
    },
    {
     "name": "stderr",
     "output_type": "stream",
     "text": [
      " 78%|███████▊  | 39/50 [01:48<00:30,  2.78s/it]"
     ]
    },
    {
     "name": "stdout",
     "output_type": "stream",
     "text": [
      "2 38 90.00 90.60 0.06 1.02\n"
     ]
    },
    {
     "name": "stderr",
     "output_type": "stream",
     "text": [
      " 80%|████████  | 40/50 [01:51<00:27,  2.78s/it]"
     ]
    },
    {
     "name": "stdout",
     "output_type": "stream",
     "text": [
      "2 39 81.33 82.60 0.05 1.02\n"
     ]
    },
    {
     "name": "stderr",
     "output_type": "stream",
     "text": [
      " 82%|████████▏ | 41/50 [01:54<00:25,  2.78s/it]"
     ]
    },
    {
     "name": "stdout",
     "output_type": "stream",
     "text": [
      "2 40 77.67 79.60 0.05 1.02\n"
     ]
    },
    {
     "name": "stderr",
     "output_type": "stream",
     "text": [
      " 84%|████████▍ | 42/50 [01:57<00:22,  2.78s/it]"
     ]
    },
    {
     "name": "stdout",
     "output_type": "stream",
     "text": [
      "2 41 88.33 89.80 0.06 1.02\n"
     ]
    },
    {
     "name": "stderr",
     "output_type": "stream",
     "text": [
      " 86%|████████▌ | 43/50 [01:59<00:19,  2.78s/it]"
     ]
    },
    {
     "name": "stdout",
     "output_type": "stream",
     "text": [
      "2 42 88.67 91.40 0.05 1.02\n"
     ]
    },
    {
     "name": "stderr",
     "output_type": "stream",
     "text": [
      " 88%|████████▊ | 44/50 [02:02<00:16,  2.78s/it]"
     ]
    },
    {
     "name": "stdout",
     "output_type": "stream",
     "text": [
      "2 43 89.00 89.00 0.06 1.02\n"
     ]
    },
    {
     "name": "stderr",
     "output_type": "stream",
     "text": [
      " 90%|█████████ | 45/50 [02:05<00:13,  2.78s/it]"
     ]
    },
    {
     "name": "stdout",
     "output_type": "stream",
     "text": [
      "2 44 90.67 91.00 0.06 1.02\n"
     ]
    },
    {
     "name": "stderr",
     "output_type": "stream",
     "text": [
      " 92%|█████████▏| 46/50 [02:08<00:11,  2.79s/it]"
     ]
    },
    {
     "name": "stdout",
     "output_type": "stream",
     "text": [
      "2 45 90.00 89.80 0.05 1.02\n"
     ]
    },
    {
     "name": "stderr",
     "output_type": "stream",
     "text": [
      " 94%|█████████▍| 47/50 [02:11<00:08,  2.79s/it]"
     ]
    },
    {
     "name": "stdout",
     "output_type": "stream",
     "text": [
      "2 46 88.00 89.00 0.06 1.03\n"
     ]
    },
    {
     "name": "stderr",
     "output_type": "stream",
     "text": [
      " 96%|█████████▌| 48/50 [02:13<00:05,  2.79s/it]"
     ]
    },
    {
     "name": "stdout",
     "output_type": "stream",
     "text": [
      "2 47 80.33 78.60 0.06 1.02\n"
     ]
    },
    {
     "name": "stderr",
     "output_type": "stream",
     "text": [
      " 98%|█████████▊| 49/50 [02:16<00:02,  2.79s/it]"
     ]
    },
    {
     "name": "stdout",
     "output_type": "stream",
     "text": [
      "2 48 81.67 82.20 0.06 1.02\n"
     ]
    },
    {
     "name": "stderr",
     "output_type": "stream",
     "text": [
      "100%|██████████| 50/50 [02:19<00:00,  2.79s/it]\n"
     ]
    },
    {
     "name": "stdout",
     "output_type": "stream",
     "text": [
      "2 49 87.67 89.20 0.06 1.02\n",
      "\n",
      "Accuracy over 50 epochs:\n",
      "\n"
     ]
    },
    {
     "name": "stderr",
     "output_type": "stream",
     "text": [
      "  0%|          | 0/50 [00:00<?, ?it/s]"
     ]
    },
    {
     "name": "stdout",
     "output_type": "stream",
     "text": [
      "2023-12-18 17:19:03,633 - tmu.models.classification.base_classification - DEBUG - Initializing clause bank....\n"
     ]
    },
    {
     "name": "stderr",
     "output_type": "stream",
     "text": [
      "  2%|▏         | 1/50 [00:03<02:30,  3.07s/it]"
     ]
    },
    {
     "name": "stdout",
     "output_type": "stream",
     "text": [
      "3 0 56.00 52.20 0.35 1.02\n"
     ]
    },
    {
     "name": "stderr",
     "output_type": "stream",
     "text": [
      "  4%|▍         | 2/50 [00:05<02:19,  2.91s/it]"
     ]
    },
    {
     "name": "stdout",
     "output_type": "stream",
     "text": [
      "3 1 61.33 61.00 0.06 1.02\n"
     ]
    },
    {
     "name": "stderr",
     "output_type": "stream",
     "text": [
      "  6%|▌         | 3/50 [00:08<02:14,  2.86s/it]"
     ]
    },
    {
     "name": "stdout",
     "output_type": "stream",
     "text": [
      "3 2 63.67 63.20 0.06 1.03\n"
     ]
    },
    {
     "name": "stderr",
     "output_type": "stream",
     "text": [
      "  8%|▊         | 4/50 [00:11<02:10,  2.83s/it]"
     ]
    },
    {
     "name": "stdout",
     "output_type": "stream",
     "text": [
      "3 3 60.67 59.60 0.06 1.02\n"
     ]
    },
    {
     "name": "stderr",
     "output_type": "stream",
     "text": [
      " 10%|█         | 5/50 [00:14<02:06,  2.82s/it]"
     ]
    },
    {
     "name": "stdout",
     "output_type": "stream",
     "text": [
      "3 4 62.67 63.80 0.06 1.02\n"
     ]
    },
    {
     "name": "stderr",
     "output_type": "stream",
     "text": [
      " 12%|█▏        | 6/50 [00:17<02:03,  2.81s/it]"
     ]
    },
    {
     "name": "stdout",
     "output_type": "stream",
     "text": [
      "3 5 68.00 69.80 0.06 1.02\n"
     ]
    },
    {
     "name": "stderr",
     "output_type": "stream",
     "text": [
      " 14%|█▍        | 7/50 [00:19<02:00,  2.80s/it]"
     ]
    },
    {
     "name": "stdout",
     "output_type": "stream",
     "text": [
      "3 6 72.33 70.40 0.06 1.02\n"
     ]
    },
    {
     "name": "stderr",
     "output_type": "stream",
     "text": [
      " 16%|█▌        | 8/50 [00:22<01:57,  2.80s/it]"
     ]
    },
    {
     "name": "stdout",
     "output_type": "stream",
     "text": [
      "3 7 65.33 66.40 0.06 1.02\n"
     ]
    },
    {
     "name": "stderr",
     "output_type": "stream",
     "text": [
      " 18%|█▊        | 9/50 [00:25<01:54,  2.79s/it]"
     ]
    },
    {
     "name": "stdout",
     "output_type": "stream",
     "text": [
      "3 8 63.33 63.00 0.06 1.02\n"
     ]
    },
    {
     "name": "stderr",
     "output_type": "stream",
     "text": [
      " 20%|██        | 10/50 [00:28<01:51,  2.79s/it]"
     ]
    },
    {
     "name": "stdout",
     "output_type": "stream",
     "text": [
      "3 9 73.00 72.00 0.06 1.02\n"
     ]
    },
    {
     "name": "stderr",
     "output_type": "stream",
     "text": [
      " 22%|██▏       | 11/50 [00:30<01:48,  2.79s/it]"
     ]
    },
    {
     "name": "stdout",
     "output_type": "stream",
     "text": [
      "3 10 61.33 61.20 0.06 1.02\n"
     ]
    },
    {
     "name": "stderr",
     "output_type": "stream",
     "text": [
      " 24%|██▍       | 12/50 [00:33<01:46,  2.79s/it]"
     ]
    },
    {
     "name": "stdout",
     "output_type": "stream",
     "text": [
      "3 11 58.67 58.40 0.06 1.03\n"
     ]
    },
    {
     "name": "stderr",
     "output_type": "stream",
     "text": [
      " 26%|██▌       | 13/50 [00:36<01:43,  2.79s/it]"
     ]
    },
    {
     "name": "stdout",
     "output_type": "stream",
     "text": [
      "3 12 54.33 53.40 0.06 1.02\n"
     ]
    },
    {
     "name": "stderr",
     "output_type": "stream",
     "text": [
      " 28%|██▊       | 14/50 [00:39<01:40,  2.79s/it]"
     ]
    },
    {
     "name": "stdout",
     "output_type": "stream",
     "text": [
      "3 13 73.67 73.20 0.06 1.03\n"
     ]
    },
    {
     "name": "stderr",
     "output_type": "stream",
     "text": [
      " 30%|███       | 15/50 [00:42<01:37,  2.79s/it]"
     ]
    },
    {
     "name": "stdout",
     "output_type": "stream",
     "text": [
      "3 14 68.67 69.80 0.06 1.03\n"
     ]
    },
    {
     "name": "stderr",
     "output_type": "stream",
     "text": [
      " 32%|███▏      | 16/50 [00:44<01:34,  2.79s/it]"
     ]
    },
    {
     "name": "stdout",
     "output_type": "stream",
     "text": [
      "3 15 60.33 56.20 0.06 1.02\n"
     ]
    },
    {
     "name": "stderr",
     "output_type": "stream",
     "text": [
      " 34%|███▍      | 17/50 [00:47<01:32,  2.79s/it]"
     ]
    },
    {
     "name": "stdout",
     "output_type": "stream",
     "text": [
      "3 16 66.00 68.00 0.06 1.02\n"
     ]
    },
    {
     "name": "stderr",
     "output_type": "stream",
     "text": [
      " 36%|███▌      | 18/50 [00:50<01:29,  2.79s/it]"
     ]
    },
    {
     "name": "stdout",
     "output_type": "stream",
     "text": [
      "3 17 74.33 71.80 0.06 1.02\n"
     ]
    },
    {
     "name": "stderr",
     "output_type": "stream",
     "text": [
      " 38%|███▊      | 19/50 [00:53<01:26,  2.80s/it]"
     ]
    },
    {
     "name": "stdout",
     "output_type": "stream",
     "text": [
      "3 18 73.33 72.40 0.06 1.03\n"
     ]
    },
    {
     "name": "stderr",
     "output_type": "stream",
     "text": [
      " 40%|████      | 20/50 [00:56<01:23,  2.80s/it]"
     ]
    },
    {
     "name": "stdout",
     "output_type": "stream",
     "text": [
      "3 19 69.33 71.00 0.06 1.03\n"
     ]
    },
    {
     "name": "stderr",
     "output_type": "stream",
     "text": [
      " 42%|████▏     | 21/50 [00:58<01:21,  2.80s/it]"
     ]
    },
    {
     "name": "stdout",
     "output_type": "stream",
     "text": [
      "3 20 70.67 73.40 0.06 1.03\n"
     ]
    },
    {
     "name": "stderr",
     "output_type": "stream",
     "text": [
      " 44%|████▍     | 22/50 [01:01<01:18,  2.80s/it]"
     ]
    },
    {
     "name": "stdout",
     "output_type": "stream",
     "text": [
      "3 21 70.33 71.60 0.06 1.03\n"
     ]
    },
    {
     "name": "stderr",
     "output_type": "stream",
     "text": [
      " 46%|████▌     | 23/50 [01:04<01:15,  2.80s/it]"
     ]
    },
    {
     "name": "stdout",
     "output_type": "stream",
     "text": [
      "3 22 76.00 73.80 0.06 1.03\n"
     ]
    },
    {
     "name": "stderr",
     "output_type": "stream",
     "text": [
      " 48%|████▊     | 24/50 [01:07<01:12,  2.79s/it]"
     ]
    },
    {
     "name": "stdout",
     "output_type": "stream",
     "text": [
      "3 23 68.33 68.60 0.06 1.02\n"
     ]
    },
    {
     "name": "stderr",
     "output_type": "stream",
     "text": [
      " 50%|█████     | 25/50 [01:10<01:09,  2.79s/it]"
     ]
    },
    {
     "name": "stdout",
     "output_type": "stream",
     "text": [
      "3 24 57.67 57.20 0.06 1.03\n"
     ]
    },
    {
     "name": "stderr",
     "output_type": "stream",
     "text": [
      " 52%|█████▏    | 26/50 [01:12<01:07,  2.80s/it]"
     ]
    },
    {
     "name": "stdout",
     "output_type": "stream",
     "text": [
      "3 25 66.33 66.60 0.06 1.03\n"
     ]
    },
    {
     "name": "stderr",
     "output_type": "stream",
     "text": [
      " 54%|█████▍    | 27/50 [01:15<01:04,  2.80s/it]"
     ]
    },
    {
     "name": "stdout",
     "output_type": "stream",
     "text": [
      "3 26 60.33 60.20 0.06 1.02\n"
     ]
    },
    {
     "name": "stderr",
     "output_type": "stream",
     "text": [
      " 56%|█████▌    | 28/50 [01:18<01:01,  2.79s/it]"
     ]
    },
    {
     "name": "stdout",
     "output_type": "stream",
     "text": [
      "3 27 64.00 64.00 0.06 1.02\n"
     ]
    },
    {
     "name": "stderr",
     "output_type": "stream",
     "text": [
      " 58%|█████▊    | 29/50 [01:21<00:58,  2.80s/it]"
     ]
    },
    {
     "name": "stdout",
     "output_type": "stream",
     "text": [
      "3 28 66.33 64.40 0.06 1.02\n"
     ]
    },
    {
     "name": "stderr",
     "output_type": "stream",
     "text": [
      " 60%|██████    | 30/50 [01:24<00:55,  2.80s/it]"
     ]
    },
    {
     "name": "stdout",
     "output_type": "stream",
     "text": [
      "3 29 75.00 74.20 0.06 1.03\n"
     ]
    },
    {
     "name": "stderr",
     "output_type": "stream",
     "text": [
      " 62%|██████▏   | 31/50 [01:26<00:53,  2.80s/it]"
     ]
    },
    {
     "name": "stdout",
     "output_type": "stream",
     "text": [
      "3 30 71.33 69.60 0.06 1.02\n"
     ]
    },
    {
     "name": "stderr",
     "output_type": "stream",
     "text": [
      " 64%|██████▍   | 32/50 [01:29<00:50,  2.79s/it]"
     ]
    },
    {
     "name": "stdout",
     "output_type": "stream",
     "text": [
      "3 31 56.33 54.80 0.06 1.02\n"
     ]
    },
    {
     "name": "stderr",
     "output_type": "stream",
     "text": [
      " 66%|██████▌   | 33/50 [01:32<00:47,  2.79s/it]"
     ]
    },
    {
     "name": "stdout",
     "output_type": "stream",
     "text": [
      "3 32 64.67 67.20 0.06 1.03\n"
     ]
    },
    {
     "name": "stderr",
     "output_type": "stream",
     "text": [
      " 68%|██████▊   | 34/50 [01:35<00:44,  2.79s/it]"
     ]
    },
    {
     "name": "stdout",
     "output_type": "stream",
     "text": [
      "3 33 76.00 75.40 0.06 1.03\n"
     ]
    },
    {
     "name": "stderr",
     "output_type": "stream",
     "text": [
      " 70%|███████   | 35/50 [01:38<00:41,  2.79s/it]"
     ]
    },
    {
     "name": "stdout",
     "output_type": "stream",
     "text": [
      "3 34 71.00 70.80 0.06 1.02\n"
     ]
    },
    {
     "name": "stderr",
     "output_type": "stream",
     "text": [
      " 72%|███████▏  | 36/50 [01:40<00:39,  2.79s/it]"
     ]
    },
    {
     "name": "stdout",
     "output_type": "stream",
     "text": [
      "3 35 74.00 72.80 0.06 1.02\n"
     ]
    },
    {
     "name": "stderr",
     "output_type": "stream",
     "text": [
      " 74%|███████▍  | 37/50 [01:43<00:36,  2.79s/it]"
     ]
    },
    {
     "name": "stdout",
     "output_type": "stream",
     "text": [
      "3 36 66.67 66.00 0.06 1.03\n"
     ]
    },
    {
     "name": "stderr",
     "output_type": "stream",
     "text": [
      " 76%|███████▌  | 38/50 [01:46<00:33,  2.79s/it]"
     ]
    },
    {
     "name": "stdout",
     "output_type": "stream",
     "text": [
      "3 37 69.33 70.20 0.06 1.03\n"
     ]
    },
    {
     "name": "stderr",
     "output_type": "stream",
     "text": [
      " 78%|███████▊  | 39/50 [01:49<00:30,  2.80s/it]"
     ]
    },
    {
     "name": "stdout",
     "output_type": "stream",
     "text": [
      "3 38 73.33 72.00 0.06 1.02\n"
     ]
    },
    {
     "name": "stderr",
     "output_type": "stream",
     "text": [
      " 80%|████████  | 40/50 [01:52<00:27,  2.79s/it]"
     ]
    },
    {
     "name": "stdout",
     "output_type": "stream",
     "text": [
      "3 39 69.00 70.20 0.06 1.02\n"
     ]
    },
    {
     "name": "stderr",
     "output_type": "stream",
     "text": [
      " 82%|████████▏ | 41/50 [01:54<00:25,  2.79s/it]"
     ]
    },
    {
     "name": "stdout",
     "output_type": "stream",
     "text": [
      "3 40 63.67 60.60 0.06 1.02\n"
     ]
    },
    {
     "name": "stderr",
     "output_type": "stream",
     "text": [
      " 84%|████████▍ | 42/50 [01:57<00:22,  2.79s/it]"
     ]
    },
    {
     "name": "stdout",
     "output_type": "stream",
     "text": [
      "3 41 73.00 70.00 0.06 1.02\n"
     ]
    },
    {
     "name": "stderr",
     "output_type": "stream",
     "text": [
      " 86%|████████▌ | 43/50 [02:00<00:19,  2.79s/it]"
     ]
    },
    {
     "name": "stdout",
     "output_type": "stream",
     "text": [
      "3 42 55.00 56.00 0.06 1.02\n"
     ]
    },
    {
     "name": "stderr",
     "output_type": "stream",
     "text": [
      " 88%|████████▊ | 44/50 [02:03<00:16,  2.79s/it]"
     ]
    },
    {
     "name": "stdout",
     "output_type": "stream",
     "text": [
      "3 43 70.00 73.00 0.06 1.02\n"
     ]
    },
    {
     "name": "stderr",
     "output_type": "stream",
     "text": [
      " 90%|█████████ | 45/50 [02:05<00:13,  2.79s/it]"
     ]
    },
    {
     "name": "stdout",
     "output_type": "stream",
     "text": [
      "3 44 62.33 61.20 0.06 1.03\n"
     ]
    },
    {
     "name": "stderr",
     "output_type": "stream",
     "text": [
      " 92%|█████████▏| 46/50 [02:08<00:11,  2.79s/it]"
     ]
    },
    {
     "name": "stdout",
     "output_type": "stream",
     "text": [
      "3 45 73.33 72.40 0.06 1.03\n"
     ]
    },
    {
     "name": "stderr",
     "output_type": "stream",
     "text": [
      " 94%|█████████▍| 47/50 [02:11<00:08,  2.79s/it]"
     ]
    },
    {
     "name": "stdout",
     "output_type": "stream",
     "text": [
      "3 46 59.67 63.00 0.06 1.03\n"
     ]
    },
    {
     "name": "stderr",
     "output_type": "stream",
     "text": [
      " 96%|█████████▌| 48/50 [02:14<00:05,  2.79s/it]"
     ]
    },
    {
     "name": "stdout",
     "output_type": "stream",
     "text": [
      "3 47 68.33 69.80 0.06 1.03\n"
     ]
    },
    {
     "name": "stderr",
     "output_type": "stream",
     "text": [
      " 98%|█████████▊| 49/50 [02:17<00:02,  2.80s/it]"
     ]
    },
    {
     "name": "stdout",
     "output_type": "stream",
     "text": [
      "3 48 68.00 69.60 0.06 1.03\n"
     ]
    },
    {
     "name": "stderr",
     "output_type": "stream",
     "text": [
      "100%|██████████| 50/50 [02:19<00:00,  2.80s/it]"
     ]
    },
    {
     "name": "stdout",
     "output_type": "stream",
     "text": [
      "3 49 59.33 58.80 0.06 1.03\n"
     ]
    },
    {
     "name": "stderr",
     "output_type": "stream",
     "text": [
      "\n"
     ]
    }
   ],
   "source": [
    "#Train the TM 1 and record results\n",
    "#f = open(\"run_%.1f_%d_%d_%d_%d_%d.txt\" % (s, clauses, T, step, visual_tokens), \"w+\")\n",
    "logTrain = np.zeros((epochs, X_train.shape[0]), dtype=np.uint8)\n",
    "logTest =  np.zeros((epochs, X_test.shape[0]),  dtype=np.uint8)\n",
    "\n",
    "print(\"Training:\")\n",
    "training_data_labels = np.unique(Y_train)\n",
    "print(training_data_labels.shape[0], \"labels used:\", training_data_labels)\n",
    "print(\"Training pictures:\", X_train.shape[0])\n",
    "\n",
    "print(\"Testing:\")\n",
    "testing_data_labels = np.unique(Y_test)\n",
    "print(testing_data_labels.shape[0], \"labels used:\", testing_data_labels)\n",
    "print(\"Maximum achievable accuracy:\", (100*(training_data_labels.shape[0]/testing_data_labels.shape[0])))\n",
    "print(\"..adjusting\") #see result_test_adj\n",
    "print(\"Testing pictures:\", X_test.shape[0])\n",
    "\n",
    "for label in range(trained_labels.shape[0]):\n",
    "        print(\"\\nAccuracy over %d epochs:\\n\" % (epochs))\n",
    "\n",
    "        tm = TMClassifier(clauses, T, s, max_included_literals=max_included_literals, patch_dim=(1,1), platform='CPU', weighted_clauses=True)\n",
    "        \n",
    "        for epoch in tqdm(range(epochs)):\n",
    "                start_training = time()\n",
    "                tm.fit(X_train, Y_train)\n",
    "                stop_training = time()\n",
    "\n",
    "                start_testing = time()\n",
    "                result_test = 100*(tm.predict(X_test) == Y_test).mean()\n",
    "                result_test_adj = 100*(result_test/ (100*(training_data_labels.shape[0]/testing_data_labels.shape[0])))\n",
    "                logTest[epoch] = (tm.predict(X_test))*label\n",
    "                stop_testing = time()\n",
    "\n",
    "                result_train = 100*(tm.predict(X_train) == Y_train).mean()\n",
    "                logTrain[epoch] = (tm.predict(X_train))*label\n",
    "\n",
    "                #recall_and_precision(epoch)\n",
    "\n",
    "                print(\"%d %d %.2f %.2f %.2f %.2f\" % (label, epoch, result_test_adj, result_train, stop_training-start_training, stop_testing-start_testing))\n",
    "                #print(\"%d %d %.2f %.2f %.2f %.2f\" % (label, epoch, result_test_adj, result_train, stop_training-start_training, stop_testing-start_testing), file=f)\n",
    "                #f.flush()\n",
    "#f.close()\n",
    "\n"
   ]
  },
  {
   "cell_type": "code",
   "execution_count": 232,
   "id": "a211e5a6",
   "metadata": {},
   "outputs": [
    {
     "name": "stdout",
     "output_type": "stream",
     "text": [
      "2023-12-18 17:21:24,243 - matplotlib.colorbar - DEBUG - locator: <matplotlib.ticker.AutoLocator object at 0x2a3c5a650>\n"
     ]
    },
    {
     "data": {
      "image/png": "[encoded data removed]",
      "text/plain": [
       "<Figure size 800x600 with 2 Axes>"
      ]
     },
     "metadata": {},
     "output_type": "display_data"
    }
   ],
   "source": [
    "#Confusion Matrix\n",
    "conf_matrix1 = confusion_matrix(Y_test, tm.predict(X_test))\n",
    "# Calculate percentages\n",
    "conf_matrix_percent1 = conf_matrix1 / conf_matrix1.sum(axis=1, keepdims=True) * 100\n",
    "conf_matrix_percent1 = np.nan_to_num(conf_matrix_percent1, 0)  # Replace NaNs with 0\n",
    "\n",
    "# Plot the confusion matrix with percentages\n",
    "plt.figure(figsize=(8, 6))\n",
    "sns.heatmap(conf_matrix_percent1, annot=True, fmt=\".1f\", cmap=\"Blues\", xticklabels=labels, yticklabels=labels)\n",
    "plt.title(\"Confusion Matrix run 1 (Percentages)\")\n",
    "plt.xlabel(\"Predicted Labels\")\n",
    "plt.ylabel(\"True Labels\")\n",
    "plt.show()\n"
   ]
  },
  {
   "cell_type": "code",
   "execution_count": 233,
   "id": "41e71cd5",
   "metadata": {},
   "outputs": [],
   "source": [
    "#Patch object\n",
    "\n",
    "class Patch:\n",
    "    def __init__(self, xMin, xMax, yMin, yMax, ID, patch_info, raw, weight=None):\n",
    "        # Coordinates where patch appears\n",
    "        self.xMin = xMin\n",
    "        self.xMax = xMax\n",
    "        self.yMin = yMin\n",
    "        self.yMax = yMax\n",
    "        \n",
    "        self.weight = weight\n",
    "        self.ID = ID\n",
    "        self.patch_info = patch_info # color info in 3x3px 3xcolor uint8\n",
    "        self.raw = raw #bool vals of whole clause\n",
    "        self.found_in_images = {}\n",
    "        self.total_count = 0\n",
    "        self.sparsity = 0\n",
    "            \n",
    "    def visualize_patch_info(self, polarity=0):\n",
    "        # Rescale the channel values to the range of 0-255\n",
    "        patch_info_scaled = (np.array(self.patch_info) * (255 / resolution)).astype(np.uint8)\n",
    "        \n",
    "        # Create an empty image canvas\n",
    "        image = np.zeros((3, 3, 3), dtype=np.uint8)\n",
    "        # Loop through each channel\n",
    "        for c in range(3):\n",
    "            image[:,:,c] = patch_info_scaled[:,:,c, polarity].reshape((3,3))\n",
    "        \n",
    "        return image\n",
    "    def dominant_color(self, value=0):\n",
    "        # Reshape the patch to a 9x3 array\n",
    "        pixels = self.patch_info[...,0].reshape((9, 3))\n",
    "\n",
    "        # Calculate the sum of color values for each channel\n",
    "        color_sums = np.sum(pixels, axis=0)\n",
    "\n",
    "        # Find the index of the channel with the highest sum\n",
    "        dominant_channel = np.argmax(color_sums)\n",
    "\n",
    "        # Determine the dominant color based on the channel index\n",
    "        if dominant_channel == 0:\n",
    "            dominant_color = 'R'\n",
    "        elif dominant_channel == 1:\n",
    "            dominant_color = 'G'\n",
    "        else:\n",
    "            dominant_color = 'B'\n",
    "        \n",
    "        if value == 1:\n",
    "            return dominant_channel\n",
    "        elif value == 2:\n",
    "            return sum(self.patch_info[:,:,dominant_channel]) // 3\n",
    "        else:\n",
    "            return dominant_color\n",
    "        \n",
    "    def update_patch_count(self, image_id, location):\n",
    "        if image_id in self.found_in_images:\n",
    "            self.found_in_images[image_id].append(location)\n",
    "        else:\n",
    "            self.found_in_images[image_id] = [location]\n",
    "        self.total_count += 1\n",
    "        \n",
    "\n",
    "\n",
    "def thermometer_to_integer(thermometer_bits, negated = 0):\n",
    "    value = 0\n",
    "    thermometer_bits_local = thermometer_bits\n",
    "    length = len(thermometer_bits_local)\n",
    "    for bit in range(length):\n",
    "        if not negated:\n",
    "            if thermometer_bits_local[bit]:\n",
    "                value = bit+1\n",
    "        else:\n",
    "            if thermometer_bits_local[bit]:\n",
    "                value = bit\n",
    "                break\n",
    "            value = length+1\n",
    "    return value\n",
    "\n",
    "bank = tm.transform(X_train) # bank is a (image, clause*class) sized array\n",
    "\n",
    "def transform_clause_to_patch(block, ID, resolution=8, patch_dim=(3,3), image_size=X_train_org.shape[1:3]):\n",
    "    auxK = 0\n",
    "    auxJ = image_size[0] - patch_dim[0] -1\n",
    "    xMin = thermometer_to_integer(block[auxK:auxJ], negated=0)\n",
    "    auxK = image_size[0] - patch_dim[0]\n",
    "    auxJ = image_size[0] - patch_dim[0] + image_size[1] - patch_dim[1] -1\n",
    "    yMin = thermometer_to_integer(block[auxK:auxJ], negated=0)\n",
    "    auxK = image_size[0] - patch_dim[0] + image_size[1] - patch_dim[1] +patch_dim[0]*patch_dim[1]*resolution\n",
    "    auxJ = image_size[0] - patch_dim[0] + image_size[1] - patch_dim[1] +patch_dim[0]*patch_dim[1]*resolution + image_size[0] - patch_dim[0] -1\n",
    "    xMax = thermometer_to_integer(block[auxK:auxJ], negated=1)\n",
    "    auxK = image_size[0] - patch_dim[0] + image_size[1] - patch_dim[1] +patch_dim[0]*patch_dim[1]*resolution + image_size[0] - patch_dim[0]\n",
    "    auxJ = image_size[0] - patch_dim[0] + image_size[1] - patch_dim[1] +patch_dim[0]*patch_dim[1]*resolution + image_size[0] - patch_dim[0] + image_size[1] - patch_dim[1] -1\n",
    "    yMax = thermometer_to_integer(block[auxK:auxJ], negated=1)\n",
    "    \n",
    "    # Sort out the pixels\n",
    "    patch_info = np.zeros((3,3,3,2)) \n",
    "    for column in range(patch_dim[1]):\n",
    "        # rows = []\n",
    "        for row in range(patch_dim[0]):\n",
    "            # colors = []\n",
    "            for color in range(3):\n",
    "                auxJ = image_size[0] - patch_dim[0] + image_size[1] - patch_dim[1] -1\n",
    "                start_bit = auxJ + (column+row) * (3*resolution) + color * resolution\n",
    "                end_bit = start_bit + resolution\n",
    "                value = thermometer_to_integer(block[start_bit:end_bit])*(255/resolution)\n",
    "                \n",
    "                auxJ = image_size[0] - patch_dim[0] + image_size[1] - patch_dim[1] +patch_dim[0]*patch_dim[1]*resolution + image_size[0] - patch_dim[0] + image_size[1] - patch_dim[1] -1\n",
    "                start_bit2 = auxJ + (column+row) * (3*resolution) + color * resolution\n",
    "                end_bit2 = start_bit2 + resolution\n",
    "                value2 = thermometer_to_integer(block[start_bit2:end_bit2], negated=1)*(255/resolution)\n",
    "                #value = (value + value2)/2\n",
    "                #if value == 0: # turn the pixel white if empty\n",
    "                #    value = 8\n",
    "                patch_info[column,row,color,0] = value\n",
    "                patch_info[column,row,color,1] = value2\n",
    "                # colors.append(value)\n",
    "            # rows.append(colors)\n",
    "        # patch_info.append(rows)\n",
    "    raw = block\n",
    "    weight = 0\n",
    "    ID = ID\n",
    "    return Patch(xMin=xMin, xMax=xMax, yMin=yMin, yMax=yMax, weight=weight, ID=ID, patch_info=patch_info, raw=raw)\n",
    "\n"
   ]
  },
  {
   "cell_type": "code",
   "execution_count": 234,
   "id": "fcc07ab9",
   "metadata": {},
   "outputs": [
    {
     "name": "stdout",
     "output_type": "stream",
     "text": [
      "Highlighting for image 3 of class Three\n",
      "Class 0 Zero\n",
      "Pro clauses for Class 0: [1, 2, 4]\n",
      "Against clauses for Class 0: [5, 6, 8, 9]\n"
     ]
    },
    {
     "data": {
      "image/png": "[encoded data removed]",
      "text/plain": [
       "<Figure size 800x800 with 12 Axes>"
      ]
     },
     "metadata": {},
     "output_type": "display_data"
    },
    {
     "name": "stdout",
     "output_type": "stream",
     "text": [
      "Class 1 One\n",
      "Pro clauses for Class 1: [1, 2, 4, 10, 12, 13, 14]\n",
      "Against clauses for Class 1: [5, 6, 8, 9, 16]\n"
     ]
    },
    {
     "data": {
      "image/png": "[encoded data removed]",
      "text/plain": [
       "<Figure size 800x800 with 12 Axes>"
      ]
     },
     "metadata": {},
     "output_type": "display_data"
    },
    {
     "name": "stdout",
     "output_type": "stream",
     "text": [
      "Class 2 Two\n",
      "Pro clauses for Class 2: [1, 2, 4, 10, 12, 13, 14, 21, 22]\n",
      "Against clauses for Class 2: [5, 6, 8, 9, 16, 25, 26, 27, 28, 29]\n"
     ]
    },
    {
     "data": {
      "image/png": "[encoded data removed]",
      "text/plain": [
       "<Figure size 800x800 with 12 Axes>"
      ]
     },
     "metadata": {},
     "output_type": "display_data"
    },
    {
     "name": "stdout",
     "output_type": "stream",
     "text": [
      "Class 3 Three\n",
      "Pro clauses for Class 3: [1, 2, 4, 10, 12, 13, 14, 21, 22, 31, 32, 33]\n",
      "Against clauses for Class 3: [5, 6, 8, 9, 16, 25, 26, 27, 28, 29, 35, 36, 37, 38, 39]\n"
     ]
    },
    {
     "data": {
      "image/png": "[encoded data removed]",
      "text/plain": [
       "<Figure size 800x800 with 12 Axes>"
      ]
     },
     "metadata": {},
     "output_type": "display_data"
    }
   ],
   "source": [
    "#Weighted Patches list, find extreme patches and plot them\n",
    "\n",
    "#show how many patches\n",
    "n_extreme_patches = 6\n",
    "highlight_colors = {\n",
    "    \"for\": \"lime\",\n",
    "    \"against\": \"pink\"\n",
    "}\n",
    "\n",
    "highlight = True\n",
    "check_image = 3\n",
    "\n",
    "print(\"Highlighting for image\", check_image, \"of class\", labels[Y_train_org[check_image]])\n",
    "\n",
    "pro_clauses = []\n",
    "against_clauses = []\n",
    "all_patches = [] #class, clause\n",
    "\n",
    "# Populate the patches list\n",
    "k=0 # ID\n",
    "for Class in range(tm.number_of_classes):\n",
    "    class_patches = []\n",
    "    for Clause in range(tm.number_of_clauses):\n",
    "        block = [tm.get_ta_action(Clause, bit, Class) for bit in range(576)]\n",
    "        class_patches.append(transform_clause_to_patch(block, k))\n",
    "        k += 1\n",
    "    all_patches.append(class_patches)\n",
    "\n",
    "# Select top clauses\n",
    "highest_indices = np.zeros((tm.number_of_classes, n_extreme_patches))\n",
    "lowest_indices  = np.zeros((tm.number_of_classes, n_extreme_patches))\n",
    "weights_sorted_indices = np.zeros((tm.number_of_classes, tm.number_of_clauses))\n",
    "all_weights = np.zeros((tm.number_of_classes, tm.number_of_clauses))\n",
    "\n",
    "for Class in range(tm.number_of_classes):\n",
    "    for clause in range(tm.number_of_clauses):\n",
    "        all_weights[Class, clause] = (tm.get_weight(the_class=Class,clause=clause,polarity=0))\n",
    "    weights_sorted_indices[Class] = all_weights[Class].argsort()\n",
    "    highest_indices[Class] = weights_sorted_indices[Class][-n_extreme_patches:].astype(int)\n",
    "    lowest_indices[Class]  = weights_sorted_indices[Class][:n_extreme_patches].astype(int)\n",
    "\n",
    "# Assign lowest and highest weighted patches to the indices  \n",
    "extreme_patches = np.zeros((tm.number_of_classes,2,n_extreme_patches), dtype=Patch)\n",
    "extreme_weights = np.zeros((tm.number_of_classes,2,n_extreme_patches), dtype=np.int16)\n",
    "    \n",
    "for Class in range(tm.number_of_classes):\n",
    "    print(\"Class\", Class, labels[Class])\n",
    "    polarity = 0\n",
    "    for i, k in enumerate(lowest_indices[Class].astype(int)):\n",
    "        all_patches[Class][np.min((k, 997))].weight = all_weights[Class][np.min((k, 997))]\n",
    "        extreme_patches[Class, polarity, i] = all_patches[Class][np.min((k, 997))]\n",
    "        \n",
    "    polarity = 1\n",
    "    for i, k in enumerate(highest_indices[Class].astype(int)):\n",
    "        all_patches[Class][k].weight = all_weights[Class][k]\n",
    "        extreme_patches[Class, polarity, i] = all_patches[Class][k]\n",
    "\n",
    "\n",
    "    extreme_patches = np.flip(extreme_patches,2)\n",
    "    \n",
    "    # Assign Pro and Against clauses per class\n",
    "    for clause in range(int(tm.number_of_clauses/2)):  # First half for pro_clauses\n",
    "        if bank[check_image][clause + Class * tm.number_of_clauses]:  # If the clause is activated\n",
    "            pro_clauses.append(clause + Class * tm.number_of_clauses)\n",
    "    for clause in range(int(tm.number_of_clauses/2), tm.number_of_clauses):  # Second half for against_clauses\n",
    "        if bank[check_image][clause + Class * tm.number_of_clauses]:  # If the clause is activated\n",
    "            against_clauses.append(clause + Class * tm.number_of_clauses)\n",
    "    print(f\"Pro clauses for Class {Class}: {pro_clauses}\")\n",
    "    print(f\"Against clauses for Class {Class}: {against_clauses}\")\n",
    "\n",
    "\n",
    "\n",
    "    #Print patches grid\n",
    "    num_rows = 10\n",
    "    num_cols = 10\n",
    "\n",
    "    fig = plt.figure(figsize=(8, 8))\n",
    "    gs = GridSpec(num_rows, num_cols)\n",
    "    adjusted_index = 0\n",
    "    for patch_index in range(0, n_extreme_patches*2):\n",
    "        if (patch_index >= n_extreme_patches): \n",
    "            polarity = 0\n",
    "            adjusted_index = patch_index - n_extreme_patches\n",
    "        else:\n",
    "            adjusted_index = patch_index\n",
    "            polarity = 1\n",
    "        ax = fig.add_subplot(gs[patch_index // num_cols, patch_index % num_cols])\n",
    "        ax.imshow(extreme_patches[Class, polarity, adjusted_index].visualize_patch_info())\n",
    "        \n",
    "        if highlight:\n",
    "            # Highlight the randomly selected patches\n",
    "            if polarity == 1 and extreme_patches[Class, polarity, adjusted_index].ID in pro_clauses:\n",
    "                for spine in ax.spines.values():\n",
    "                    spine.set_edgecolor(highlight_colors[\"for\"])\n",
    "                    spine.set_linewidth(5)\n",
    "            elif polarity == 0 and extreme_patches[Class, polarity, adjusted_index].ID in against_clauses:\n",
    "                for spine in ax.spines.values():\n",
    "                    spine.set_edgecolor(highlight_colors[\"against\"])\n",
    "                    spine.set_linewidth(5)\n",
    "            \n",
    "            ax.set_xticks([])\n",
    "            ax.set_yticks([])\n",
    "        else:\n",
    "            ax.axis('off')\n",
    "        ax.set_title((extreme_weights[Class][polarity][adjusted_index]).astype(str) + \" \" + (extreme_patches[Class, polarity, adjusted_index]).dominant_color())\n",
    "        ax.set_title(extreme_patches[Class, polarity, adjusted_index].weight.astype(str))\n",
    "\n",
    "    \n",
    "    plt.tight_layout()\n",
    "    plt.show()"
   ]
  },
  {
   "cell_type": "code",
   "execution_count": 235,
   "id": "884bb8c5",
   "metadata": {},
   "outputs": [],
   "source": [
    "def find_patches_in_image(image, patches_to_search, targeted_search=False, avg=True):\n",
    "    \"\"\"\n",
    "    Search for specific patches within a given image. Return found ID and coordinates.\n",
    "    \n",
    "    Parameters:\n",
    "    - image: 2D array representing the image.\n",
    "    - patches_to_search: List of Patch objects to search for in the image.\n",
    "    - targeted_search: Boolean indicating whether to search only within the patch's expected coordinates.\n",
    "    - avg: Boolean indicating whether to return average coordinates for each patch.\n",
    "    \n",
    "    Returns:\n",
    "    - results: Array with shape (number of patches, 3) containing the patch ID and its (average) x and y coordinates.\n",
    "    - found_coordinates: List of tuples containing the coordinates where patches were found.\n",
    "    \"\"\"\n",
    "    results = []\n",
    "    for patch in patches_to_search:\n",
    "        patch_info = patch.patch_info\n",
    "        \n",
    "        # Define the search area based on the targeted_search flag\n",
    "        if targeted_search:\n",
    "            search_area = image[patch.xMin:patch.xMax, patch.yMin:patch.yMax]\n",
    "            offset_x, offset_y = patch.xMin, patch.yMin\n",
    "        else:\n",
    "            search_area = image\n",
    "            offset_x, offset_y = 0, 0\n",
    "        \n",
    "        found_coordinates = []\n",
    "        for x in range(search_area.shape[0] - patch_info.shape[0] + 1):\n",
    "            for y in range(search_area.shape[1] - patch_info.shape[1] + 1):\n",
    "                region = search_area[x:x+patch_info.shape[0], y:y+patch_info.shape[1]]\n",
    "                if np.all(region >= patch_info[...,0]) and np.all(region <= patch_info[...,1]):\n",
    "                    found_coordinates.append((x + offset_x, y + offset_y))\n",
    "        \n",
    "        # Calculate average coordinates if required\n",
    "        if avg and found_coordinates:\n",
    "            avg_x = int(np.mean([coord[0] for coord in found_coordinates]))\n",
    "            avg_y = int(np.mean([coord[1] for coord in found_coordinates]))\n",
    "            results.append((patch.ID, avg_x, avg_y))\n",
    "        elif not avg:\n",
    "            results.append((patch.ID, found_coordinates))\n",
    "    \n",
    "    return results\n",
    "\n",
    "\n",
    "def find_patches_in_images(images, labels, patches_to_find):\n",
    "\n",
    "    num_images = len(images)\n",
    "    valid_indices = np.where((labels < patches_to_find.shape[0]) & (labels < num_images))[0]\n",
    "    \n",
    "    results = [find_patches_in_image(images[i], patches_to_find[labels[i], 0, :], targeted_search=True) for i in tqdm(valid_indices, desc=\"Processing images\", position=0, leave=True)]\n",
    "    \n",
    "    return results  # Return the list of arrays directly\n",
    "\n",
    "\n",
    "def create_dist_and_dir_map(images, Y_images, origin_points, n_origin_points=2):\n",
    "    \"\"\"\n",
    "    Encode images based on the distance and angle to the origin patch.\n",
    "    \n",
    "    Parameters:\n",
    "    - images: List of 2D arrays representing the images.\n",
    "    - Y_images: List of labels corresponding to each image.\n",
    "    - origin_points: List of origin points.[Class, img, coors[x,y]]\n",
    "    - n_origin_points: Number of origin points to consider.\n",
    "    \n",
    "    Returns:\n",
    "    - encoded_patches: Array containing the encoded images.\n",
    "    \"\"\"\n",
    "    batch_size, height, width, _ = images.shape\n",
    "    encoded_patches = np.zeros((batch_size, height, width, tm.number_of_classes, n_origin_points, 2))\n",
    "    \n",
    "    # if n_origin_points > 1:\n",
    "    #     origin_coord = origins[img]\n",
    "    # else:\n",
    "    #     origin_coord = origins\n",
    "    \n",
    "    for img in range(batch_size):\n",
    "        for j in range(height):\n",
    "            for k in range(width):\n",
    "                for Class in range(tm.number_of_classes):\n",
    "                    for point in range(n_origin_points):\n",
    "                        origin_coord = origin_points[Class][img]\n",
    "                        # Check if the origin coordinate is a placeholder\n",
    "                        if np.any(origin_coord == -1):\n",
    "                            continue\n",
    "                        else:\n",
    "                            distance, angle = calculate_distance_and_direction(origin_coord, (j, k))\n",
    "                            encoded_patches[img, j, k, Class, point] = [distance, angle]\n",
    "    return encoded_patches\n",
    "\"\"\"\n",
    "\n",
    "\n",
    "\n",
    "\n",
    "    if not bypass_anchor_selection:\n",
    "        for i in range(batch_size):\n",
    "            class_label = Y_images[i, 0] if len(Y_images.shape) > 1 else Y_images[i] #TODO: sometimes its two dim array??\n",
    "            if class_label < tm.number_of_classes:\n",
    "                origins = origin_points[class_label]  # Adjusted to get origins for specific image and class\n",
    "            else:\n",
    "                encoded_patches[i] = np.zeros((height, width, 2 * n_origin_points))\n",
    "                continue\n",
    "            \n",
    "            for point in range(n_origin_points):\n",
    "                if n_origin_points > 1:\n",
    "                    origin_coord = origins[i]\n",
    "                else:\n",
    "                    origin_coord = origins\n",
    "                # Check if the origin coordinate is a placeholder\n",
    "                if np.any(origin_coord == -1):\n",
    "                    continue\n",
    "                for j in range(height):\n",
    "                    for k in range(width):\n",
    "                        print(\"org cord\", origin_coord)\n",
    "                        distance, angle = calculate_distance_and_direction(origin_coord, (j, k))\n",
    "                        encoded_patches[i, j, k, point*2:point*2+2] = [distance, angle]\n",
    "            \n",
    "    else:\n",
    "              \n",
    "        for i in range(batch_size):\n",
    "            encoded_patches[i] = np.zeros((img, height, width, Class, n_origin_points, 2))\n",
    "            continue\n",
    "        \n",
    "        for point in range(n_origin_points):\n",
    "            if n_origin_points > 1:\n",
    "                origin_coord = origins[i]\n",
    "            else:\n",
    "                origin_coord = origins\n",
    "            # Check if the origin coordinate is a placeholder\n",
    "            if np.any(origin_coord == -1):\n",
    "                continue\n",
    "            for j in range(height):\n",
    "                for k in range(width):\n",
    "                    print(\"org cord\", origin_coord)\n",
    "                    distance, angle = calculate_distance_and_direction(origin_coord, (j, k))\n",
    "                    encoded_patches[i, j, k, Class, point] = [distance, angle]\n",
    "            \n",
    "    return encoded_patches\n",
    "\"\"\"\n",
    "\n",
    "def scale_value_int(value, old_max, new_max):\n",
    "    return int((value / old_max) * new_max)\n",
    "\n",
    "\n",
    "def calculate_distance_and_direction(coord1, coord2):\n",
    "    #TODO: remove the koeficients and replace with variable adjusting. the scaling now is to fit 0 to 255 scale\n",
    "    distance = 7* math.sqrt((coord2[0] - coord1[0])**2 + (coord2[1] - coord1[1])**2)\n",
    "    angle = 80 * math.atan2(coord2[1] - coord1[1], coord2[0] - coord1[0])\n",
    "    return distance, angle\n",
    "\n"
   ]
  },
  {
   "cell_type": "code",
   "execution_count": 236,
   "id": "1fc2370a",
   "metadata": {},
   "outputs": [
    {
     "data": {
      "image/png": "[encoded data removed]",
      "text/plain": [
       "<Figure size 1000x1000 with 1 Axes>"
      ]
     },
     "metadata": {},
     "output_type": "display_data"
    },
    {
     "name": "stdout",
     "output_type": "stream",
     "text": [
      "Minimum values of patches\n"
     ]
    },
    {
     "data": {
      "image/png": "[encoded data removed]",
      "text/plain": [
       "<Figure size 1500x300 with 10 Axes>"
      ]
     },
     "metadata": {},
     "output_type": "display_data"
    },
    {
     "name": "stdout",
     "output_type": "stream",
     "text": [
      "Maximum values of patches\n"
     ]
    },
    {
     "data": {
      "image/png": "[encoded data removed]",
      "text/plain": [
       "<Figure size 1500x300 with 10 Axes>"
      ]
     },
     "metadata": {},
     "output_type": "display_data"
    },
    {
     "data": {
      "image/png": "[encoded data removed]",
      "text/plain": [
       "<Figure size 1000x1000 with 1 Axes>"
      ]
     },
     "metadata": {},
     "output_type": "display_data"
    },
    {
     "name": "stdout",
     "output_type": "stream",
     "text": [
      "Minimum values of patches\n"
     ]
    },
    {
     "data": {
      "image/png": "[encoded data removed]",
      "text/plain": [
       "<Figure size 1500x300 with 10 Axes>"
      ]
     },
     "metadata": {},
     "output_type": "display_data"
    },
    {
     "name": "stdout",
     "output_type": "stream",
     "text": [
      "Maximum values of patches\n"
     ]
    },
    {
     "data": {
      "image/png": "[encoded data removed]",
      "text/plain": [
       "<Figure size 1500x300 with 10 Axes>"
      ]
     },
     "metadata": {},
     "output_type": "display_data"
    },
    {
     "data": {
      "image/png": "[encoded data removed]",
      "text/plain": [
       "<Figure size 1000x1000 with 1 Axes>"
      ]
     },
     "metadata": {},
     "output_type": "display_data"
    },
    {
     "name": "stdout",
     "output_type": "stream",
     "text": [
      "Minimum values of patches\n"
     ]
    },
    {
     "data": {
      "image/png": "[encoded data removed]",
      "text/plain": [
       "<Figure size 1500x300 with 10 Axes>"
      ]
     },
     "metadata": {},
     "output_type": "display_data"
    },
    {
     "name": "stdout",
     "output_type": "stream",
     "text": [
      "Maximum values of patches\n"
     ]
    },
    {
     "data": {
      "image/png": "[encoded data removed]",
      "text/plain": [
       "<Figure size 1500x300 with 10 Axes>"
      ]
     },
     "metadata": {},
     "output_type": "display_data"
    },
    {
     "data": {
      "image/png": "[encoded data removed]",
      "text/plain": [
       "<Figure size 1000x1000 with 1 Axes>"
      ]
     },
     "metadata": {},
     "output_type": "display_data"
    },
    {
     "name": "stdout",
     "output_type": "stream",
     "text": [
      "Minimum values of patches\n"
     ]
    },
    {
     "data": {
      "image/png": "[encoded data removed]",
      "text/plain": [
       "<Figure size 1500x300 with 10 Axes>"
      ]
     },
     "metadata": {},
     "output_type": "display_data"
    },
    {
     "name": "stdout",
     "output_type": "stream",
     "text": [
      "Maximum values of patches\n"
     ]
    },
    {
     "data": {
      "image/png": "[encoded data removed]",
      "text/plain": [
       "<Figure size 1500x300 with 10 Axes>"
      ]
     },
     "metadata": {},
     "output_type": "display_data"
    }
   ],
   "source": [
    "#Plot extreme patches on images\n",
    "\n",
    "def plot_patches_in_images(patch_list_pos, patch_list_neg, images, image_labels):\n",
    "    all_results = {}\n",
    "    \n",
    "    # Define a list of colors\n",
    "    colors = ['green', 'blue', 'green', 'yellow', 'purple', 'orange', 'cyan', 'magenta', 'brown', 'pink']\n",
    "    \n",
    "    for img_index, (image, label) in enumerate(zip(images, image_labels)):\n",
    "        results = []\n",
    "        legend_elements = []  # List to hold the legend elements\n",
    "        heatmaps = np.zeros_like(image, dtype=float)\n",
    "\n",
    "        # Plot the main image with dots\n",
    "        fig_main, ax_main = plt.subplots(figsize=(10, 10))\n",
    "        ax_main.imshow(image, cmap='gray')\n",
    "        ax_main.set_title(f'Image Label: {label}')\n",
    "\n",
    "        for patch_idx, (patch_pos, patch_neg) in enumerate(zip(patch_list_pos, patch_list_neg)):\n",
    "            patch = patch_pos if patch_pos.weight > 0 else patch_neg\n",
    "            marker_style = 'o' if patch_pos.weight > 0 else 'X'\n",
    "            \n",
    "            # Use the new find_patches_in_image function\n",
    "            patch_search_results = find_patches_in_image(image, [patch], targeted_search=True, avg=False)\n",
    "            \n",
    "            color = colors[patch_idx % len(colors)]\n",
    "            for patch_id, patch_coords in patch_search_results:\n",
    "                for coord in patch_coords:\n",
    "                    # Plot the position with the chosen marker style\n",
    "                    ax_main.scatter(coord[1]+1, coord[0]+1, color=color, s=abs(patch.weight*5), marker=marker_style, edgecolors='black', linewidths=1)\n",
    "                    results.append((patch_id, coord[0], coord[1]))\n",
    "            \n",
    "            # Add a legend element for each patch\n",
    "            legend_elements.append(Line2D([0], [0], marker=marker_style, color=color, label=f'Patch {patch.ID}', markersize=10, markerfacecolor=color, markeredgewidth=1))\n",
    "\n",
    "        # Add the legend outside of the main plot\n",
    "        ax_main.legend(handles=legend_elements, bbox_to_anchor=(1.05, 1), loc='upper left')\n",
    "        plt.tight_layout()\n",
    "        plt.show()\n",
    "\n",
    "        print(\"Minimum values of patches\")\n",
    "        # Plot each patch in a separate figure\n",
    "        fig_patches, axs = plt.subplots(1, len(patch_list_pos) + len(patch_list_neg), figsize=(15, 3))\n",
    "        if len(patch_list_pos) + len(patch_list_neg) == 1:\n",
    "            axs = [axs]\n",
    "\n",
    "        for patch_idx, patch in enumerate(patch_list_pos + patch_list_neg):\n",
    "            patch_image = patch.visualize_patch_info()  # Visualize the patch\n",
    "            axs[patch_idx].imshow(patch_image)\n",
    "            axs[patch_idx].set_title(f'{patch.ID}')\n",
    "            axs[patch_idx].axis('off')  # Hide the axis\n",
    "\n",
    "        plt.show()\n",
    "        print(\"Maximum values of patches\")\n",
    "        # Plot each patch in a separate figure\n",
    "        fig_patches, axs = plt.subplots(1, len(patch_list_pos) + len(patch_list_neg), figsize=(15, 3))\n",
    "        if len(patch_list_pos) + len(patch_list_neg) == 1:\n",
    "            axs = [axs]\n",
    "\n",
    "        for patch_idx, patch in enumerate(patch_list_pos + patch_list_neg):\n",
    "            patch_image = patch.visualize_patch_info(polarity=1)  # Visualize the patch\n",
    "            axs[patch_idx].imshow(patch_image)\n",
    "            axs[patch_idx].set_title(f'{patch.ID}')\n",
    "            #axs[patch_idx].set_title(f'{patch.weight}')\n",
    "            axs[patch_idx].axis('off')  # Hide the axis\n",
    " \n",
    "        plt.show()\n",
    "\n",
    "        all_results[img_index] = results\n",
    "    \n",
    "    return all_results\n",
    "\n",
    "\n",
    "\n",
    "\n",
    "for index, image in enumerate(X_test_org[0:len(trained_labels)]):\n",
    "    # Example usage: extreme_patches[Class, polarity, adjusted_index]\n",
    "    patches_to_search_pos = [extreme_patches[Y_test_org[index]][1][n_extreme_patches-k-1] for k in range(5)]\n",
    "    patches_to_search_neg = [extreme_patches[Y_test_org[index]][0][k] for k in range(5)]\n",
    "    show_results = plot_patches_in_images(patches_to_search_pos, patches_to_search_neg, [image], [labels[Y_test_org[index]]])"
   ]
  },
  {
   "cell_type": "code",
   "execution_count": 237,
   "id": "111212f7",
   "metadata": {},
   "outputs": [
    {
     "name": "stdout",
     "output_type": "stream",
     "text": [
      "Finding patches in images...\n"
     ]
    },
    {
     "name": "stderr",
     "output_type": "stream",
     "text": [
      "Processing images: 100%|██████████| 300/300 [00:01<00:00, 227.39it/s]\n",
      "Processing images: 100%|██████████| 500/500 [00:02<00:00, 227.56it/s]\n"
     ]
    }
   ],
   "source": [
    "print(\"Finding patches in images...\")\n",
    "X_test_all_results = find_patches_in_images(X_test_org, Y_test_org, extreme_patches)\n",
    "X_train_all_results = find_patches_in_images(X_train_org, Y_train_org, extreme_patches)\n",
    "\n",
    "\n",
    "# X_test_all_results = [[(8, 13, 13), (7, 13, 13)], [], [], [(8, 13, 13), (7, 13, 13)], [], [],...\n",
    "# ID, X, Y"
   ]
  },
  {
   "cell_type": "code",
   "execution_count": 238,
   "id": "a48637b0",
   "metadata": {},
   "outputs": [
    {
     "name": "stdout",
     "output_type": "stream",
     "text": [
      "300\n",
      "3\n",
      "3\n",
      "[[[[10, 10], [10, 10], [10, 10]], [[10, 10], [10, 10], [10, 10]], [[10, 10], [10, 10], [10, 10]], [[10, 10], [10, 10], [10, 10]], [[10, 10], [10, 10], [10, 10]], [[10, 10], [10, 10], [10, 10]], [[10, 10], [10, 10], [10, 10]], [[10, 10], [10, 10], [10, 10]], [[10, 10], [10, 10], [10, 10]], [[10, 10], [10, 10], [10, 10]], [[10, 10], [10, 10], [10, 10]], [[10, 10], [10, 10], [10, 10]], [[10, 10], [10, 10], [10, 10]], [[10, 10], [10, 10], [10, 10]], [[10, 10], [10, 10], [10, 10]], [[10, 10], [10, 10], [10, 10]], [[10, 10], [10, 10], [10, 10]], [[10, 10], [10, 10], [10, 10]], [[10, 10], [10, 10], [10, 10]], [[10, 10], [10, 10], [10, 10]], [[10, 10], [10, 10], [10, 10]], [[10, 10], [10, 10], [10, 10]], [[10, 10], [10, 10], [10, 10]], [[10, 10], [10, 10], [10, 10]], [[10, 10], [10, 10], [10, 10]], [[10, 10], [10, 10], [10, 10]], [[10, 10], [10, 10], [10, 10]], [[10, 10], [10, 10], [10, 10]], [[10, 10], [10, 10], [10, 10]], [[10, 10], [10, 10], [10, 10]], [[10, 10], [10, 10], [10, 10]], [[10, 10], [10, 10], [10, 10]]], [[[10, 10], [10, 10], [10, 10]], [[10, 10], [10, 10], [10, 10]], [[10, 10], [10, 10], [10, 10]], [[10, 10], [10, 10], [10, 10]], [[10, 10], [10, 10], [10, 10]], [[10, 10], [10, 10], [10, 10]], [[10, 10], [10, 10], [10, 10]], [[10, 10], [10, 10], [10, 10]], [[10, 10], [10, 10], [10, 10]], [[10, 10], [10, 10], [10, 10]], [[10, 10], [10, 10], [10, 10]], [[10, 10], [10, 10], [10, 10]], [[10, 10], [10, 10], [10, 10]], [[10, 10], [10, 10], [10, 10]], [[10, 10], [10, 10], [10, 10]], [[10, 10], [10, 10], [10, 10]], [[10, 10], [10, 10], [10, 10]], [[10, 10], [10, 10], [10, 10]], [[10, 10], [10, 10], [10, 10]], [[10, 10], [10, 10], [10, 10]], [[10, 10], [10, 10], [10, 10]], [[10, 10], [10, 10], [10, 10]], [[10, 10], [10, 10], [10, 10]], [[10, 10], [10, 10], [10, 10]], [[10, 10], [10, 10], [10, 10]], [[10, 10], [10, 10], [10, 10]], [[10, 10], [10, 10], [10, 10]], [[10, 10], [10, 10], [10, 10]], [[10, 10], [10, 10], [10, 10]], [[10, 10], [10, 10], [10, 10]], [[10, 10], [10, 10], [10, 10]], [[10, 10], [10, 10], [10, 10]]], [[[10, 10], [10, 10], [10, 10]], [[10, 10], [10, 10], [10, 10]], [[10, 10], [10, 10], [10, 10]], [[10, 10], [10, 10], [10, 10]], [[10, 10], [10, 10], [10, 10]], [[10, 10], [10, 10], [10, 10]], [[10, 10], [10, 10], [10, 10]], [[10, 10], [10, 10], [10, 10]], [[10, 10], [10, 10], [10, 10]], [[10, 10], [10, 10], [10, 10]], [[10, 10], [10, 10], [10, 10]], [[10, 10], [10, 10], [10, 10]], [[10, 10], [10, 10], [10, 10]], [[10, 10], [10, 10], [10, 10]], [[10, 10], [10, 10], [10, 10]], [[10, 10], [10, 10], [10, 10]], [[10, 10], [10, 10], [10, 10]], [[10, 10], [10, 10], [10, 10]], [[10, 10], [10, 10], [10, 10]], [[10, 10], [10, 10], [10, 10]], [[10, 10], [10, 10], [10, 10]], [[10, 10], [10, 10], [10, 10]], [[10, 10], [10, 10], [10, 10]], [[10, 10], [10, 10], [10, 10]], [[10, 10], [10, 10], [10, 10]], [[10, 10], [10, 10], [10, 10]], [[10, 10], [10, 10], [10, 10]], [[10, 10], [10, 10], [10, 10]], [[10, 10], [10, 10], [10, 10]], [[10, 10], [10, 10], [10, 10]], [[10, 10], [10, 10], [10, 10]], [[10, 10], [10, 10], [10, 10]]], [[[10, 10], [10, 10], [10, 10]], [[10, 10], [10, 10], [10, 10]], [[10, 10], [10, 10], [10, 10]], [[10, 10], [10, 10], [10, 10]], [[10, 10], [10, 10], [10, 10]], [[10, 10], [10, 10], [10, 10]], [[10, 10], [10, 10], [10, 10]], [[10, 10], [10, 10], [10, 10]], [[10, 10], [10, 10], [10, 10]], [[10, 10], [10, 10], [10, 10]], [[10, 10], [10, 10], [10, 10]], [[10, 10], [10, 10], [10, 10]], [[10, 10], [10, 10], [10, 10]], [[10, 10], [10, 10], [10, 10]], [[10, 10], [10, 10], [10, 10]], [[10, 10], [10, 10], [10, 10]], [[10, 10], [10, 10], [10, 10]], [[10, 10], [10, 10], [10, 10]], [[10, 10], [10, 10], [10, 10]], [[10, 10], [10, 10], [10, 10]], [[10, 10], [10, 10], [10, 10]], [[10, 10], [10, 10], [10, 10]], [[10, 10], [10, 10], [10, 10]], [[10, 10], [10, 10], [10, 10]], [[10, 10], [10, 10], [10, 10]], [[10, 10], [10, 10], [10, 10]], [[10, 10], [10, 10], [10, 10]], [[10, 10], [10, 10], [10, 10]], [[10, 10], [10, 10], [10, 10]], [[10, 10], [10, 10], [10, 10]], [[10, 10], [10, 10], [10, 10]], [[10, 10], [10, 10], [10, 10]]], [[[10, 10], [10, 10], [10, 10]], [[10, 10], [10, 10], [10, 10]], [[10, 10], [10, 10], [10, 10]], [[10, 10], [10, 10], [10, 10]], [[10, 10], [10, 10], [10, 10]], [[10, 10], [10, 10], [10, 10]], [[10, 10], [10, 10], [10, 10]], [[10, 10], [10, 10], [10, 10]], [[10, 10], [10, 10], [10, 10]], [[10, 10], [10, 10], [10, 10]], [[10, 10], [10, 10], [10, 10]], [[10, 10], [10, 10], [10, 10]], [[10, 10], [10, 10], [10, 10]], [[10, 10], [10, 10], [10, 10]], [[10, 10], [10, 10], [10, 10]], [[10, 10], [10, 10], [10, 10]], [[10, 10], [10, 10], [10, 10]], [[10, 10], [10, 10], [10, 10]], [[10, 10], [10, 10], [10, 10]], [[10, 10], [10, 10], [10, 10]], [[10, 10], [10, 10], [10, 10]], [[10, 10], [10, 10], [10, 10]], [[10, 10], [10, 10], [10, 10]], [[10, 10], [10, 10], [10, 10]], [[10, 10], [10, 10], [10, 10]], [[10, 10], [10, 10], [10, 10]], [[10, 10], [10, 10], [10, 10]], [[10, 10], [10, 10], [10, 10]], [[10, 10], [10, 10], [10, 10]], [[10, 10], [10, 10], [10, 10]], [[10, 10], [10, 10], [10, 10]], [[10, 10], [10, 10], [10, 10]]], [[[10, 10], [10, 10], [10, 10]], [[10, 10], [10, 10], [10, 10]], [[10, 10], [10, 10], [10, 10]], [[10, 10], [10, 10], [10, 10]], [[10, 10], [10, 10], [10, 10]], [[10, 10], [10, 10], [10, 10]], [[10, 10], [10, 10], [10, 10]], [[10, 10], [10, 10], [10, 10]], [[10, 10], [10, 10], [10, 10]], [[10, 10], [10, 10], [10, 10]], [[10, 10], [10, 10], [10, 10]], [[10, 10], [10, 10], [10, 10]], [[10, 10], [10, 10], [10, 10]], [[10, 10], [10, 10], [10, 10]], [[10, 10], [10, 10], [10, 10]], [[10, 10], [10, 10], [10, 10]], [[10, 10], [10, 10], [10, 10]], [[10, 10], [10, 10], [10, 10]], [[10, 10], [10, 10], [10, 10]], [[10, 10], [10, 10], [10, 10]], [[10, 10], [10, 10], [10, 10]], [[10, 10], [10, 10], [10, 10]], [[10, 10], [10, 10], [10, 10]], [[10, 10], [10, 10], [10, 10]], [[10, 10], [10, 10], [10, 10]], [[10, 10], [10, 10], [10, 10]], [[10, 10], [10, 10], [10, 10]], [[10, 10], [10, 10], [10, 10]], [[10, 10], [10, 10], [10, 10]], [[10, 10], [10, 10], [10, 10]], [[10, 10], [10, 10], [10, 10]], [[10, 10], [10, 10], [10, 10]]], [[[10, 10], [10, 10], [10, 10]], [[10, 10], [10, 10], [10, 10]], [[10, 10], [10, 10], [10, 10]], [[10, 10], [10, 10], [10, 10]], [[10, 10], [10, 10], [10, 10]], [[10, 10], [10, 10], [10, 10]], [[10, 10], [10, 10], [10, 10]], [[10, 10], [10, 10], [10, 10]], [[10, 10], [10, 10], [10, 10]], [[10, 10], [10, 10], [10, 10]], [[10, 10], [10, 10], [10, 10]], [[10, 10], [10, 10], [10, 10]], [[10, 10], [10, 10], [10, 10]], [[10, 10], [10, 10], [10, 10]], [[10, 10], [10, 10], [10, 10]], [[10, 10], [10, 10], [10, 10]], [[10, 10], [10, 10], [10, 10]], [[10, 10], [10, 10], [10, 10]], [[10, 10], [10, 10], [10, 10]], [[10, 10], [10, 10], [10, 10]], [[10, 10], [10, 10], [10, 10]], [[10, 10], [10, 10], [10, 10]], [[10, 10], [10, 10], [10, 10]], [[10, 10], [10, 10], [10, 10]], [[10, 10], [10, 10], [10, 10]], [[10, 10], [10, 10], [10, 10]], [[10, 10], [10, 10], [10, 10]], [[10, 10], [10, 10], [10, 10]], [[10, 10], [10, 10], [10, 10]], [[10, 10], [10, 10], [10, 10]], [[10, 10], [10, 10], [10, 10]], [[10, 10], [10, 10], [10, 10]]], [[[10, 10], [10, 10], [10, 10]], [[10, 10], [10, 10], [10, 10]], [[10, 10], [10, 10], [10, 10]], [[10, 10], [10, 10], [10, 10]], [[10, 10], [10, 10], [10, 10]], [[10, 10], [10, 10], [10, 10]], [[10, 10], [10, 10], [10, 10]], [[10, 10], [10, 10], [10, 10]], [[10, 10], [10, 10], [10, 10]], [[10, 10], [10, 10], [10, 10]], [[10, 10], [10, 10], [10, 10]], [[10, 10], [10, 10], [10, 10]], [[10, 10], [10, 10], [10, 10]], [[10, 10], [10, 10], [10, 10]], [[10, 10], [10, 10], [10, 10]], [[10, 10], [10, 10], [10, 10]], [[10, 10], [10, 10], [10, 10]], [[10, 10], [10, 10], [10, 10]], [[10, 10], [10, 10], [10, 10]], [[10, 10], [10, 10], [10, 10]], [[10, 10], [10, 10], [10, 10]], [[10, 10], [10, 10], [10, 10]], [[10, 10], [10, 10], [10, 10]], [[10, 10], [10, 10], [10, 10]], [[10, 10], [10, 10], [10, 10]], [[10, 10], [10, 10], [10, 10]], [[10, 10], [10, 10], [10, 10]], [[10, 10], [10, 10], [10, 10]], [[10, 10], [10, 10], [10, 10]], [[10, 10], [10, 10], [10, 10]], [[10, 10], [10, 10], [10, 10]], [[10, 10], [10, 10], [10, 10]]], [[[10, 10], [10, 10], [10, 10]], [[10, 10], [10, 10], [10, 10]], [[10, 10], [10, 10], [10, 10]], [[10, 10], [10, 10], [10, 10]], [[10, 10], [10, 10], [10, 10]], [[10, 10], [10, 10], [10, 10]], [[10, 10], [10, 10], [10, 10]], [[10, 10], [10, 10], [10, 10]], [[24, 22], [24, 22], [24, 22]], [[24, 22], [24, 22], [24, 22]], [[10, 10], [10, 10], [10, 10]], [[24, 22], [24, 22], [24, 22]], [[24, 22], [24, 22], [24, 22]], [[10, 10], [10, 10], [10, 10]], [[24, 22], [24, 22], [24, 22]], [[24, 22], [24, 22], [24, 22]], [[10, 10], [10, 10], [10, 10]], [[10, 10], [10, 10], [10, 10]], [[10, 10], [10, 10], [10, 10]], [[10, 10], [10, 10], [10, 10]], [[10, 10], [10, 10], [10, 10]], [[10, 10], [10, 10], [10, 10]], [[10, 10], [10, 10], [10, 10]], [[10, 10], [10, 10], [10, 10]], [[10, 10], [10, 10], [10, 10]], [[10, 10], [10, 10], [10, 10]], [[10, 10], [10, 10], [10, 10]], [[10, 10], [10, 10], [10, 10]], [[10, 10], [10, 10], [10, 10]], [[10, 10], [10, 10], [10, 10]], [[10, 10], [10, 10], [10, 10]], [[10, 10], [10, 10], [10, 10]]], [[[10, 10], [10, 10], [10, 10]], [[10, 10], [10, 10], [10, 10]], [[10, 10], [10, 10], [10, 10]], [[10, 10], [10, 10], [10, 10]], [[10, 10], [10, 10], [10, 10]], [[10, 10], [10, 10], [10, 10]], [[10, 10], [10, 10], [10, 10]], [[10, 10], [10, 10], [10, 10]], [[24, 22], [24, 22], [24, 22]], [[24, 22], [24, 22], [24, 22]], [[10, 10], [10, 10], [10, 10]], [[24, 22], [24, 22], [24, 22]], [[24, 22], [24, 22], [24, 22]], [[10, 10], [10, 10], [10, 10]], [[24, 22], [24, 22], [24, 22]], [[24, 22], [24, 22], [24, 22]], [[10, 10], [10, 10], [10, 10]], [[10, 10], [10, 10], [10, 10]], [[10, 10], [10, 10], [10, 10]], [[10, 10], [10, 10], [10, 10]], [[10, 10], [10, 10], [10, 10]], [[10, 10], [10, 10], [10, 10]], [[10, 10], [10, 10], [10, 10]], [[10, 10], [10, 10], [10, 10]], [[10, 10], [10, 10], [10, 10]], [[10, 10], [10, 10], [10, 10]], [[10, 10], [10, 10], [10, 10]], [[10, 10], [10, 10], [10, 10]], [[10, 10], [10, 10], [10, 10]], [[10, 10], [10, 10], [10, 10]], [[10, 10], [10, 10], [10, 10]], [[10, 10], [10, 10], [10, 10]]], [[[10, 10], [10, 10], [10, 10]], [[10, 10], [10, 10], [10, 10]], [[10, 10], [10, 10], [10, 10]], [[10, 10], [10, 10], [10, 10]], [[10, 10], [10, 10], [10, 10]], [[10, 10], [10, 10], [10, 10]], [[10, 10], [10, 10], [10, 10]], [[10, 10], [10, 10], [10, 10]], [[10, 10], [10, 10], [10, 10]], [[10, 10], [10, 10], [10, 10]], [[10, 10], [10, 10], [10, 10]], [[10, 10], [10, 10], [10, 10]], [[10, 10], [10, 10], [10, 10]], [[10, 10], [10, 10], [10, 10]], [[10, 10], [10, 10], [10, 10]], [[10, 10], [10, 10], [10, 10]], [[10, 10], [10, 10], [10, 10]], [[10, 10], [10, 10], [10, 10]], [[10, 10], [10, 10], [10, 10]], [[10, 10], [10, 10], [10, 10]], [[10, 10], [10, 10], [10, 10]], [[10, 10], [10, 10], [10, 10]], [[10, 10], [10, 10], [10, 10]], [[10, 10], [10, 10], [10, 10]], [[10, 10], [10, 10], [10, 10]], [[10, 10], [10, 10], [10, 10]], [[10, 10], [10, 10], [10, 10]], [[10, 10], [10, 10], [10, 10]], [[10, 10], [10, 10], [10, 10]], [[10, 10], [10, 10], [10, 10]], [[10, 10], [10, 10], [10, 10]], [[10, 10], [10, 10], [10, 10]]], [[[10, 10], [10, 10], [10, 10]], [[10, 10], [10, 10], [10, 10]], [[10, 10], [10, 10], [10, 10]], [[10, 10], [10, 10], [10, 10]], [[10, 10], [10, 10], [10, 10]], [[10, 10], [10, 10], [10, 10]], [[10, 10], [10, 10], [10, 10]], [[10, 10], [10, 10], [10, 10]], [[24, 22], [24, 22], [24, 22]], [[24, 22], [24, 22], [24, 22]], [[10, 10], [10, 10], [10, 10]], [[10, 10], [10, 10], [10, 10]], [[10, 10], [10, 10], [10, 10]], [[10, 10], [10, 10], [10, 10]], [[24, 22], [24, 22], [24, 22]], [[24, 22], [24, 22], [24, 22]], [[10, 10], [10, 10], [10, 10]], [[10, 10], [10, 10], [10, 10]], [[10, 10], [10, 10], [10, 10]], [[10, 10], [10, 10], [10, 10]], [[10, 10], [10, 10], [10, 10]], [[10, 10], [10, 10], [10, 10]], [[10, 10], [10, 10], [10, 10]], [[10, 10], [10, 10], [10, 10]], [[10, 10], [10, 10], [10, 10]], [[10, 10], [10, 10], [10, 10]], [[10, 10], [10, 10], [10, 10]], [[10, 10], [10, 10], [10, 10]], [[10, 10], [10, 10], [10, 10]], [[10, 10], [10, 10], [10, 10]], [[10, 10], [10, 10], [10, 10]], [[10, 10], [10, 10], [10, 10]]], [[[10, 10], [10, 10], [10, 10]], [[10, 10], [10, 10], [10, 10]], [[10, 10], [10, 10], [10, 10]], [[10, 10], [10, 10], [10, 10]], [[10, 10], [10, 10], [10, 10]], [[10, 10], [10, 10], [10, 10]], [[10, 10], [10, 10], [10, 10]], [[10, 10], [10, 10], [10, 10]], [[24, 22], [24, 22], [24, 22]], [[24, 22], [24, 22], [24, 22]], [[10, 10], [10, 10], [10, 10]], [[10, 10], [10, 10], [10, 10]], [[10, 10], [10, 10], [10, 10]], [[10, 10], [10, 10], [10, 10]], [[24, 22], [24, 22], [24, 22]], [[24, 22], [24, 22], [24, 22]], [[10, 10], [10, 10], [10, 10]], [[10, 10], [10, 10], [10, 10]], [[10, 10], [10, 10], [10, 10]], [[10, 10], [10, 10], [10, 10]], [[10, 10], [10, 10], [10, 10]], [[10, 10], [10, 10], [10, 10]], [[10, 10], [10, 10], [10, 10]], [[10, 10], [10, 10], [10, 10]], [[10, 10], [10, 10], [10, 10]], [[10, 10], [10, 10], [10, 10]], [[10, 10], [10, 10], [10, 10]], [[10, 10], [10, 10], [10, 10]], [[10, 10], [10, 10], [10, 10]], [[10, 10], [10, 10], [10, 10]], [[10, 10], [10, 10], [10, 10]], [[10, 10], [10, 10], [10, 10]]], [[[10, 10], [10, 10], [10, 10]], [[10, 10], [10, 10], [10, 10]], [[10, 10], [10, 10], [10, 10]], [[10, 10], [10, 10], [10, 10]], [[10, 10], [10, 10], [10, 10]], [[10, 10], [10, 10], [10, 10]], [[10, 10], [10, 10], [10, 10]], [[10, 10], [10, 10], [10, 10]], [[10, 10], [10, 10], [10, 10]], [[10, 10], [10, 10], [10, 10]], [[10, 10], [10, 10], [10, 10]], [[10, 10], [10, 10], [10, 10]], [[10, 10], [10, 10], [10, 10]], [[10, 10], [10, 10], [10, 10]], [[10, 10], [10, 10], [10, 10]], [[10, 10], [10, 10], [10, 10]], [[10, 10], [10, 10], [10, 10]], [[10, 10], [10, 10], [10, 10]], [[10, 10], [10, 10], [10, 10]], [[10, 10], [10, 10], [10, 10]], [[10, 10], [10, 10], [10, 10]], [[10, 10], [10, 10], [10, 10]], [[10, 10], [10, 10], [10, 10]], [[10, 10], [10, 10], [10, 10]], [[10, 10], [10, 10], [10, 10]], [[10, 10], [10, 10], [10, 10]], [[10, 10], [10, 10], [10, 10]], [[10, 10], [10, 10], [10, 10]], [[10, 10], [10, 10], [10, 10]], [[10, 10], [10, 10], [10, 10]], [[10, 10], [10, 10], [10, 10]], [[10, 10], [10, 10], [10, 10]]], [[[10, 10], [10, 10], [10, 10]], [[10, 10], [10, 10], [10, 10]], [[10, 10], [10, 10], [10, 10]], [[10, 10], [10, 10], [10, 10]], [[10, 10], [10, 10], [10, 10]], [[10, 10], [10, 10], [10, 10]], [[10, 10], [10, 10], [10, 10]], [[10, 10], [10, 10], [10, 10]], [[24, 22], [24, 22], [24, 22]], [[24, 22], [24, 22], [24, 22]], [[10, 10], [10, 10], [10, 10]], [[24, 22], [24, 22], [24, 22]], [[24, 22], [24, 22], [24, 22]], [[10, 10], [10, 10], [10, 10]], [[24, 22], [24, 22], [24, 22]], [[24, 22], [24, 22], [24, 22]], [[10, 10], [10, 10], [10, 10]], [[10, 10], [10, 10], [10, 10]], [[10, 10], [10, 10], [10, 10]], [[10, 10], [10, 10], [10, 10]], [[10, 10], [10, 10], [10, 10]], [[10, 10], [10, 10], [10, 10]], [[10, 10], [10, 10], [10, 10]], [[10, 10], [10, 10], [10, 10]], [[10, 10], [10, 10], [10, 10]], [[10, 10], [10, 10], [10, 10]], [[10, 10], [10, 10], [10, 10]], [[10, 10], [10, 10], [10, 10]], [[10, 10], [10, 10], [10, 10]], [[10, 10], [10, 10], [10, 10]], [[10, 10], [10, 10], [10, 10]], [[10, 10], [10, 10], [10, 10]]], [[[10, 10], [10, 10], [10, 10]], [[10, 10], [10, 10], [10, 10]], [[10, 10], [10, 10], [10, 10]], [[10, 10], [10, 10], [10, 10]], [[10, 10], [10, 10], [10, 10]], [[10, 10], [10, 10], [10, 10]], [[10, 10], [10, 10], [10, 10]], [[10, 10], [10, 10], [10, 10]], [[24, 22], [24, 22], [24, 22]], [[24, 22], [24, 22], [24, 22]], [[10, 10], [10, 10], [10, 10]], [[24, 22], [24, 22], [24, 22]], [[24, 22], [24, 22], [24, 22]], [[10, 10], [10, 10], [10, 10]], [[24, 22], [24, 22], [24, 22]], [[24, 22], [24, 22], [24, 22]], [[10, 10], [10, 10], [10, 10]], [[10, 10], [10, 10], [10, 10]], [[10, 10], [10, 10], [10, 10]], [[10, 10], [10, 10], [10, 10]], [[10, 10], [10, 10], [10, 10]], [[10, 10], [10, 10], [10, 10]], [[10, 10], [10, 10], [10, 10]], [[10, 10], [10, 10], [10, 10]], [[10, 10], [10, 10], [10, 10]], [[10, 10], [10, 10], [10, 10]], [[10, 10], [10, 10], [10, 10]], [[10, 10], [10, 10], [10, 10]], [[10, 10], [10, 10], [10, 10]], [[10, 10], [10, 10], [10, 10]], [[10, 10], [10, 10], [10, 10]], [[10, 10], [10, 10], [10, 10]]], [[[10, 10], [10, 10], [10, 10]], [[10, 10], [10, 10], [10, 10]], [[10, 10], [10, 10], [10, 10]], [[10, 10], [10, 10], [10, 10]], [[10, 10], [10, 10], [10, 10]], [[10, 10], [10, 10], [10, 10]], [[10, 10], [10, 10], [10, 10]], [[10, 10], [10, 10], [10, 10]], [[10, 10], [10, 10], [10, 10]], [[10, 10], [10, 10], [10, 10]], [[10, 10], [10, 10], [10, 10]], [[10, 10], [10, 10], [10, 10]], [[10, 10], [10, 10], [10, 10]], [[10, 10], [10, 10], [10, 10]], [[10, 10], [10, 10], [10, 10]], [[10, 10], [10, 10], [10, 10]], [[10, 10], [10, 10], [10, 10]], [[10, 10], [10, 10], [10, 10]], [[10, 10], [10, 10], [10, 10]], [[10, 10], [10, 10], [10, 10]], [[10, 10], [10, 10], [10, 10]], [[10, 10], [10, 10], [10, 10]], [[10, 10], [10, 10], [10, 10]], [[10, 10], [10, 10], [10, 10]], [[10, 10], [10, 10], [10, 10]], [[10, 10], [10, 10], [10, 10]], [[10, 10], [10, 10], [10, 10]], [[10, 10], [10, 10], [10, 10]], [[10, 10], [10, 10], [10, 10]], [[10, 10], [10, 10], [10, 10]], [[10, 10], [10, 10], [10, 10]], [[10, 10], [10, 10], [10, 10]]], [[[10, 10], [10, 10], [10, 10]], [[10, 10], [10, 10], [10, 10]], [[10, 10], [10, 10], [10, 10]], [[10, 10], [10, 10], [10, 10]], [[10, 10], [10, 10], [10, 10]], [[10, 10], [10, 10], [10, 10]], [[10, 10], [10, 10], [10, 10]], [[10, 10], [10, 10], [10, 10]], [[10, 10], [10, 10], [10, 10]], [[10, 10], [10, 10], [10, 10]], [[10, 10], [10, 10], [10, 10]], [[10, 10], [10, 10], [10, 10]], [[10, 10], [10, 10], [10, 10]], [[10, 10], [10, 10], [10, 10]], [[10, 10], [10, 10], [10, 10]], [[10, 10], [10, 10], [10, 10]], [[10, 10], [10, 10], [10, 10]], [[10, 10], [10, 10], [10, 10]], [[10, 10], [10, 10], [10, 10]], [[10, 10], [10, 10], [10, 10]], [[10, 10], [10, 10], [10, 10]], [[10, 10], [10, 10], [10, 10]], [[10, 10], [10, 10], [10, 10]], [[10, 10], [10, 10], [10, 10]], [[10, 10], [10, 10], [10, 10]], [[10, 10], [10, 10], [10, 10]], [[10, 10], [10, 10], [10, 10]], [[10, 10], [10, 10], [10, 10]], [[10, 10], [10, 10], [10, 10]], [[10, 10], [10, 10], [10, 10]], [[10, 10], [10, 10], [10, 10]], [[10, 10], [10, 10], [10, 10]]], [[[10, 10], [10, 10], [10, 10]], [[10, 10], [10, 10], [10, 10]], [[10, 10], [10, 10], [10, 10]], [[10, 10], [10, 10], [10, 10]], [[10, 10], [10, 10], [10, 10]], [[10, 10], [10, 10], [10, 10]], [[10, 10], [10, 10], [10, 10]], [[10, 10], [10, 10], [10, 10]], [[10, 10], [10, 10], [10, 10]], [[10, 10], [10, 10], [10, 10]], [[10, 10], [10, 10], [10, 10]], [[10, 10], [10, 10], [10, 10]], [[10, 10], [10, 10], [10, 10]], [[10, 10], [10, 10], [10, 10]], [[10, 10], [10, 10], [10, 10]], [[10, 10], [10, 10], [10, 10]], [[10, 10], [10, 10], [10, 10]], [[10, 10], [10, 10], [10, 10]], [[10, 10], [10, 10], [10, 10]], [[10, 10], [10, 10], [10, 10]], [[10, 10], [10, 10], [10, 10]], [[10, 10], [10, 10], [10, 10]], [[10, 10], [10, 10], [10, 10]], [[10, 10], [10, 10], [10, 10]], [[10, 10], [10, 10], [10, 10]], [[10, 10], [10, 10], [10, 10]], [[10, 10], [10, 10], [10, 10]], [[10, 10], [10, 10], [10, 10]], [[10, 10], [10, 10], [10, 10]], [[10, 10], [10, 10], [10, 10]], [[10, 10], [10, 10], [10, 10]], [[10, 10], [10, 10], [10, 10]]], [[[10, 10], [10, 10], [10, 10]], [[10, 10], [10, 10], [10, 10]], [[10, 10], [10, 10], [10, 10]], [[10, 10], [10, 10], [10, 10]], [[10, 10], [10, 10], [10, 10]], [[10, 10], [10, 10], [10, 10]], [[10, 10], [10, 10], [10, 10]], [[10, 10], [10, 10], [10, 10]], [[10, 10], [10, 10], [10, 10]], [[10, 10], [10, 10], [10, 10]], [[10, 10], [10, 10], [10, 10]], [[10, 10], [10, 10], [10, 10]], [[10, 10], [10, 10], [10, 10]], [[10, 10], [10, 10], [10, 10]], [[10, 10], [10, 10], [10, 10]], [[10, 10], [10, 10], [10, 10]], [[10, 10], [10, 10], [10, 10]], [[10, 10], [10, 10], [10, 10]], [[10, 10], [10, 10], [10, 10]], [[10, 10], [10, 10], [10, 10]], [[10, 10], [10, 10], [10, 10]], [[10, 10], [10, 10], [10, 10]], [[10, 10], [10, 10], [10, 10]], [[10, 10], [10, 10], [10, 10]], [[10, 10], [10, 10], [10, 10]], [[10, 10], [10, 10], [10, 10]], [[10, 10], [10, 10], [10, 10]], [[10, 10], [10, 10], [10, 10]], [[10, 10], [10, 10], [10, 10]], [[10, 10], [10, 10], [10, 10]], [[10, 10], [10, 10], [10, 10]], [[10, 10], [10, 10], [10, 10]]], [[[10, 10], [10, 10], [10, 10]], [[10, 10], [10, 10], [10, 10]], [[10, 10], [10, 10], [10, 10]], [[10, 10], [10, 10], [10, 10]], [[10, 10], [10, 10], [10, 10]], [[10, 10], [10, 10], [10, 10]], [[10, 10], [10, 10], [10, 10]], [[10, 10], [10, 10], [10, 10]], [[10, 10], [10, 10], [10, 10]], [[10, 10], [10, 10], [10, 10]], [[10, 10], [10, 10], [10, 10]], [[10, 10], [10, 10], [10, 10]], [[10, 10], [10, 10], [10, 10]], [[10, 10], [10, 10], [10, 10]], [[10, 10], [10, 10], [10, 10]], [[10, 10], [10, 10], [10, 10]], [[10, 10], [10, 10], [10, 10]], [[10, 10], [10, 10], [10, 10]], [[10, 10], [10, 10], [10, 10]], [[10, 10], [10, 10], [10, 10]], [[10, 10], [10, 10], [10, 10]], [[10, 10], [10, 10], [10, 10]], [[10, 10], [10, 10], [10, 10]], [[10, 10], [10, 10], [10, 10]], [[10, 10], [10, 10], [10, 10]], [[10, 10], [10, 10], [10, 10]], [[10, 10], [10, 10], [10, 10]], [[10, 10], [10, 10], [10, 10]], [[10, 10], [10, 10], [10, 10]], [[10, 10], [10, 10], [10, 10]], [[10, 10], [10, 10], [10, 10]], [[10, 10], [10, 10], [10, 10]]], [[[10, 10], [10, 10], [10, 10]], [[10, 10], [10, 10], [10, 10]], [[10, 10], [10, 10], [10, 10]], [[10, 10], [10, 10], [10, 10]], [[10, 10], [10, 10], [10, 10]], [[10, 10], [10, 10], [10, 10]], [[10, 10], [10, 10], [10, 10]], [[10, 10], [10, 10], [10, 10]], [[10, 10], [10, 10], [10, 10]], [[10, 10], [10, 10], [10, 10]], [[10, 10], [10, 10], [10, 10]], [[10, 10], [10, 10], [10, 10]], [[10, 10], [10, 10], [10, 10]], [[10, 10], [10, 10], [10, 10]], [[10, 10], [10, 10], [10, 10]], [[10, 10], [10, 10], [10, 10]], [[10, 10], [10, 10], [10, 10]], [[10, 10], [10, 10], [10, 10]], [[10, 10], [10, 10], [10, 10]], [[10, 10], [10, 10], [10, 10]], [[10, 10], [10, 10], [10, 10]], [[10, 10], [10, 10], [10, 10]], [[10, 10], [10, 10], [10, 10]], [[10, 10], [10, 10], [10, 10]], [[10, 10], [10, 10], [10, 10]], [[10, 10], [10, 10], [10, 10]], [[10, 10], [10, 10], [10, 10]], [[10, 10], [10, 10], [10, 10]], [[10, 10], [10, 10], [10, 10]], [[10, 10], [10, 10], [10, 10]], [[10, 10], [10, 10], [10, 10]], [[10, 10], [10, 10], [10, 10]]], [[[10, 10], [10, 10], [10, 10]], [[10, 10], [10, 10], [10, 10]], [[10, 10], [10, 10], [10, 10]], [[10, 10], [10, 10], [10, 10]], [[10, 10], [10, 10], [10, 10]], [[10, 10], [10, 10], [10, 10]], [[10, 10], [10, 10], [10, 10]], [[10, 10], [10, 10], [10, 10]], [[10, 10], [10, 10], [10, 10]], [[10, 10], [10, 10], [10, 10]], [[10, 10], [10, 10], [10, 10]], [[10, 10], [10, 10], [10, 10]], [[10, 10], [10, 10], [10, 10]], [[10, 10], [10, 10], [10, 10]], [[10, 10], [10, 10], [10, 10]], [[10, 10], [10, 10], [10, 10]], [[10, 10], [10, 10], [10, 10]], [[10, 10], [10, 10], [10, 10]], [[10, 10], [10, 10], [10, 10]], [[10, 10], [10, 10], [10, 10]], [[10, 10], [10, 10], [10, 10]], [[10, 10], [10, 10], [10, 10]], [[10, 10], [10, 10], [10, 10]], [[10, 10], [10, 10], [10, 10]], [[10, 10], [10, 10], [10, 10]], [[10, 10], [10, 10], [10, 10]], [[10, 10], [10, 10], [10, 10]], [[10, 10], [10, 10], [10, 10]], [[10, 10], [10, 10], [10, 10]], [[10, 10], [10, 10], [10, 10]], [[10, 10], [10, 10], [10, 10]], [[10, 10], [10, 10], [10, 10]]], [[[10, 10], [10, 10], [10, 10]], [[10, 10], [10, 10], [10, 10]], [[10, 10], [10, 10], [10, 10]], [[10, 10], [10, 10], [10, 10]], [[10, 10], [10, 10], [10, 10]], [[10, 10], [10, 10], [10, 10]], [[10, 10], [10, 10], [10, 10]], [[10, 10], [10, 10], [10, 10]], [[10, 10], [10, 10], [10, 10]], [[10, 10], [10, 10], [10, 10]], [[10, 10], [10, 10], [10, 10]], [[10, 10], [10, 10], [10, 10]], [[10, 10], [10, 10], [10, 10]], [[10, 10], [10, 10], [10, 10]], [[10, 10], [10, 10], [10, 10]], [[10, 10], [10, 10], [10, 10]], [[10, 10], [10, 10], [10, 10]], [[10, 10], [10, 10], [10, 10]], [[10, 10], [10, 10], [10, 10]], [[10, 10], [10, 10], [10, 10]], [[10, 10], [10, 10], [10, 10]], [[10, 10], [10, 10], [10, 10]], [[10, 10], [10, 10], [10, 10]], [[10, 10], [10, 10], [10, 10]], [[10, 10], [10, 10], [10, 10]], [[10, 10], [10, 10], [10, 10]], [[10, 10], [10, 10], [10, 10]], [[10, 10], [10, 10], [10, 10]], [[10, 10], [10, 10], [10, 10]], [[10, 10], [10, 10], [10, 10]], [[10, 10], [10, 10], [10, 10]], [[10, 10], [10, 10], [10, 10]]], [[[10, 10], [10, 10], [10, 10]], [[10, 10], [10, 10], [10, 10]], [[10, 10], [10, 10], [10, 10]], [[10, 10], [10, 10], [10, 10]], [[10, 10], [10, 10], [10, 10]], [[10, 10], [10, 10], [10, 10]], [[10, 10], [10, 10], [10, 10]], [[10, 10], [10, 10], [10, 10]], [[10, 10], [10, 10], [10, 10]], [[10, 10], [10, 10], [10, 10]], [[10, 10], [10, 10], [10, 10]], [[10, 10], [10, 10], [10, 10]], [[10, 10], [10, 10], [10, 10]], [[10, 10], [10, 10], [10, 10]], [[10, 10], [10, 10], [10, 10]], [[10, 10], [10, 10], [10, 10]], [[10, 10], [10, 10], [10, 10]], [[10, 10], [10, 10], [10, 10]], [[10, 10], [10, 10], [10, 10]], [[10, 10], [10, 10], [10, 10]], [[10, 10], [10, 10], [10, 10]], [[10, 10], [10, 10], [10, 10]], [[10, 10], [10, 10], [10, 10]], [[10, 10], [10, 10], [10, 10]], [[10, 10], [10, 10], [10, 10]], [[10, 10], [10, 10], [10, 10]], [[10, 10], [10, 10], [10, 10]], [[10, 10], [10, 10], [10, 10]], [[10, 10], [10, 10], [10, 10]], [[10, 10], [10, 10], [10, 10]], [[10, 10], [10, 10], [10, 10]], [[10, 10], [10, 10], [10, 10]]], [[[10, 10], [10, 10], [10, 10]], [[10, 10], [10, 10], [10, 10]], [[10, 10], [10, 10], [10, 10]], [[10, 10], [10, 10], [10, 10]], [[10, 10], [10, 10], [10, 10]], [[10, 10], [10, 10], [10, 10]], [[10, 10], [10, 10], [10, 10]], [[10, 10], [10, 10], [10, 10]], [[10, 10], [10, 10], [10, 10]], [[10, 10], [10, 10], [10, 10]], [[10, 10], [10, 10], [10, 10]], [[10, 10], [10, 10], [10, 10]], [[10, 10], [10, 10], [10, 10]], [[10, 10], [10, 10], [10, 10]], [[10, 10], [10, 10], [10, 10]], [[10, 10], [10, 10], [10, 10]], [[10, 10], [10, 10], [10, 10]], [[10, 10], [10, 10], [10, 10]], [[10, 10], [10, 10], [10, 10]], [[10, 10], [10, 10], [10, 10]], [[10, 10], [10, 10], [10, 10]], [[10, 10], [10, 10], [10, 10]], [[10, 10], [10, 10], [10, 10]], [[10, 10], [10, 10], [10, 10]], [[10, 10], [10, 10], [10, 10]], [[10, 10], [10, 10], [10, 10]], [[10, 10], [10, 10], [10, 10]], [[10, 10], [10, 10], [10, 10]], [[10, 10], [10, 10], [10, 10]], [[10, 10], [10, 10], [10, 10]], [[10, 10], [10, 10], [10, 10]], [[10, 10], [10, 10], [10, 10]]], [[[10, 10], [10, 10], [10, 10]], [[10, 10], [10, 10], [10, 10]], [[10, 10], [10, 10], [10, 10]], [[10, 10], [10, 10], [10, 10]], [[10, 10], [10, 10], [10, 10]], [[10, 10], [10, 10], [10, 10]], [[10, 10], [10, 10], [10, 10]], [[10, 10], [10, 10], [10, 10]], [[10, 10], [10, 10], [10, 10]], [[10, 10], [10, 10], [10, 10]], [[10, 10], [10, 10], [10, 10]], [[10, 10], [10, 10], [10, 10]], [[10, 10], [10, 10], [10, 10]], [[10, 10], [10, 10], [10, 10]], [[10, 10], [10, 10], [10, 10]], [[10, 10], [10, 10], [10, 10]], [[10, 10], [10, 10], [10, 10]], [[10, 10], [10, 10], [10, 10]], [[10, 10], [10, 10], [10, 10]], [[10, 10], [10, 10], [10, 10]], [[10, 10], [10, 10], [10, 10]], [[10, 10], [10, 10], [10, 10]], [[10, 10], [10, 10], [10, 10]], [[10, 10], [10, 10], [10, 10]], [[10, 10], [10, 10], [10, 10]], [[10, 10], [10, 10], [10, 10]], [[10, 10], [10, 10], [10, 10]], [[10, 10], [10, 10], [10, 10]], [[10, 10], [10, 10], [10, 10]], [[10, 10], [10, 10], [10, 10]], [[10, 10], [10, 10], [10, 10]], [[10, 10], [10, 10], [10, 10]]], [[[10, 10], [10, 10], [10, 10]], [[10, 10], [10, 10], [10, 10]], [[10, 10], [10, 10], [10, 10]], [[10, 10], [10, 10], [10, 10]], [[10, 10], [10, 10], [10, 10]], [[10, 10], [10, 10], [10, 10]], [[10, 10], [10, 10], [10, 10]], [[10, 10], [10, 10], [10, 10]], [[10, 10], [10, 10], [10, 10]], [[10, 10], [10, 10], [10, 10]], [[10, 10], [10, 10], [10, 10]], [[10, 10], [10, 10], [10, 10]], [[10, 10], [10, 10], [10, 10]], [[10, 10], [10, 10], [10, 10]], [[10, 10], [10, 10], [10, 10]], [[10, 10], [10, 10], [10, 10]], [[10, 10], [10, 10], [10, 10]], [[10, 10], [10, 10], [10, 10]], [[10, 10], [10, 10], [10, 10]], [[10, 10], [10, 10], [10, 10]], [[10, 10], [10, 10], [10, 10]], [[10, 10], [10, 10], [10, 10]], [[10, 10], [10, 10], [10, 10]], [[10, 10], [10, 10], [10, 10]], [[10, 10], [10, 10], [10, 10]], [[10, 10], [10, 10], [10, 10]], [[10, 10], [10, 10], [10, 10]], [[10, 10], [10, 10], [10, 10]], [[10, 10], [10, 10], [10, 10]], [[10, 10], [10, 10], [10, 10]], [[10, 10], [10, 10], [10, 10]], [[10, 10], [10, 10], [10, 10]]], [[[10, 10], [10, 10], [10, 10]], [[10, 10], [10, 10], [10, 10]], [[10, 10], [10, 10], [10, 10]], [[10, 10], [10, 10], [10, 10]], [[10, 10], [10, 10], [10, 10]], [[10, 10], [10, 10], [10, 10]], [[10, 10], [10, 10], [10, 10]], [[10, 10], [10, 10], [10, 10]], [[10, 10], [10, 10], [10, 10]], [[10, 10], [10, 10], [10, 10]], [[10, 10], [10, 10], [10, 10]], [[10, 10], [10, 10], [10, 10]], [[10, 10], [10, 10], [10, 10]], [[10, 10], [10, 10], [10, 10]], [[10, 10], [10, 10], [10, 10]], [[10, 10], [10, 10], [10, 10]], [[10, 10], [10, 10], [10, 10]], [[10, 10], [10, 10], [10, 10]], [[10, 10], [10, 10], [10, 10]], [[10, 10], [10, 10], [10, 10]], [[10, 10], [10, 10], [10, 10]], [[10, 10], [10, 10], [10, 10]], [[10, 10], [10, 10], [10, 10]], [[10, 10], [10, 10], [10, 10]], [[10, 10], [10, 10], [10, 10]], [[10, 10], [10, 10], [10, 10]], [[10, 10], [10, 10], [10, 10]], [[10, 10], [10, 10], [10, 10]], [[10, 10], [10, 10], [10, 10]], [[10, 10], [10, 10], [10, 10]], [[10, 10], [10, 10], [10, 10]], [[10, 10], [10, 10], [10, 10]]], [[[10, 10], [10, 10], [10, 10]], [[10, 10], [10, 10], [10, 10]], [[10, 10], [10, 10], [10, 10]], [[10, 10], [10, 10], [10, 10]], [[10, 10], [10, 10], [10, 10]], [[10, 10], [10, 10], [10, 10]], [[10, 10], [10, 10], [10, 10]], [[10, 10], [10, 10], [10, 10]], [[10, 10], [10, 10], [10, 10]], [[10, 10], [10, 10], [10, 10]], [[10, 10], [10, 10], [10, 10]], [[10, 10], [10, 10], [10, 10]], [[10, 10], [10, 10], [10, 10]], [[10, 10], [10, 10], [10, 10]], [[10, 10], [10, 10], [10, 10]], [[10, 10], [10, 10], [10, 10]], [[10, 10], [10, 10], [10, 10]], [[10, 10], [10, 10], [10, 10]], [[10, 10], [10, 10], [10, 10]], [[10, 10], [10, 10], [10, 10]], [[10, 10], [10, 10], [10, 10]], [[10, 10], [10, 10], [10, 10]], [[10, 10], [10, 10], [10, 10]], [[10, 10], [10, 10], [10, 10]], [[10, 10], [10, 10], [10, 10]], [[10, 10], [10, 10], [10, 10]], [[10, 10], [10, 10], [10, 10]], [[10, 10], [10, 10], [10, 10]], [[10, 10], [10, 10], [10, 10]], [[10, 10], [10, 10], [10, 10]], [[10, 10], [10, 10], [10, 10]], [[10, 10], [10, 10], [10, 10]]], [[[10, 10], [10, 10], [10, 10]], [[10, 10], [10, 10], [10, 10]], [[10, 10], [10, 10], [10, 10]], [[10, 10], [10, 10], [10, 10]], [[10, 10], [10, 10], [10, 10]], [[10, 10], [10, 10], [10, 10]], [[10, 10], [10, 10], [10, 10]], [[10, 10], [10, 10], [10, 10]], [[10, 10], [10, 10], [10, 10]], [[10, 10], [10, 10], [10, 10]], [[10, 10], [10, 10], [10, 10]], [[10, 10], [10, 10], [10, 10]], [[10, 10], [10, 10], [10, 10]], [[10, 10], [10, 10], [10, 10]], [[10, 10], [10, 10], [10, 10]], [[10, 10], [10, 10], [10, 10]], [[10, 10], [10, 10], [10, 10]], [[10, 10], [10, 10], [10, 10]], [[10, 10], [10, 10], [10, 10]], [[10, 10], [10, 10], [10, 10]], [[10, 10], [10, 10], [10, 10]], [[10, 10], [10, 10], [10, 10]], [[10, 10], [10, 10], [10, 10]], [[10, 10], [10, 10], [10, 10]], [[10, 10], [10, 10], [10, 10]], [[10, 10], [10, 10], [10, 10]], [[10, 10], [10, 10], [10, 10]], [[10, 10], [10, 10], [10, 10]], [[10, 10], [10, 10], [10, 10]], [[10, 10], [10, 10], [10, 10]], [[10, 10], [10, 10], [10, 10]], [[10, 10], [10, 10], [10, 10]]], [[[10, 10], [10, 10], [10, 10]], [[10, 10], [10, 10], [10, 10]], [[10, 10], [10, 10], [10, 10]], [[10, 10], [10, 10], [10, 10]], [[10, 10], [10, 10], [10, 10]], [[10, 10], [10, 10], [10, 10]], [[10, 10], [10, 10], [10, 10]], [[10, 10], [10, 10], [10, 10]], [[10, 10], [10, 10], [10, 10]], [[10, 10], [10, 10], [10, 10]], [[10, 10], [10, 10], [10, 10]], [[10, 10], [10, 10], [10, 10]], [[10, 10], [10, 10], [10, 10]], [[10, 10], [10, 10], [10, 10]], [[10, 10], [10, 10], [10, 10]], [[10, 10], [10, 10], [10, 10]], [[10, 10], [10, 10], [10, 10]], [[10, 10], [10, 10], [10, 10]], [[10, 10], [10, 10], [10, 10]], [[10, 10], [10, 10], [10, 10]], [[10, 10], [10, 10], [10, 10]], [[10, 10], [10, 10], [10, 10]], [[10, 10], [10, 10], [10, 10]], [[10, 10], [10, 10], [10, 10]], [[10, 10], [10, 10], [10, 10]], [[10, 10], [10, 10], [10, 10]], [[10, 10], [10, 10], [10, 10]], [[10, 10], [10, 10], [10, 10]], [[10, 10], [10, 10], [10, 10]], [[10, 10], [10, 10], [10, 10]], [[10, 10], [10, 10], [10, 10]], [[10, 10], [10, 10], [10, 10]]]]\n",
      "300\n"
     ]
    }
   ],
   "source": [
    "print(len(X_test_all_results))\n",
    "print(len(X_test_all_results[0]))\n",
    "print(len(X_test_all_results[0][0]))\n",
    "\n",
    "print(coors_test_org[img, :].tolist())\n",
    "print(X_test.shape[0])\n"
   ]
  },
  {
   "cell_type": "code",
   "execution_count": 239,
   "id": "9155d363",
   "metadata": {},
   "outputs": [
    {
     "name": "stdout",
     "output_type": "stream",
     "text": [
      "bypassed\n"
     ]
    }
   ],
   "source": [
    "#find anchors on test data\n",
    "counts = np.zeros((tm.number_of_clauses*tm.number_of_classes))\n",
    "for image_results in X_test_all_results:\n",
    "    for patch in image_results:\n",
    "        patch_id = patch[0]\n",
    "        counts[patch_id] += 1\n",
    "\n",
    "# Initialize origin_points\n",
    "origin_points = [[] for _ in range(tm.number_of_classes)]\n",
    "# Get anchor points for each class\n",
    "for Class in range(tm.number_of_classes):\n",
    "    # Sort per class, args are IDs, get two most common\n",
    "    #anchor_ids = Class*tm.number_of_clauses + counts[Class*tm.number_of_clauses:(Class+1)*tm.number_of_clauses].argsort()[-2:]\n",
    "    anchor_ids = Class*tm.number_of_clauses + counts[Class*tm.number_of_clauses:(Class+1)*tm.number_of_clauses].argsort()\n",
    "    #IDs now per class\n",
    "    for anchor_id in anchor_ids: #per ID\n",
    "        # Find the coordinates of the anchor patches\n",
    "        for image_results in X_test_all_results: \n",
    "            for result in image_results:\n",
    "                # if bypass_anchor_selection:\n",
    "                #     origin_points[Class].append(coors_test_org[img, :].tolist())  # Assuming result[1] has the coordinates\n",
    "                # else:\n",
    "                if result[0] == anchor_id:\n",
    "                    origin_points[Class].append(result[1:])  # Assuming result[1] has the coordinates\n",
    "                else:\n",
    "                    origin_points[Class].append([0,0]) \n",
    "\n",
    "\n",
    "# Now pass this to the create_dist_and_dir_map function\n",
    "if bypass_anchor_selection:\n",
    "    #translate numpy array to list\n",
    "    origin_points5 = [[] for _ in range(tm.number_of_classes)]\n",
    "    for Class in range(tm.number_of_classes):\n",
    "        for img in range(X_test.shape[0]):\n",
    "                #print(\"ghe\", tuple(coors_test_org[img, :].astype(int).tolist()))\n",
    "                origin_points5[Class].append(coors_test_org[img, :].tolist())  # Assuming result[1] has the coordinates\n",
    "                #origin_points5[Class].append(coors_test_org[img, :].astype(int).tolist())\n",
    "        \n",
    "    print(\"bypassed\")\n",
    "    encoded_patches_test = create_dist_and_dir_map(X_test_org, Y_test_org, origin_points5, 1)\n",
    "else:\n",
    "    encoded_patches_test = create_dist_and_dir_map(X_test_org, Y_test_org, origin_points, 2)\n",
    "    \n"
   ]
  },
  {
   "cell_type": "code",
   "execution_count": 240,
   "id": "4c3900fa",
   "metadata": {},
   "outputs": [
    {
     "name": "stdout",
     "output_type": "stream",
     "text": [
      "7500\n",
      "300\n"
     ]
    }
   ],
   "source": [
    "print(len(origin_points[0]))\n",
    "print(len(origin_points5[0]))\n"
   ]
  },
  {
   "cell_type": "code",
   "execution_count": 241,
   "id": "b95779e2",
   "metadata": {},
   "outputs": [
    {
     "name": "stdout",
     "output_type": "stream",
     "text": [
      "[[[10, 10], [22, 10], [16, 24], [7, 8], [26, 22], [14, 19], [12, 26], [7, 16], [26, 10], [8, 25], [9, 13], [7, 10], [23, 10], [10, 21], [21, 23], [19, 26], [12, 23], [14, 25], [14, 18], [11, 10], [14, 12], [21, 18], [22, 12], [9, 19], [23, 23], [24, 9], [15, 9], [13, 23], [20, 22], [12, 15], [14, 26], [21, 26], [6, 16], [26, 20], [17, 16], [20, 23], [15, 19], [10, 19], [18, 13], [24, 15], [8, 24], [10, 10], [17, 11], [20, 20], [12, 21], [13, 19], [12, 13], [18, 6], [23, 14], [18, 14], [17, 16], [21, 10], [24, 6], [8, 10], [8, 8], [17, 8], [21, 24], [9, 18], [7, 25], [14, 23], [22, 11], [17, 11], [12, 7], [23, 8], [21, 25], [11, 26], [18, 20], [25, 17], [11, 16], [24, 26], [11, 17], [18, 21], [19, 23], [10, 7], [15, 22], [20, 8], [9, 22], [18, 11], [24, 18], [14, 16], [19, 8], [16, 10], [26, 13], [24, 26], [6, 13], [12, 10], [21, 21], [25, 18], [12, 9], [12, 18], [25, 24], [10, 11], [14, 14], [11, 22], [12, 9], [18, 16], [20, 12], [7, 26], [23, 21], [21, 20], [12, 8], [10, 9], [17, 7], [18, 10], [9, 6], [15, 12], [17, 21], [12, 24], [10, 25], [25, 17], [25, 23], [25, 25], [26, 20], [23, 21], [16, 20], [12, 8], [8, 15], [14, 8], [26, 11], [15, 7], [12, 16], [26, 16], [22, 19], [25, 18], [22, 17], [21, 12], [17, 14], [26, 15], [11, 19], [23, 8], [18, 14], [12, 20], [16, 17], [12, 25], [10, 19], [10, 12], [15, 19], [12, 19], [24, 16], [23, 11], [6, 12], [7, 10], [19, 11], [10, 7], [20, 10], [8, 20], [13, 9], [11, 22], [21, 24], [9, 18], [21, 10], [20, 6], [7, 24], [20, 21], [15, 18], [10, 17], [12, 22], [9, 16], [21, 16], [7, 16], [10, 16], [16, 26], [9, 25], [23, 6], [12, 21], [8, 20], [7, 6], [19, 8], [22, 15], [8, 14], [18, 7], [19, 26], [19, 12], [16, 9], [6, 8], [14, 20], [20, 8], [19, 25], [13, 18], [19, 26], [15, 23], [8, 14], [11, 7], [12, 15], [17, 18], [18, 10], [8, 16], [19, 22], [26, 22], [8, 24], [19, 17], [21, 17], [25, 23], [10, 17], [14, 7], [11, 13], [19, 14], [10, 20], [22, 26], [14, 21], [25, 6], [13, 25], [24, 6], [20, 16], [22, 10], [7, 25], [25, 10], [13, 25], [16, 16], [21, 9], [6, 22], [18, 17], [12, 25], [14, 13], [18, 24], [17, 13], [21, 20], [9, 18], [26, 12], [26, 10], [15, 24], [25, 9], [24, 15], [17, 18], [10, 22], [17, 12], [6, 22], [22, 21], [16, 9], [7, 9], [14, 21], [10, 22], [13, 25], [9, 24], [13, 13], [8, 26], [6, 7], [9, 8], [11, 16], [15, 19], [18, 13], [17, 9], [8, 9], [13, 23], [26, 24], [15, 13], [19, 6], [19, 9], [21, 15], [12, 26], [12, 13], [17, 12], [24, 19], [18, 20], [8, 24], [24, 22], [16, 13], [19, 11], [12, 14], [12, 24], [13, 11], [21, 24], [24, 25], [23, 8], [13, 13], [24, 18], [7, 16], [6, 14], [10, 13], [16, 13], [14, 9], [7, 21], [11, 14], [9, 19], [9, 21], [24, 17], [16, 7], [13, 7], [23, 22], [24, 14], [25, 15], [10, 15], [16, 22], [25, 13], [17, 18], [24, 13], [26, 10], [22, 22], [26, 19], [22, 21], [22, 18], [10, 10], [18, 11], [16, 23], [16, 8], [16, 6], [17, 17], [16, 8], [10, 13], [17, 26]], [[10, 10], [22, 10], [16, 24], [7, 8], [26, 22], [14, 19], [12, 26], [7, 16], [26, 10], [8, 25], [9, 13], [7, 10], [23, 10], [10, 21], [21, 23], [19, 26], [12, 23], [14, 25], [14, 18], [11, 10], [14, 12], [21, 18], [22, 12], [9, 19], [23, 23], [24, 9], [15, 9], [13, 23], [20, 22], [12, 15], [14, 26], [21, 26], [6, 16], [26, 20], [17, 16], [20, 23], [15, 19], [10, 19], [18, 13], [24, 15], [8, 24], [10, 10], [17, 11], [20, 20], [12, 21], [13, 19], [12, 13], [18, 6], [23, 14], [18, 14], [17, 16], [21, 10], [24, 6], [8, 10], [8, 8], [17, 8], [21, 24], [9, 18], [7, 25], [14, 23], [22, 11], [17, 11], [12, 7], [23, 8], [21, 25], [11, 26], [18, 20], [25, 17], [11, 16], [24, 26], [11, 17], [18, 21], [19, 23], [10, 7], [15, 22], [20, 8], [9, 22], [18, 11], [24, 18], [14, 16], [19, 8], [16, 10], [26, 13], [24, 26], [6, 13], [12, 10], [21, 21], [25, 18], [12, 9], [12, 18], [25, 24], [10, 11], [14, 14], [11, 22], [12, 9], [18, 16], [20, 12], [7, 26], [23, 21], [21, 20], [12, 8], [10, 9], [17, 7], [18, 10], [9, 6], [15, 12], [17, 21], [12, 24], [10, 25], [25, 17], [25, 23], [25, 25], [26, 20], [23, 21], [16, 20], [12, 8], [8, 15], [14, 8], [26, 11], [15, 7], [12, 16], [26, 16], [22, 19], [25, 18], [22, 17], [21, 12], [17, 14], [26, 15], [11, 19], [23, 8], [18, 14], [12, 20], [16, 17], [12, 25], [10, 19], [10, 12], [15, 19], [12, 19], [24, 16], [23, 11], [6, 12], [7, 10], [19, 11], [10, 7], [20, 10], [8, 20], [13, 9], [11, 22], [21, 24], [9, 18], [21, 10], [20, 6], [7, 24], [20, 21], [15, 18], [10, 17], [12, 22], [9, 16], [21, 16], [7, 16], [10, 16], [16, 26], [9, 25], [23, 6], [12, 21], [8, 20], [7, 6], [19, 8], [22, 15], [8, 14], [18, 7], [19, 26], [19, 12], [16, 9], [6, 8], [14, 20], [20, 8], [19, 25], [13, 18], [19, 26], [15, 23], [8, 14], [11, 7], [12, 15], [17, 18], [18, 10], [8, 16], [19, 22], [26, 22], [8, 24], [19, 17], [21, 17], [25, 23], [10, 17], [14, 7], [11, 13], [19, 14], [10, 20], [22, 26], [14, 21], [25, 6], [13, 25], [24, 6], [20, 16], [22, 10], [7, 25], [25, 10], [13, 25], [16, 16], [21, 9], [6, 22], [18, 17], [12, 25], [14, 13], [18, 24], [17, 13], [21, 20], [9, 18], [26, 12], [26, 10], [15, 24], [25, 9], [24, 15], [17, 18], [10, 22], [17, 12], [6, 22], [22, 21], [16, 9], [7, 9], [14, 21], [10, 22], [13, 25], [9, 24], [13, 13], [8, 26], [6, 7], [9, 8], [11, 16], [15, 19], [18, 13], [17, 9], [8, 9], [13, 23], [26, 24], [15, 13], [19, 6], [19, 9], [21, 15], [12, 26], [12, 13], [17, 12], [24, 19], [18, 20], [8, 24], [24, 22], [16, 13], [19, 11], [12, 14], [12, 24], [13, 11], [21, 24], [24, 25], [23, 8], [13, 13], [24, 18], [7, 16], [6, 14], [10, 13], [16, 13], [14, 9], [7, 21], [11, 14], [9, 19], [9, 21], [24, 17], [16, 7], [13, 7], [23, 22], [24, 14], [25, 15], [10, 15], [16, 22], [25, 13], [17, 18], [24, 13], [26, 10], [22, 22], [26, 19], [22, 21], [22, 18], [10, 10], [18, 11], [16, 23], [16, 8], [16, 6], [17, 17], [16, 8], [10, 13], [17, 26]], [[10, 10], [22, 10], [16, 24], [7, 8], [26, 22], [14, 19], [12, 26], [7, 16], [26, 10], [8, 25], [9, 13], [7, 10], [23, 10], [10, 21], [21, 23], [19, 26], [12, 23], [14, 25], [14, 18], [11, 10], [14, 12], [21, 18], [22, 12], [9, 19], [23, 23], [24, 9], [15, 9], [13, 23], [20, 22], [12, 15], [14, 26], [21, 26], [6, 16], [26, 20], [17, 16], [20, 23], [15, 19], [10, 19], [18, 13], [24, 15], [8, 24], [10, 10], [17, 11], [20, 20], [12, 21], [13, 19], [12, 13], [18, 6], [23, 14], [18, 14], [17, 16], [21, 10], [24, 6], [8, 10], [8, 8], [17, 8], [21, 24], [9, 18], [7, 25], [14, 23], [22, 11], [17, 11], [12, 7], [23, 8], [21, 25], [11, 26], [18, 20], [25, 17], [11, 16], [24, 26], [11, 17], [18, 21], [19, 23], [10, 7], [15, 22], [20, 8], [9, 22], [18, 11], [24, 18], [14, 16], [19, 8], [16, 10], [26, 13], [24, 26], [6, 13], [12, 10], [21, 21], [25, 18], [12, 9], [12, 18], [25, 24], [10, 11], [14, 14], [11, 22], [12, 9], [18, 16], [20, 12], [7, 26], [23, 21], [21, 20], [12, 8], [10, 9], [17, 7], [18, 10], [9, 6], [15, 12], [17, 21], [12, 24], [10, 25], [25, 17], [25, 23], [25, 25], [26, 20], [23, 21], [16, 20], [12, 8], [8, 15], [14, 8], [26, 11], [15, 7], [12, 16], [26, 16], [22, 19], [25, 18], [22, 17], [21, 12], [17, 14], [26, 15], [11, 19], [23, 8], [18, 14], [12, 20], [16, 17], [12, 25], [10, 19], [10, 12], [15, 19], [12, 19], [24, 16], [23, 11], [6, 12], [7, 10], [19, 11], [10, 7], [20, 10], [8, 20], [13, 9], [11, 22], [21, 24], [9, 18], [21, 10], [20, 6], [7, 24], [20, 21], [15, 18], [10, 17], [12, 22], [9, 16], [21, 16], [7, 16], [10, 16], [16, 26], [9, 25], [23, 6], [12, 21], [8, 20], [7, 6], [19, 8], [22, 15], [8, 14], [18, 7], [19, 26], [19, 12], [16, 9], [6, 8], [14, 20], [20, 8], [19, 25], [13, 18], [19, 26], [15, 23], [8, 14], [11, 7], [12, 15], [17, 18], [18, 10], [8, 16], [19, 22], [26, 22], [8, 24], [19, 17], [21, 17], [25, 23], [10, 17], [14, 7], [11, 13], [19, 14], [10, 20], [22, 26], [14, 21], [25, 6], [13, 25], [24, 6], [20, 16], [22, 10], [7, 25], [25, 10], [13, 25], [16, 16], [21, 9], [6, 22], [18, 17], [12, 25], [14, 13], [18, 24], [17, 13], [21, 20], [9, 18], [26, 12], [26, 10], [15, 24], [25, 9], [24, 15], [17, 18], [10, 22], [17, 12], [6, 22], [22, 21], [16, 9], [7, 9], [14, 21], [10, 22], [13, 25], [9, 24], [13, 13], [8, 26], [6, 7], [9, 8], [11, 16], [15, 19], [18, 13], [17, 9], [8, 9], [13, 23], [26, 24], [15, 13], [19, 6], [19, 9], [21, 15], [12, 26], [12, 13], [17, 12], [24, 19], [18, 20], [8, 24], [24, 22], [16, 13], [19, 11], [12, 14], [12, 24], [13, 11], [21, 24], [24, 25], [23, 8], [13, 13], [24, 18], [7, 16], [6, 14], [10, 13], [16, 13], [14, 9], [7, 21], [11, 14], [9, 19], [9, 21], [24, 17], [16, 7], [13, 7], [23, 22], [24, 14], [25, 15], [10, 15], [16, 22], [25, 13], [17, 18], [24, 13], [26, 10], [22, 22], [26, 19], [22, 21], [22, 18], [10, 10], [18, 11], [16, 23], [16, 8], [16, 6], [17, 17], [16, 8], [10, 13], [17, 26]], [[10, 10], [22, 10], [16, 24], [7, 8], [26, 22], [14, 19], [12, 26], [7, 16], [26, 10], [8, 25], [9, 13], [7, 10], [23, 10], [10, 21], [21, 23], [19, 26], [12, 23], [14, 25], [14, 18], [11, 10], [14, 12], [21, 18], [22, 12], [9, 19], [23, 23], [24, 9], [15, 9], [13, 23], [20, 22], [12, 15], [14, 26], [21, 26], [6, 16], [26, 20], [17, 16], [20, 23], [15, 19], [10, 19], [18, 13], [24, 15], [8, 24], [10, 10], [17, 11], [20, 20], [12, 21], [13, 19], [12, 13], [18, 6], [23, 14], [18, 14], [17, 16], [21, 10], [24, 6], [8, 10], [8, 8], [17, 8], [21, 24], [9, 18], [7, 25], [14, 23], [22, 11], [17, 11], [12, 7], [23, 8], [21, 25], [11, 26], [18, 20], [25, 17], [11, 16], [24, 26], [11, 17], [18, 21], [19, 23], [10, 7], [15, 22], [20, 8], [9, 22], [18, 11], [24, 18], [14, 16], [19, 8], [16, 10], [26, 13], [24, 26], [6, 13], [12, 10], [21, 21], [25, 18], [12, 9], [12, 18], [25, 24], [10, 11], [14, 14], [11, 22], [12, 9], [18, 16], [20, 12], [7, 26], [23, 21], [21, 20], [12, 8], [10, 9], [17, 7], [18, 10], [9, 6], [15, 12], [17, 21], [12, 24], [10, 25], [25, 17], [25, 23], [25, 25], [26, 20], [23, 21], [16, 20], [12, 8], [8, 15], [14, 8], [26, 11], [15, 7], [12, 16], [26, 16], [22, 19], [25, 18], [22, 17], [21, 12], [17, 14], [26, 15], [11, 19], [23, 8], [18, 14], [12, 20], [16, 17], [12, 25], [10, 19], [10, 12], [15, 19], [12, 19], [24, 16], [23, 11], [6, 12], [7, 10], [19, 11], [10, 7], [20, 10], [8, 20], [13, 9], [11, 22], [21, 24], [9, 18], [21, 10], [20, 6], [7, 24], [20, 21], [15, 18], [10, 17], [12, 22], [9, 16], [21, 16], [7, 16], [10, 16], [16, 26], [9, 25], [23, 6], [12, 21], [8, 20], [7, 6], [19, 8], [22, 15], [8, 14], [18, 7], [19, 26], [19, 12], [16, 9], [6, 8], [14, 20], [20, 8], [19, 25], [13, 18], [19, 26], [15, 23], [8, 14], [11, 7], [12, 15], [17, 18], [18, 10], [8, 16], [19, 22], [26, 22], [8, 24], [19, 17], [21, 17], [25, 23], [10, 17], [14, 7], [11, 13], [19, 14], [10, 20], [22, 26], [14, 21], [25, 6], [13, 25], [24, 6], [20, 16], [22, 10], [7, 25], [25, 10], [13, 25], [16, 16], [21, 9], [6, 22], [18, 17], [12, 25], [14, 13], [18, 24], [17, 13], [21, 20], [9, 18], [26, 12], [26, 10], [15, 24], [25, 9], [24, 15], [17, 18], [10, 22], [17, 12], [6, 22], [22, 21], [16, 9], [7, 9], [14, 21], [10, 22], [13, 25], [9, 24], [13, 13], [8, 26], [6, 7], [9, 8], [11, 16], [15, 19], [18, 13], [17, 9], [8, 9], [13, 23], [26, 24], [15, 13], [19, 6], [19, 9], [21, 15], [12, 26], [12, 13], [17, 12], [24, 19], [18, 20], [8, 24], [24, 22], [16, 13], [19, 11], [12, 14], [12, 24], [13, 11], [21, 24], [24, 25], [23, 8], [13, 13], [24, 18], [7, 16], [6, 14], [10, 13], [16, 13], [14, 9], [7, 21], [11, 14], [9, 19], [9, 21], [24, 17], [16, 7], [13, 7], [23, 22], [24, 14], [25, 15], [10, 15], [16, 22], [25, 13], [17, 18], [24, 13], [26, 10], [22, 22], [26, 19], [22, 21], [22, 18], [10, 10], [18, 11], [16, 23], [16, 8], [16, 6], [17, 17], [16, 8], [10, 13], [17, 26]]]\n",
      "4\n",
      "300\n",
      "2\n",
      "img shape (10, 32, 32, 3)\n",
      "(300,)\n"
     ]
    },
    {
     "data": {
      "image/png": "[encoded data removed]",
      "text/plain": [
       "<Figure size 5000x500 with 10 Axes>"
      ]
     },
     "metadata": {},
     "output_type": "display_data"
    }
   ],
   "source": [
    "def plot_images_with_coordinates(images, Y_images, origin_points, n_origin_points=6, square_size=5):\n",
    "    \"\"\"\n",
    "    Plots images with specified coordinates (origin points) marked with red squares based on their class labels.\n",
    "\n",
    "    Parameters:\n",
    "    - images: List of 2D arrays representing the images.\n",
    "    - Y_images: List of labels corresponding to each image.\n",
    "    - origin_points: List of origin points for each class.\n",
    "    - n_origin_points: Number of origin points to consider for each class.\n",
    "    - square_size: Size of the square to be plotted at each coordinate.\n",
    "    \"\"\"\n",
    "    print(\"img shape\", images.shape)\n",
    "    print(Y_images.shape)\n",
    "    \n",
    "    batch_size = len(images)\n",
    "    fig, ax = plt.subplots(1, batch_size, figsize=(batch_size * 5, 5))\n",
    "\n",
    "    for i in range(batch_size):\n",
    "        ax[i].imshow(images[i])\n",
    "        class_label = Y_images[i, 0] if len(Y_images.shape) > 1 else Y_images[i]\n",
    "\n",
    "        if class_label < len(origin_points):\n",
    "            origins = origin_points[class_label]\n",
    "            #for point in range(min(n_origin_points, len(origins))):\n",
    "            #for point in range(n_origin_points):\n",
    "            origin_coord = origins[i]\n",
    "            if np.any(origin_coord == -1):\n",
    "                continue\n",
    "            x, y = origin_coord\n",
    "            rect = patches.Rectangle((x - square_size//2, y - square_size//2), square_size, square_size, linewidth=1, edgecolor='g', facecolor='none')\n",
    "            ax[i].add_patch(rect)\n",
    "\n",
    "    plt.show()\n",
    "print(origin_points5)\n",
    "print(len(origin_points5))\n",
    "print(len(origin_points5[0]))\n",
    "print(len(origin_points5[0][0]))\n",
    "plot_images_with_coordinates(X_test_org[:10], Y_test_org, origin_points5)\n"
   ]
  },
  {
   "cell_type": "code",
   "execution_count": 242,
   "id": "59507b8f",
   "metadata": {},
   "outputs": [
    {
     "name": "stdout",
     "output_type": "stream",
     "text": [
      "bypassed\n"
     ]
    }
   ],
   "source": [
    "#find anchors on train data\n",
    "counts = np.zeros((tm.number_of_clauses*tm.number_of_classes))\n",
    "for image_results in X_train_all_results:\n",
    "    for patch in image_results:\n",
    "        patch_id = patch[0]\n",
    "        counts[patch_id] += 1\n",
    "anchors_id = []\n",
    "\n",
    "# Initialize origin_points\n",
    "origin_points = [[] for _ in range(tm.number_of_classes)]\n",
    "# Get anchor points for each class\n",
    "for Class in range(tm.number_of_classes):\n",
    "    # Sort per class, args are IDs, get two most common\n",
    "    #anchor_ids = Class*tm.number_of_clauses + counts[Class*tm.number_of_clauses:(Class+1)*tm.number_of_clauses].argsort()[-2:]\n",
    "    anchor_ids = Class*tm.number_of_clauses + counts[Class*tm.number_of_clauses:(Class+1)*tm.number_of_clauses]\n",
    "    #IDs now per class\n",
    "    for anchor_id in anchor_ids: #per ID\n",
    "        # Find the coordinates of the anchor patches\n",
    "        for image_results in X_train_all_results:\n",
    "            for result in image_results:\n",
    "                if result[0] == anchor_id:\n",
    "                    origin_points[Class].append(result[1:])  # Assuming result[1] has the coordinates\n",
    "                else:\n",
    "                    origin_points[Class].append([0,0]) \n",
    "\n",
    "# Now pass this to the create_dist_and_dir_map function\n",
    "\n",
    "# Now pass this to the create_dist_and_dir_map function\n",
    "if bypass_anchor_selection:\n",
    "    #translate numpy array to list\n",
    "    origin_points6 = [[] for _ in range(tm.number_of_classes)]\n",
    "    for Class in range(tm.number_of_classes):\n",
    "        for img in range(X_train.shape[0]):\n",
    "                #print(\"ghe\", tuple(coors_test_org[img, :].astype(int).tolist()))\n",
    "                origin_points6[Class].append(coors_train_org[img, :].tolist())  # Assuming result[1] has the coordinates\n",
    "                #origin_points5[Class].append(coors_test_org[img, :].astype(int).tolist())\n",
    "        \n",
    "    print(\"bypassed\")\n",
    "    encoded_patches_train = create_dist_and_dir_map(X_train_org, Y_train_org, origin_points6, 1)\n",
    "else:\n",
    "    encoded_patches_train = create_dist_and_dir_map(X_train_org, Y_train_org, origin_points, 2)\n",
    "\n",
    "\n"
   ]
  },
  {
   "cell_type": "code",
   "execution_count": null,
   "id": "f25d0797",
   "metadata": {},
   "outputs": [],
   "source": []
  },
  {
   "cell_type": "code",
   "execution_count": 243,
   "id": "5fe46268",
   "metadata": {},
   "outputs": [],
   "source": [
    "\n",
    "# Create the windowed datasets\n",
    "X_train = create_windowed_dataset(thermometer_encode(X_train_org), thermometer_encode(encoded_patches_train), patch_dim=patch_dim)\n",
    "X_test = create_windowed_dataset(thermometer_encode(X_test_org), thermometer_encode(encoded_patches_test), patch_dim=patch_dim)\n",
    "\n"
   ]
  },
  {
   "cell_type": "code",
   "execution_count": 244,
   "id": "f6624f26",
   "metadata": {},
   "outputs": [
    {
     "name": "stdout",
     "output_type": "stream",
     "text": [
      "(500, 30, 30, 9216)\n"
     ]
    }
   ],
   "source": [
    "print(X_train.shape)"
   ]
  },
  {
   "cell_type": "code",
   "execution_count": 245,
   "metadata": {},
   "outputs": [
    {
     "name": "stdout",
     "output_type": "stream",
     "text": [
      "Training:\n",
      "4 labels used: [0 1 2 3]\n",
      "Training pictures: 500\n",
      "Testing:\n",
      "4 labels used: [0 1 2 3]\n",
      "Maximum achievable accuracy: 100.0\n",
      "..adjusting\n",
      "Testing pictures: 300\n",
      "\n",
      "Accuracy over 50 epochs:\n",
      "\n"
     ]
    },
    {
     "name": "stderr",
     "output_type": "stream",
     "text": [
      "  0%|          | 0/50 [00:00<?, ?it/s]"
     ]
    },
    {
     "name": "stdout",
     "output_type": "stream",
     "text": [
      "2023-12-18 17:21:49,284 - tmu.models.classification.base_classification - DEBUG - Initializing clause bank....\n"
     ]
    },
    {
     "name": "stderr",
     "output_type": "stream",
     "text": [
      "  2%|▏         | 1/50 [02:12<1:48:03, 132.31s/it]"
     ]
    },
    {
     "name": "stdout",
     "output_type": "stream",
     "text": [
      "0 0 34.00 30.60 21.48 41.26\n"
     ]
    },
    {
     "name": "stderr",
     "output_type": "stream",
     "text": [
      "  4%|▍         | 2/50 [04:07<1:37:43, 122.16s/it]"
     ]
    },
    {
     "name": "stdout",
     "output_type": "stream",
     "text": [
      "0 1 29.33 33.00 4.79 40.69\n"
     ]
    },
    {
     "name": "stderr",
     "output_type": "stream",
     "text": [
      "  6%|▌         | 3/50 [06:02<1:33:15, 119.04s/it]"
     ]
    },
    {
     "name": "stdout",
     "output_type": "stream",
     "text": [
      "0 2 38.00 45.00 4.64 40.96\n"
     ]
    },
    {
     "name": "stderr",
     "output_type": "stream",
     "text": [
      "  8%|▊         | 4/50 [07:58<1:30:11, 117.64s/it]"
     ]
    },
    {
     "name": "stdout",
     "output_type": "stream",
     "text": [
      "0 3 47.67 48.80 4.63 41.05\n"
     ]
    },
    {
     "name": "stderr",
     "output_type": "stream",
     "text": [
      " 10%|█         | 5/50 [09:53<1:27:35, 116.80s/it]"
     ]
    },
    {
     "name": "stdout",
     "output_type": "stream",
     "text": [
      "0 4 48.33 48.80 4.56 40.98\n"
     ]
    },
    {
     "name": "stderr",
     "output_type": "stream",
     "text": [
      " 12%|█▏        | 6/50 [11:48<1:25:18, 116.33s/it]"
     ]
    },
    {
     "name": "stdout",
     "output_type": "stream",
     "text": [
      "0 5 46.00 50.40 4.56 41.02\n"
     ]
    },
    {
     "name": "stderr",
     "output_type": "stream",
     "text": [
      " 14%|█▍        | 7/50 [13:43<1:23:01, 115.85s/it]"
     ]
    },
    {
     "name": "stdout",
     "output_type": "stream",
     "text": [
      "0 6 46.67 51.00 4.53 40.68\n"
     ]
    },
    {
     "name": "stderr",
     "output_type": "stream",
     "text": [
      " 16%|█▌        | 8/50 [15:38<1:20:53, 115.57s/it]"
     ]
    },
    {
     "name": "stdout",
     "output_type": "stream",
     "text": [
      "0 7 43.00 51.60 4.54 40.71\n"
     ]
    },
    {
     "name": "stderr",
     "output_type": "stream",
     "text": [
      " 18%|█▊        | 9/50 [17:33<1:18:52, 115.44s/it]"
     ]
    },
    {
     "name": "stdout",
     "output_type": "stream",
     "text": [
      "0 8 46.67 54.40 4.56 40.91\n"
     ]
    },
    {
     "name": "stderr",
     "output_type": "stream",
     "text": [
      " 20%|██        | 10/50 [19:28<1:16:50, 115.27s/it]"
     ]
    },
    {
     "name": "stdout",
     "output_type": "stream",
     "text": [
      "0 9 48.00 54.20 4.46 40.73\n"
     ]
    },
    {
     "name": "stderr",
     "output_type": "stream",
     "text": [
      " 22%|██▏       | 11/50 [21:23<1:14:51, 115.17s/it]"
     ]
    },
    {
     "name": "stdout",
     "output_type": "stream",
     "text": [
      "0 10 48.67 53.40 4.50 40.73\n"
     ]
    },
    {
     "name": "stderr",
     "output_type": "stream",
     "text": [
      " 24%|██▍       | 12/50 [23:18<1:12:56, 115.16s/it]"
     ]
    },
    {
     "name": "stdout",
     "output_type": "stream",
     "text": [
      "0 11 47.00 54.40 4.47 41.11\n"
     ]
    },
    {
     "name": "stderr",
     "output_type": "stream",
     "text": [
      " 26%|██▌       | 13/50 [25:13<1:10:59, 115.12s/it]"
     ]
    },
    {
     "name": "stdout",
     "output_type": "stream",
     "text": [
      "0 12 49.00 52.60 4.39 40.83\n"
     ]
    },
    {
     "name": "stderr",
     "output_type": "stream",
     "text": [
      " 28%|██▊       | 14/50 [27:09<1:09:04, 115.12s/it]"
     ]
    },
    {
     "name": "stdout",
     "output_type": "stream",
     "text": [
      "0 13 45.00 51.20 4.58 40.86\n"
     ]
    },
    {
     "name": "stderr",
     "output_type": "stream",
     "text": [
      " 30%|███       | 15/50 [29:03<1:07:06, 115.05s/it]"
     ]
    },
    {
     "name": "stdout",
     "output_type": "stream",
     "text": [
      "0 14 51.00 53.40 4.46 40.75\n"
     ]
    },
    {
     "name": "stderr",
     "output_type": "stream",
     "text": [
      " 32%|███▏      | 16/50 [30:58<1:05:07, 114.94s/it]"
     ]
    },
    {
     "name": "stdout",
     "output_type": "stream",
     "text": [
      "0 15 46.33 53.20 4.40 40.65\n"
     ]
    },
    {
     "name": "stderr",
     "output_type": "stream",
     "text": [
      " 34%|███▍      | 17/50 [32:53<1:03:11, 114.90s/it]"
     ]
    },
    {
     "name": "stdout",
     "output_type": "stream",
     "text": [
      "0 16 49.33 55.20 4.40 40.73\n"
     ]
    },
    {
     "name": "stderr",
     "output_type": "stream",
     "text": [
      " 36%|███▌      | 18/50 [34:48<1:01:15, 114.87s/it]"
     ]
    },
    {
     "name": "stdout",
     "output_type": "stream",
     "text": [
      "0 17 51.00 53.60 4.43 40.59\n"
     ]
    },
    {
     "name": "stderr",
     "output_type": "stream",
     "text": [
      " 38%|███▊      | 19/50 [36:43<59:21, 114.87s/it]  "
     ]
    },
    {
     "name": "stdout",
     "output_type": "stream",
     "text": [
      "0 18 49.33 57.00 4.44 40.73\n"
     ]
    },
    {
     "name": "stderr",
     "output_type": "stream",
     "text": [
      " 40%|████      | 20/50 [38:37<57:25, 114.87s/it]"
     ]
    },
    {
     "name": "stdout",
     "output_type": "stream",
     "text": [
      "0 19 47.33 54.60 4.40 40.78\n"
     ]
    },
    {
     "name": "stderr",
     "output_type": "stream",
     "text": [
      " 42%|████▏     | 21/50 [40:32<55:30, 114.85s/it]"
     ]
    },
    {
     "name": "stdout",
     "output_type": "stream",
     "text": [
      "0 20 49.00 54.40 4.41 40.65\n"
     ]
    },
    {
     "name": "stderr",
     "output_type": "stream",
     "text": [
      " 44%|████▍     | 22/50 [42:27<53:38, 114.96s/it]"
     ]
    },
    {
     "name": "stdout",
     "output_type": "stream",
     "text": [
      "0 21 47.33 54.80 4.46 40.79\n"
     ]
    },
    {
     "name": "stderr",
     "output_type": "stream",
     "text": [
      " 46%|████▌     | 23/50 [44:23<51:45, 115.01s/it]"
     ]
    },
    {
     "name": "stdout",
     "output_type": "stream",
     "text": [
      "0 22 44.67 52.40 4.58 40.78\n"
     ]
    },
    {
     "name": "stderr",
     "output_type": "stream",
     "text": [
      " 48%|████▊     | 24/50 [46:17<49:46, 114.88s/it]"
     ]
    },
    {
     "name": "stdout",
     "output_type": "stream",
     "text": [
      "0 23 47.67 55.00 4.47 40.50\n"
     ]
    },
    {
     "name": "stderr",
     "output_type": "stream",
     "text": [
      " 50%|█████     | 25/50 [48:12<47:48, 114.72s/it]"
     ]
    },
    {
     "name": "stdout",
     "output_type": "stream",
     "text": [
      "0 24 53.33 54.60 4.43 40.54\n"
     ]
    },
    {
     "name": "stderr",
     "output_type": "stream",
     "text": [
      " 52%|█████▏    | 26/50 [50:06<45:49, 114.56s/it]"
     ]
    },
    {
     "name": "stdout",
     "output_type": "stream",
     "text": [
      "0 25 49.00 54.20 4.39 40.48\n"
     ]
    },
    {
     "name": "stderr",
     "output_type": "stream",
     "text": [
      " 54%|█████▍    | 27/50 [52:00<43:51, 114.42s/it]"
     ]
    },
    {
     "name": "stdout",
     "output_type": "stream",
     "text": [
      "0 26 49.00 55.80 4.40 40.32\n"
     ]
    },
    {
     "name": "stderr",
     "output_type": "stream",
     "text": [
      " 56%|█████▌    | 28/50 [53:54<41:54, 114.27s/it]"
     ]
    },
    {
     "name": "stdout",
     "output_type": "stream",
     "text": [
      "0 27 51.00 56.20 4.40 40.24\n"
     ]
    },
    {
     "name": "stderr",
     "output_type": "stream",
     "text": [
      " 58%|█████▊    | 29/50 [55:48<39:59, 114.27s/it]"
     ]
    },
    {
     "name": "stdout",
     "output_type": "stream",
     "text": [
      "0 28 54.33 56.00 4.38 40.58\n"
     ]
    },
    {
     "name": "stderr",
     "output_type": "stream",
     "text": [
      " 60%|██████    | 30/50 [57:42<38:03, 114.19s/it]"
     ]
    },
    {
     "name": "stdout",
     "output_type": "stream",
     "text": [
      "0 29 51.00 56.20 4.43 40.26\n"
     ]
    },
    {
     "name": "stderr",
     "output_type": "stream",
     "text": [
      " 62%|██████▏   | 31/50 [59:37<36:12, 114.33s/it]"
     ]
    },
    {
     "name": "stdout",
     "output_type": "stream",
     "text": [
      "0 30 48.67 55.20 4.39 40.49\n"
     ]
    },
    {
     "name": "stderr",
     "output_type": "stream",
     "text": [
      " 64%|██████▍   | 32/50 [1:01:33<34:27, 114.84s/it]"
     ]
    },
    {
     "name": "stdout",
     "output_type": "stream",
     "text": [
      "0 31 52.00 54.60 4.65 41.31\n"
     ]
    },
    {
     "name": "stderr",
     "output_type": "stream",
     "text": [
      " 66%|██████▌   | 33/50 [1:03:28<32:34, 114.99s/it]"
     ]
    },
    {
     "name": "stdout",
     "output_type": "stream",
     "text": [
      "0 32 52.00 56.20 4.70 41.09\n"
     ]
    },
    {
     "name": "stderr",
     "output_type": "stream",
     "text": [
      " 68%|██████▊   | 34/50 [1:05:22<30:37, 114.82s/it]"
     ]
    },
    {
     "name": "stdout",
     "output_type": "stream",
     "text": [
      "0 33 46.67 56.80 4.49 40.40\n"
     ]
    },
    {
     "name": "stderr",
     "output_type": "stream",
     "text": [
      " 70%|███████   | 35/50 [1:07:17<28:41, 114.76s/it]"
     ]
    },
    {
     "name": "stdout",
     "output_type": "stream",
     "text": [
      "0 34 52.67 55.60 4.45 40.63\n"
     ]
    },
    {
     "name": "stderr",
     "output_type": "stream",
     "text": [
      " 72%|███████▏  | 36/50 [1:09:11<26:44, 114.64s/it]"
     ]
    },
    {
     "name": "stdout",
     "output_type": "stream",
     "text": [
      "0 35 50.67 56.80 4.43 40.52\n"
     ]
    },
    {
     "name": "stderr",
     "output_type": "stream",
     "text": [
      " 74%|███████▍  | 37/50 [1:11:06<24:49, 114.60s/it]"
     ]
    },
    {
     "name": "stdout",
     "output_type": "stream",
     "text": [
      "0 36 48.67 55.80 4.38 40.68\n"
     ]
    },
    {
     "name": "stderr",
     "output_type": "stream",
     "text": [
      " 76%|███████▌  | 38/50 [1:13:00<22:54, 114.54s/it]"
     ]
    },
    {
     "name": "stdout",
     "output_type": "stream",
     "text": [
      "0 37 49.67 56.20 4.41 40.53\n"
     ]
    },
    {
     "name": "stderr",
     "output_type": "stream",
     "text": [
      " 78%|███████▊  | 39/50 [1:14:55<21:00, 114.55s/it]"
     ]
    },
    {
     "name": "stdout",
     "output_type": "stream",
     "text": [
      "0 38 52.67 57.80 4.39 40.75\n"
     ]
    },
    {
     "name": "stderr",
     "output_type": "stream",
     "text": [
      " 80%|████████  | 40/50 [1:16:49<19:04, 114.44s/it]"
     ]
    },
    {
     "name": "stdout",
     "output_type": "stream",
     "text": [
      "0 39 48.00 56.40 4.38 40.47\n"
     ]
    },
    {
     "name": "stderr",
     "output_type": "stream",
     "text": [
      " 82%|████████▏ | 41/50 [1:18:44<17:10, 114.55s/it]"
     ]
    },
    {
     "name": "stdout",
     "output_type": "stream",
     "text": [
      "0 40 50.00 56.20 4.42 40.37\n"
     ]
    },
    {
     "name": "stderr",
     "output_type": "stream",
     "text": [
      " 84%|████████▍ | 42/50 [1:20:40<15:19, 114.95s/it]"
     ]
    },
    {
     "name": "stdout",
     "output_type": "stream",
     "text": [
      "0 41 50.67 56.60 4.84 41.00\n"
     ]
    },
    {
     "name": "stderr",
     "output_type": "stream",
     "text": [
      " 86%|████████▌ | 43/50 [1:22:35<13:24, 114.93s/it]"
     ]
    },
    {
     "name": "stdout",
     "output_type": "stream",
     "text": [
      "0 42 53.33 56.60 4.68 40.67\n"
     ]
    },
    {
     "name": "stderr",
     "output_type": "stream",
     "text": [
      " 88%|████████▊ | 44/50 [1:24:29<11:28, 114.77s/it]"
     ]
    },
    {
     "name": "stdout",
     "output_type": "stream",
     "text": [
      "0 43 53.00 54.60 4.42 40.68\n"
     ]
    },
    {
     "name": "stderr",
     "output_type": "stream",
     "text": [
      " 90%|█████████ | 45/50 [1:26:20<09:28, 113.71s/it]"
     ]
    },
    {
     "name": "stdout",
     "output_type": "stream",
     "text": [
      "0 44 48.00 55.40 4.20 39.17\n"
     ]
    },
    {
     "name": "stderr",
     "output_type": "stream",
     "text": [
      " 92%|█████████▏| 46/50 [1:28:11<07:31, 112.82s/it]"
     ]
    },
    {
     "name": "stdout",
     "output_type": "stream",
     "text": [
      "0 45 51.33 54.40 4.06 38.92\n"
     ]
    },
    {
     "name": "stderr",
     "output_type": "stream",
     "text": [
      " 94%|█████████▍| 47/50 [1:30:03<05:37, 112.63s/it]"
     ]
    },
    {
     "name": "stdout",
     "output_type": "stream",
     "text": [
      "0 46 47.33 56.60 4.09 38.95\n"
     ]
    },
    {
     "name": "stderr",
     "output_type": "stream",
     "text": [
      " 96%|█████████▌| 48/50 [1:31:58<03:46, 113.40s/it]"
     ]
    },
    {
     "name": "stdout",
     "output_type": "stream",
     "text": [
      "0 47 49.33 56.60 4.27 40.45\n"
     ]
    },
    {
     "name": "stderr",
     "output_type": "stream",
     "text": [
      " 98%|█████████▊| 49/50 [1:33:50<01:52, 112.76s/it]"
     ]
    },
    {
     "name": "stdout",
     "output_type": "stream",
     "text": [
      "0 48 49.67 56.20 4.07 39.33\n"
     ]
    },
    {
     "name": "stderr",
     "output_type": "stream",
     "text": [
      "100%|██████████| 50/50 [1:35:41<00:00, 114.82s/it]\n"
     ]
    },
    {
     "name": "stdout",
     "output_type": "stream",
     "text": [
      "0 49 50.67 54.80 4.13 39.00\n",
      "\n",
      "Accuracy over 50 epochs:\n",
      "\n"
     ]
    },
    {
     "name": "stderr",
     "output_type": "stream",
     "text": [
      "  0%|          | 0/50 [00:00<?, ?it/s]"
     ]
    },
    {
     "name": "stdout",
     "output_type": "stream",
     "text": [
      "2023-12-18 18:57:30,485 - tmu.models.classification.base_classification - DEBUG - Initializing clause bank....\n"
     ]
    },
    {
     "name": "stderr",
     "output_type": "stream",
     "text": [
      "  2%|▏         | 1/50 [02:05<1:42:48, 125.89s/it]"
     ]
    },
    {
     "name": "stdout",
     "output_type": "stream",
     "text": [
      "1 0 31.00 30.20 19.09 39.32\n"
     ]
    },
    {
     "name": "stderr",
     "output_type": "stream",
     "text": [
      "  4%|▍         | 2/50 [03:57<1:33:56, 117.43s/it]"
     ]
    },
    {
     "name": "stdout",
     "output_type": "stream",
     "text": [
      "1 1 38.00 34.80 4.31 39.27\n"
     ]
    }
   ],
   "source": [
    "#Train the TM 2 and record results\n",
    "#f = open(\"run_%.1f_%d_%d_%d_%d_%d.txt\" % (s, clauses, T, step, visual_tokens), \"w+\")\n",
    "logTrain = np.zeros((epochs, X_train.shape[0]), dtype=np.uint8)\n",
    "logTest =  np.zeros((epochs, X_test.shape[0]),  dtype=np.uint8)\n",
    "\n",
    "print(\"Training:\")\n",
    "training_data_labels = np.unique(Y_train)\n",
    "print(training_data_labels.shape[0], \"labels used:\", training_data_labels)\n",
    "print(\"Training pictures:\", X_train.shape[0])\n",
    "\n",
    "print(\"Testing:\")\n",
    "testing_data_labels = np.unique(Y_test)\n",
    "print(testing_data_labels.shape[0], \"labels used:\", testing_data_labels)\n",
    "print(\"Maximum achievable accuracy:\", (100*(training_data_labels.shape[0]/testing_data_labels.shape[0])))\n",
    "print(\"..adjusting\") #see result_test_adj\n",
    "print(\"Testing pictures:\", X_test.shape[0])\n",
    "\n",
    "for label in range(trained_labels.shape[0]):\n",
    "        print(\"\\nAccuracy over %d epochs:\\n\" % (epochs))\n",
    "\n",
    "        tm = TMClassifier(clauses, T, s, max_included_literals=max_included_literals, patch_dim=(1,1), platform='CPU', weighted_clauses=True)\n",
    "        \n",
    "        for epoch in tqdm(range(epochs)):\n",
    "                start_training = time()\n",
    "                tm.fit(X_train, Y_train)\n",
    "                stop_training = time()\n",
    "\n",
    "                start_testing = time()\n",
    "                result_test = 100*(tm.predict(X_test) == Y_test).mean()\n",
    "                result_test_adj = 100*(result_test/ (100*(training_data_labels.shape[0]/testing_data_labels.shape[0])))\n",
    "                logTest[epoch] = (tm.predict(X_test))*label\n",
    "                stop_testing = time()\n",
    "\n",
    "                result_train = 100*(tm.predict(X_train) == Y_train).mean()\n",
    "                logTrain[epoch] = (tm.predict(X_train))*label\n",
    "\n",
    "                #recall_and_precision(epoch)\n",
    "\n",
    "                print(\"%d %d %.2f %.2f %.2f %.2f\" % (label, epoch, result_test_adj, result_train, stop_training-start_training, stop_testing-start_testing))\n",
    "                #print(\"%d %d %.2f %.2f %.2f %.2f\" % (label, epoch, result_test_adj, result_train, stop_training-start_training, stop_testing-start_testing), file=f)\n",
    "                #f.flush()\n",
    "#f.close()\n",
    "\n"
   ]
  },
  {
   "cell_type": "code",
   "execution_count": null,
   "id": "13391c70",
   "metadata": {},
   "outputs": [
    {
     "name": "stdout",
     "output_type": "stream",
     "text": [
      "2023-12-18 10:32:52,861 - matplotlib.colorbar - DEBUG - locator: <matplotlib.ticker.AutoLocator object at 0x2a2ef35e0>\n"
     ]
    },
    {
     "data": {
      "image/png": "[encoded data removed]",
      "text/plain": [
       "<Figure size 800x600 with 2 Axes>"
      ]
     },
     "metadata": {},
     "output_type": "display_data"
    }
   ],
   "source": [
    "#Confusion Matrix\n",
    "conf_matrix2 = confusion_matrix(Y_test, tm.predict(X_test))\n",
    "# Calculate percentages\n",
    "conf_matrix_percent2 = conf_matrix2 / conf_matrix2.sum(axis=1, keepdims=True) * 100\n",
    "conf_matrix_percent2 = np.nan_to_num(conf_matrix_percent2, 0)  # Replace NaNs with 0\n",
    "\n",
    "# Plot the confusion matrix with percentages\n",
    "plt.figure(figsize=(8, 6))\n",
    "sns.heatmap(conf_matrix_percent2, annot=True, fmt=\".1f\", cmap=\"Blues\", xticklabels=labels, yticklabels=labels)\n",
    "plt.title(\"Confusion Matrix run 2 (Percentages)\")\n",
    "plt.xlabel(\"Predicted Labels\")\n",
    "plt.ylabel(\"True Labels\")\n",
    "plt.show()\n"
   ]
  },
  {
   "cell_type": "code",
   "execution_count": null,
   "id": "8818a843",
   "metadata": {},
   "outputs": [
    {
     "name": "stdout",
     "output_type": "stream",
     "text": [
      "2023-12-18 10:32:53,020 - matplotlib.colorbar - DEBUG - locator: <matplotlib.ticker.AutoLocator object at 0x2a401d0f0>\n"
     ]
    },
    {
     "data": {
      "image/png": "[encoded data removed]",
      "text/plain": [
       "<Figure size 800x600 with 2 Axes>"
      ]
     },
     "metadata": {},
     "output_type": "display_data"
    }
   ],
   "source": [
    "#Confusion Matrix\n",
    "\n",
    "# Plot the confusion matrix with percentages\n",
    "plt.figure(figsize=(8, 6))\n",
    "sns.heatmap(conf_matrix_percent2-conf_matrix_percent1, annot=True, fmt=\".1f\", cmap=\"Blues\", xticklabels=labels, yticklabels=labels)\n",
    "plt.title(\"Confusion Matrix run 2 (Percentages)\")\n",
    "plt.xlabel(\"Predicted Labels\")\n",
    "plt.ylabel(\"True Labels\")\n",
    "plt.show()\n"
   ]
  },
  {
   "cell_type": "code",
   "execution_count": null,
   "id": "66454ada",
   "metadata": {},
   "outputs": [],
   "source": []
  }
 ],
 "metadata": {
  "kernelspec": {
   "display_name": "Python 3 (ipykernel)",
   "language": "python",
   "name": "python3"
  },
  "language_info": {
   "codemirror_mode": {
    "name": "ipython",
    "version": 3
   },
   "file_extension": ".py",
   "mimetype": "text/x-python",
   "name": "python",
   "nbconvert_exporter": "python",
   "pygments_lexer": "ipython3",
   "version": "3.10.10"
  }
 },
 "nbformat": 4,
 "nbformat_minor": 5
}
