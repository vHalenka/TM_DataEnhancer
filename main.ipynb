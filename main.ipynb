{
 "cells": [
  {
   "cell_type": "code",
   "execution_count": 502,
   "id": "00f1f1d9",
   "metadata": {},
   "outputs": [],
   "source": [
    "#Imports\n",
    "# import os\n",
    "# os.environ['NUMEXPR_MAX_THREADS'] = 40\n",
    "import numpy as np\n",
    "import random\n",
    "from time import time\n",
    "from tmu.models.classification.vanilla_classifier import TMClassifier\n",
    "from scipy.sparse import lil_matrix\n",
    "from skimage.util import view_as_windows\n",
    "from sklearn.feature_extraction.text import CountVectorizer\n",
    "import cv2\n",
    "from skimage.transform import pyramid_gaussian, pyramid_laplacian, downscale_local_mean\n",
    "from matplotlib.gridspec import GridSpec\n",
    "import matplotlib.pyplot as plt #drawing plots\n",
    "import matplotlib.patches as patches #drawing squares\n",
    "from matplotlib.lines import Line2D\n",
    "from scipy.ndimage import rotate\n",
    "import math \n",
    "\n",
    "\n",
    "import seaborn as sns\n",
    "import pandas as pd\n",
    "from sklearn.metrics import confusion_matrix\n",
    "\n",
    "from tqdm import tqdm #runtime stats\n",
    "\n",
    "import ssl\n",
    "\n",
    "ssl._create_default_https_context = ssl._create_unverified_context\n",
    "from keras.datasets import cifar10\n"
   ]
  },
  {
   "cell_type": "code",
   "execution_count": 503,
   "id": "98e51f01",
   "metadata": {},
   "outputs": [],
   "source": [
    "\n",
    "#Parameters\n",
    "\n",
    "#TM\n",
    "epochs = 20\n",
    "max_included_literals = 500\n",
    "clauses = 10\n",
    "T = int((np.sqrt(clauses)/2 + 2)*10)\n",
    "s = 1.5\n",
    "step = 1\n",
    "\n",
    "#Data\n",
    "trained_labels = np.array([1,2])\n",
    "#trained_labels = np.arange(4)\n",
    "training_pool_size = 50 # number of testing pictures loaded\n",
    "\n",
    "#preprocessing\n",
    "resolution = 2 # scaled colors to thermometer code size of..\n",
    "patch_dim = [3,3]\n",
    "\n",
    "# Dice Dataset parameters\n",
    "use_debug_dataset = True\n",
    "train_size = training_pool_size\n",
    "test_size = 50\n",
    "window_top_left = (0, 0)\n",
    "window_bottom_right = (32, 32)\n",
    "dice_size = 20\n",
    "\n",
    "# Second run parameters\n",
    "bypass_anchor_selection = True\n",
    "n_anchor_points = 3 #if bypass, then only one selected\n",
    "\n",
    "        "
   ]
  },
  {
   "cell_type": "code",
   "execution_count": 504,
   "id": "07fb6543",
   "metadata": {},
   "outputs": [],
   "source": [
    "# Debug dataset creation function\n",
    "def dice_image(value, top_left=(0, 0), bottom_right=(32, 32), dice_size=8, rand_placement=False, rotation_angle=None):\n",
    "    img = np.zeros((32, 32, 3), dtype=np.uint32)\n",
    "    \n",
    "    # Relative dot size\n",
    "    dot_size = dice_size // 6\n",
    "    if dot_size<1:dot_size=1\n",
    "    \n",
    "    dot_color = (255, 0, 0)  # Red color\n",
    "    dot_color = (255, 255, 255)  # Red color\n",
    "    \n",
    "    if value not in range(0, 10):\n",
    "        raise ValueError(\"Dice value should be between 0 and 10.\")\n",
    "\n",
    "    \n",
    "    # Relative positions for the center of dice based on its value and dice size\n",
    "    offset = dice_size // 4\n",
    "    positions = {\n",
    "        4: [(-offset, -offset)],\n",
    "        5: [(-offset, -offset), (offset, offset)],\n",
    "        3: [(-offset, -offset), (0, 0), (offset, offset)],\n",
    "        1: [(-offset, -offset), (-offset, offset), (offset, -offset), (offset, offset)],\n",
    "        2: [(-offset, -offset), (-offset, offset), (offset, -offset), (offset, offset), (0, 0)],\n",
    "        6: [(-offset, -offset), (-offset, offset), (offset, -offset), (offset, offset), (0, -offset), (0, offset)],\n",
    "        7: [(-offset, -offset), (-offset, offset), (offset, -offset), (offset, offset), (0, 0), (0, -offset), (0, offset)],\n",
    "        8: [(-offset, -offset), (-offset, offset), (offset, -offset), (offset, offset), (0, -offset), (0, offset), (-offset, 0), (offset, 0)],\n",
    "        9: [(-offset, -offset), (-offset, offset), (offset, -offset), (offset, offset), (0, 0), (0, -offset), (0, offset), (-offset, 0), (offset, 0)]\n",
    "    }\n",
    "    if rand_placement:\n",
    "        # Generate a random position within the window for the center of the dice\n",
    "        center_x = random.randint(top_left[0] + dice_size // 2, bottom_right[0] - dice_size // 2)\n",
    "        center_y = random.randint(top_left[1] + dice_size // 2, bottom_right[1] - dice_size // 2)\n",
    "    else:\n",
    "        center_y = bottom_right[1] - top_left[1]\n",
    "        center_x = bottom_right[0] - top_left[0]\n",
    "    if value != 0:\n",
    "        for pos in positions[value]:\n",
    "            x = center_x + pos[0]\n",
    "            y = center_y + pos[1]\n",
    "            img[y-dot_size//2:y+dot_size//2, x-dot_size//2:x+dot_size//2] = dot_color\n",
    "\n",
    "    # Rotation logic\n",
    "    if rotation_angle is not None:\n",
    "        if rotation_angle in [90, 180, 270]:\n",
    "            img = np.rot90(img, k=rotation_angle // 90)\n",
    "        else:\n",
    "            img = rotate(img, rotation_angle, reshape=False, mode='nearest')\n",
    "\n",
    "    return img, center_x, center_y"
   ]
  },
  {
   "cell_type": "code",
   "execution_count": 505,
   "id": "3c8b5662",
   "metadata": {},
   "outputs": [
    {
     "name": "stdout",
     "output_type": "stream",
     "text": [
      "16 22\n",
      "2024-01-05 20:45:23,139 - matplotlib.image - WARNING - Clipping input data to the valid range for imshow with RGB data ([0..1] for floats or [0..255] for integers).\n",
      "13 19\n",
      "2024-01-05 20:45:23,140 - matplotlib.image - WARNING - Clipping input data to the valid range for imshow with RGB data ([0..1] for floats or [0..255] for integers).\n",
      "15 19\n",
      "2024-01-05 20:45:23,142 - matplotlib.image - WARNING - Clipping input data to the valid range for imshow with RGB data ([0..1] for floats or [0..255] for integers).\n",
      "14 21\n",
      "2024-01-05 20:45:23,144 - matplotlib.image - WARNING - Clipping input data to the valid range for imshow with RGB data ([0..1] for floats or [0..255] for integers).\n",
      "16 15\n",
      "2024-01-05 20:45:23,146 - matplotlib.image - WARNING - Clipping input data to the valid range for imshow with RGB data ([0..1] for floats or [0..255] for integers).\n"
     ]
    },
    {
     "name": "stdout",
     "output_type": "stream",
     "text": [
      "22 18\n",
      "22 19\n",
      "20 18\n",
      "15 21\n"
     ]
    },
    {
     "data": {
      "image/png": "[encoded data removed]",
      "text/plain": [
       "<Figure size 2400x400 with 9 Axes>"
      ]
     },
     "metadata": {},
     "output_type": "display_data"
    }
   ],
   "source": [
    "# Testing the dice_image function\n",
    "# Plotting the dice faces with random positions and rotations within the specified window\n",
    "fig, axes = plt.subplots(1, 9, figsize=(24, 4))\n",
    "\n",
    "rotations = [None, 45, 15, 250, 45, 30, 0, 0, 0 ,0]  # Some sample rotations\n",
    "\n",
    "for ax, value, rot in zip(axes, range(0, 11), rotations):\n",
    "    img, auxX, auxY = dice_image(value, window_top_left, window_bottom_right, dice_size, True, rot)\n",
    "    ax.imshow(img)\n",
    "    print(auxX, auxY)\n",
    "    ax.axis(\"off\")\n",
    "    ax.set_title(f\"Face {value} - {rot}° rotation\")\n",
    "\n",
    "plt.tight_layout()\n",
    "plt.show()"
   ]
  },
  {
   "cell_type": "code",
   "execution_count": 506,
   "id": "6d1e2ceb",
   "metadata": {},
   "outputs": [
    {
     "data": {
      "image/png": "[encoded data removed]",
      "text/plain": [
       "<Figure size 2400x400 with 9 Axes>"
      ]
     },
     "metadata": {},
     "output_type": "display_data"
    },
    {
     "name": "stdout",
     "output_type": "stream",
     "text": [
      "Dataset size:\n",
      "(50, 32, 32, 3)\n",
      "(50,)\n",
      "(50, 32, 32, 3)\n",
      "(50,)\n"
     ]
    }
   ],
   "source": [
    "\n",
    "if use_debug_dataset: # Dataset selection\n",
    "    def generate_debug_dataset(dataset_size, window_top_left, window_bottom_right, dice_size, random_rotations=False, include_random_class=False, random_placement=False):\n",
    "        dataset = np.zeros((dataset_size, 32, 32, 3), dtype=np.uint32)\n",
    "        labels = np.zeros((dataset_size,), dtype=np.uint32)\n",
    "        dice_coordinates = np.zeros((dataset_size,2), dtype=np.uint32)\n",
    "        \n",
    "        #rotations = [None, 90, 180, 270]\n",
    "        rotations = [None, 90, 180, 270]\n",
    "        if not random_rotations:\n",
    "            rotations = [None]\n",
    "        \n",
    "        for i in range(dataset_size):\n",
    "            dice_val = trained_labels[(i % len(trained_labels))]\n",
    "            rot = random.choice(rotations)\n",
    "            # If the random class is to be included and the current index is for the random class\n",
    "            if include_random_class and dice_val == 10:\n",
    "                # Create a random pixel image\n",
    "                dataset[i] = np.random.randint(0, 256, (32, 32, 3), dtype=np.uint32)\n",
    "                labels[i] = 10  # The label for the random class\n",
    "            else:\n",
    "                # Create a dice image\n",
    "                dataset[i], dice_coordinates[i, 0], dice_coordinates[i, 1] = dice_image(value=dice_val, top_left=window_top_left, bottom_right=window_bottom_right, dice_size=dice_size, rotation_angle=rot, rand_placement=random_placement)\n",
    "                labels[i] = dice_val  # Making labels 0-indexed\n",
    "        \n",
    "        return dataset, labels, dice_coordinates\n",
    "\n",
    "    \n",
    "\n",
    "    # Generate datasets\n",
    "    X_train_org, Y_train_org, coors_train_org = generate_debug_dataset(\n",
    "        train_size,\n",
    "        window_top_left,\n",
    "        window_bottom_right,\n",
    "        dice_size,\n",
    "        include_random_class=False,\n",
    "        random_rotations=False,\n",
    "        random_placement=True)\n",
    "    \n",
    "    X_test_org, Y_test_org, coors_test_org = generate_debug_dataset(\n",
    "        test_size, \n",
    "        window_top_left, \n",
    "        window_bottom_right, \n",
    "        dice_size, \n",
    "        include_random_class=False,\n",
    "        random_rotations=False, \n",
    "        random_placement=True)\n",
    "\n",
    "    # Display some sample images from the training set\n",
    "    fig, axes = plt.subplots(1, 9, figsize=(24, 4))\n",
    "    for i in range(9):\n",
    "        ax = axes[i]\n",
    "        ax.imshow(X_train_org[i])\n",
    "        ax.axis(\"off\")\n",
    "        ax.set_title(f\"Label: {Y_train_org[i]+1}\")\n",
    "\n",
    "    plt.tight_layout()\n",
    "    plt.show()\n",
    "    labels = [\"Zero\", \"One\", \"Two\", \"Three\", \"Four\", \"Five\", \"Six\", \"Seven\", \"Eight\", \"Nine\"]\n",
    "    \n",
    "else:\n",
    "\n",
    "    #Load cifar10\n",
    "    (X_train_org, Y_train_org), (X_test_org, Y_test_org) = cifar10.load_data()\n",
    "    labels = [\"Airplane\", \"Car\", \"Bird\", \"Cat\", \"Deer\", \"Dog\", \"Frog\", \"Horse\", \"Ship\", \"Truck\"]\n",
    "\n",
    "\n",
    "    #adjust to train pool size\n",
    "    X_test_org = X_test_org[0:training_pool_size]\n",
    "    Y_test_org = Y_test_org.reshape(Y_test_org.shape[0])[0:training_pool_size]\n",
    "    X_train_org = X_train_org[0:training_pool_size]\n",
    "    Y_train_org = Y_train_org.reshape(Y_train_org.shape[0])[0:training_pool_size]\n",
    "\n",
    "    #filter only desired labels\n",
    "    X_train_org = X_train_org[np.in1d(Y_train_org, trained_labels)]\n",
    "    Y_train_org = Y_train_org[np.in1d(Y_train_org, trained_labels)]\n",
    "\n",
    "X_test_org = X_test_org[np.in1d(Y_test_org, trained_labels)]\n",
    "Y_test_org = Y_test_org[np.in1d(Y_test_org, trained_labels)]\n",
    "print(\"Dataset size:\")\n",
    "print(X_train_org.shape)\n",
    "print(Y_train_org.shape)\n",
    "print(X_test_org.shape)\n",
    "print(Y_test_org.shape)"
   ]
  },
  {
   "cell_type": "code",
   "execution_count": 507,
   "id": "ed37b6af",
   "metadata": {},
   "outputs": [],
   "source": [
    "# Thermometer coding\n",
    "\n",
    "def thermometer_encode(image, resolution=8, prevMin=0, prevMax=255):\n",
    "    # Get the shape of the input image\n",
    "    shape = image.shape\n",
    "    \n",
    "    # Initialize the thermometer encoded image array\n",
    "    encoded_image = np.zeros(shape + (resolution,), dtype=np.uint32)\n",
    "    \n",
    "    # Perform thermometer encoding for each color channel\n",
    "    scale_factor = (prevMax - prevMin) / (resolution + 1)\n",
    "    for z in range(resolution):\n",
    "        encoded_image[..., z] = image >= prevMin + (z + 1) * scale_factor\n",
    "    encoded_image = encoded_image.astype(np.uint32)\n",
    "    return encoded_image\n",
    "\n",
    "def thermometer_decode(encoded_image, resolution, toMin=0, toMax=255):\n",
    "    # Sum along the last dimension and scale back to the original range for each color channel\n",
    "    scale_factor = (toMax - toMin) / (resolution + 1)\n",
    "    decoded_image = toMin + np.sum(encoded_image, axis=-1) * scale_factor\n",
    "    \n",
    "    # Cast the decoded image to uint8 data type\n",
    "    decoded_image = decoded_image.astype(np.uint32)\n",
    "    \n",
    "    return decoded_image\n"
   ]
  },
  {
   "cell_type": "code",
   "execution_count": 508,
   "id": "bd83babf",
   "metadata": {},
   "outputs": [],
   "source": [
    "def test_ThermEncodeAndDecode(original_image, thermometer_encode, thermometer_decode, resolution):\n",
    "    # Encode the original image\n",
    "    encoded_image = thermometer_encode(original_image, resolution)\n",
    "    print(encoded_image[0])\n",
    "    # Decode the encoded image back to the original form\n",
    "    decoded_image = thermometer_decode(encoded_image, resolution)\n",
    "\n",
    "    # Visualization\n",
    "    plt.figure(figsize=(20, 7))\n",
    "\n",
    "    plt.subplot(1, 3, 1)\n",
    "    plt.imshow(original_image)\n",
    "    plt.title('Original Image')\n",
    "    plt.axis('off')\n",
    "    \n",
    "    plt.subplot(1, 3, 2)\n",
    "    plt.imshow(decoded_image)\n",
    "    plt.title('Decoded Image')\n",
    "    plt.axis('off')\n",
    "\n",
    "    plt.tight_layout()\n",
    "    plt.show()\n",
    "    \n",
    "    print(\"original shape:\", original_image.shape)\n",
    "    print(\"original dtype:\", original_image.dtype)\n",
    "    print(\"encoded shape:\", encoded_image.shape)\n",
    "    print(\"encoded dtype:\", encoded_image.dtype)\n",
    "    print(\"decoded: shape\", decoded_image.shape)\n",
    "    print(\"decoded: dtype\", decoded_image.dtype)\n",
    "# Call the test function\n",
    "#test_ThermEncodeAndDecode(np.full((32,32,3),223, dtype=np.uint32), thermometer_encode, thermometer_decode, 4)\n"
   ]
  },
  {
   "cell_type": "code",
   "execution_count": 509,
   "id": "c35c54ad",
   "metadata": {},
   "outputs": [],
   "source": [
    "def reshape_and_pad_dataset(dataset, target_dim_count, max_sizes):\n",
    "    \"\"\"Reshape and pad the dataset to have the target number of dimensions and sizes.\"\"\"\n",
    "    reshaped_dataset = dataset\n",
    "    # Add new dimensions if necessary\n",
    "    while len(reshaped_dataset.shape) < target_dim_count:\n",
    "        reshaped_dataset = np.expand_dims(reshaped_dataset, axis=-1)\n",
    "    \n",
    "    # Pad each dimension as necessary\n",
    "    padding = [(0, max_sizes[i] - reshaped_dataset.shape[i]) for i in range(len(max_sizes))]\n",
    "    padded_dataset = np.pad(reshaped_dataset, padding, mode='constant', constant_values=0)\n",
    "    \n",
    "    return padded_dataset\n",
    "\n",
    "def create_windowed_dataset(*datasets, patch_dim):\n",
    "    if len(datasets) == 0:\n",
    "        raise ValueError(\"At least one dataset must be provided\")\n",
    "\n",
    "    # Determine the maximum number of dimensions and sizes among all datasets\n",
    "    max_dims = max(len(dataset.shape) for dataset in datasets)\n",
    "    max_sizes = [max([dataset.shape[i] if i < len(dataset.shape) else 1 for dataset in datasets]) for i in range(max_dims)]\n",
    "\n",
    "    # Reshape and pad datasets to have the same number of dimensions and sizes\n",
    "    reshaped_padded_datasets = [reshape_and_pad_dataset(dataset, max_dims, max_sizes) for dataset in datasets]\n",
    "\n",
    "    # Validate the shapes of the datasets\n",
    "    common_shape = reshaped_padded_datasets[0].shape[:3]\n",
    "    for dataset in reshaped_padded_datasets:\n",
    "        if dataset.shape[:3] != common_shape:\n",
    "            raise ValueError(f\"All datasets must have the same num_images, height, and width. Expected shape: {common_shape}, but got {dataset.shape[:3]}\")\n",
    "\n",
    "    # Concatenate all datasets along the last dimension\n",
    "    concatenated_dataset = np.concatenate(reshaped_padded_datasets, axis=-1)\n",
    "\n",
    "    # Calculate and create the windowed dataset\n",
    "    num_images, height, width, *data_dims = concatenated_dataset.shape\n",
    "    windowed_shape = (num_images, height - patch_dim[0] + 1, width - patch_dim[1] + 1, patch_dim[0] * patch_dim[1] * np.prod(data_dims))\n",
    "    windowed_dataset = np.zeros(windowed_shape, dtype=concatenated_dataset.dtype) #TODO: should be a np.array, not a touple\n",
    "\n",
    "    for i in range(num_images):\n",
    "        for y in range(height - patch_dim[0] + 1):\n",
    "            for x in range(width - patch_dim[1] + 1):\n",
    "                patch = concatenated_dataset[i, y:y + patch_dim[0], x:x + patch_dim[1], :]\n",
    "                windowed_dataset[i, y, x, :] = patch.reshape(-1)\n",
    "\n",
    "    return windowed_dataset"
   ]
  },
  {
   "cell_type": "code",
   "execution_count": 510,
   "id": "1f222340",
   "metadata": {},
   "outputs": [],
   "source": [
    "#Create windows\n",
    "X_train = create_windowed_dataset(thermometer_encode(X_train_org, resolution=7), patch_dim=patch_dim)\n",
    "X_test = create_windowed_dataset(thermometer_encode(X_test_org, resolution=7), patch_dim=patch_dim)\n",
    "\n",
    "Y_train = Y_train_org\n",
    "Y_test  = Y_test_org\n",
    "\n"
   ]
  },
  {
   "cell_type": "code",
   "execution_count": 511,
   "id": "653068cc",
   "metadata": {},
   "outputs": [
    {
     "name": "stdout",
     "output_type": "stream",
     "text": [
      "Training:\n",
      "2 labels used: [1 2]\n",
      "Training pictures: 50\n",
      "Testing:\n",
      "2 labels used: [1 2]\n",
      "Maximum achievable accuracy: 100.0\n",
      "..adjusting\n",
      "Testing pictures: 50\n",
      "\n",
      "Accuracy over 20 epochs:\n",
      "\n"
     ]
    },
    {
     "name": "stderr",
     "output_type": "stream",
     "text": [
      "  0%|          | 0/20 [00:00<?, ?it/s]"
     ]
    },
    {
     "name": "stdout",
     "output_type": "stream",
     "text": [
      "2024-01-05 20:45:23,924 - tmu.models.classification.base_classification - DEBUG - Initializing clause bank....\n"
     ]
    },
    {
     "name": "stderr",
     "output_type": "stream",
     "text": [
      "  5%|▌         | 1/20 [00:00<00:05,  3.20it/s]"
     ]
    },
    {
     "name": "stdout",
     "output_type": "stream",
     "text": [
      "0 0 50.00 50.00 0.04 0.14\n"
     ]
    },
    {
     "name": "stderr",
     "output_type": "stream",
     "text": [
      " 10%|█         | 2/20 [00:00<00:05,  3.42it/s]"
     ]
    },
    {
     "name": "stdout",
     "output_type": "stream",
     "text": [
      "0 1 36.00 54.00 0.01 0.14\n"
     ]
    },
    {
     "name": "stderr",
     "output_type": "stream",
     "text": [
      " 15%|█▌        | 3/20 [00:00<00:04,  3.49it/s]"
     ]
    },
    {
     "name": "stdout",
     "output_type": "stream",
     "text": [
      "0 2 40.00 62.00 0.01 0.14\n"
     ]
    },
    {
     "name": "stderr",
     "output_type": "stream",
     "text": [
      " 20%|██        | 4/20 [00:01<00:04,  3.52it/s]"
     ]
    },
    {
     "name": "stdout",
     "output_type": "stream",
     "text": [
      "0 3 52.00 58.00 0.01 0.14\n"
     ]
    },
    {
     "name": "stderr",
     "output_type": "stream",
     "text": [
      " 25%|██▌       | 5/20 [00:01<00:04,  3.50it/s]"
     ]
    },
    {
     "name": "stdout",
     "output_type": "stream",
     "text": [
      "0 4 56.00 58.00 0.01 0.14\n"
     ]
    },
    {
     "name": "stderr",
     "output_type": "stream",
     "text": [
      " 30%|███       | 6/20 [00:01<00:03,  3.51it/s]"
     ]
    },
    {
     "name": "stdout",
     "output_type": "stream",
     "text": [
      "0 5 54.00 68.00 0.01 0.14\n"
     ]
    },
    {
     "name": "stderr",
     "output_type": "stream",
     "text": [
      " 35%|███▌      | 7/20 [00:02<00:03,  3.53it/s]"
     ]
    },
    {
     "name": "stdout",
     "output_type": "stream",
     "text": [
      "0 6 48.00 56.00 0.01 0.14\n"
     ]
    },
    {
     "name": "stderr",
     "output_type": "stream",
     "text": [
      " 40%|████      | 8/20 [00:02<00:03,  3.54it/s]"
     ]
    },
    {
     "name": "stdout",
     "output_type": "stream",
     "text": [
      "0 7 48.00 76.00 0.01 0.14\n"
     ]
    },
    {
     "name": "stderr",
     "output_type": "stream",
     "text": [
      " 45%|████▌     | 9/20 [00:02<00:03,  3.54it/s]"
     ]
    },
    {
     "name": "stdout",
     "output_type": "stream",
     "text": [
      "0 8 48.00 64.00 0.01 0.14\n"
     ]
    },
    {
     "name": "stderr",
     "output_type": "stream",
     "text": [
      " 50%|█████     | 10/20 [00:02<00:02,  3.55it/s]"
     ]
    },
    {
     "name": "stdout",
     "output_type": "stream",
     "text": [
      "0 9 52.00 64.00 0.01 0.14\n"
     ]
    },
    {
     "name": "stderr",
     "output_type": "stream",
     "text": [
      " 55%|█████▌    | 11/20 [00:03<00:02,  3.55it/s]"
     ]
    },
    {
     "name": "stdout",
     "output_type": "stream",
     "text": [
      "0 10 52.00 64.00 0.01 0.14\n"
     ]
    },
    {
     "name": "stderr",
     "output_type": "stream",
     "text": [
      " 60%|██████    | 12/20 [00:03<00:02,  3.55it/s]"
     ]
    },
    {
     "name": "stdout",
     "output_type": "stream",
     "text": [
      "0 11 50.00 50.00 0.01 0.14\n"
     ]
    },
    {
     "name": "stderr",
     "output_type": "stream",
     "text": [
      " 65%|██████▌   | 13/20 [00:03<00:01,  3.56it/s]"
     ]
    },
    {
     "name": "stdout",
     "output_type": "stream",
     "text": [
      "0 12 58.00 78.00 0.01 0.14\n"
     ]
    },
    {
     "name": "stderr",
     "output_type": "stream",
     "text": [
      " 70%|███████   | 14/20 [00:03<00:01,  3.56it/s]"
     ]
    },
    {
     "name": "stdout",
     "output_type": "stream",
     "text": [
      "0 13 64.00 84.00 0.01 0.14\n"
     ]
    },
    {
     "name": "stderr",
     "output_type": "stream",
     "text": [
      " 75%|███████▌  | 15/20 [00:04<00:01,  3.56it/s]"
     ]
    },
    {
     "name": "stdout",
     "output_type": "stream",
     "text": [
      "0 14 56.00 72.00 0.01 0.14\n"
     ]
    },
    {
     "name": "stderr",
     "output_type": "stream",
     "text": [
      " 80%|████████  | 16/20 [00:04<00:01,  3.54it/s]"
     ]
    },
    {
     "name": "stdout",
     "output_type": "stream",
     "text": [
      "0 15 54.00 66.00 0.01 0.14\n"
     ]
    },
    {
     "name": "stderr",
     "output_type": "stream",
     "text": [
      " 85%|████████▌ | 17/20 [00:04<00:00,  3.55it/s]"
     ]
    },
    {
     "name": "stdout",
     "output_type": "stream",
     "text": [
      "0 16 60.00 76.00 0.01 0.14\n"
     ]
    },
    {
     "name": "stderr",
     "output_type": "stream",
     "text": [
      " 90%|█████████ | 18/20 [00:05<00:00,  3.53it/s]"
     ]
    },
    {
     "name": "stdout",
     "output_type": "stream",
     "text": [
      "0 17 56.00 74.00 0.01 0.14\n"
     ]
    },
    {
     "name": "stderr",
     "output_type": "stream",
     "text": [
      " 95%|█████████▌| 19/20 [00:05<00:00,  3.54it/s]"
     ]
    },
    {
     "name": "stdout",
     "output_type": "stream",
     "text": [
      "0 18 56.00 74.00 0.01 0.14\n"
     ]
    },
    {
     "name": "stderr",
     "output_type": "stream",
     "text": [
      "100%|██████████| 20/20 [00:05<00:00,  3.53it/s]\n"
     ]
    },
    {
     "name": "stdout",
     "output_type": "stream",
     "text": [
      "0 19 62.00 74.00 0.01 0.14\n",
      "\n",
      "Accuracy over 20 epochs:\n",
      "\n"
     ]
    },
    {
     "name": "stderr",
     "output_type": "stream",
     "text": [
      "  0%|          | 0/20 [00:00<?, ?it/s]"
     ]
    },
    {
     "name": "stdout",
     "output_type": "stream",
     "text": [
      "2024-01-05 20:45:29,597 - tmu.models.classification.base_classification - DEBUG - Initializing clause bank....\n"
     ]
    },
    {
     "name": "stderr",
     "output_type": "stream",
     "text": [
      "  5%|▌         | 1/20 [00:00<00:05,  3.28it/s]"
     ]
    },
    {
     "name": "stdout",
     "output_type": "stream",
     "text": [
      "1 0 42.00 48.00 0.04 0.13\n"
     ]
    },
    {
     "name": "stderr",
     "output_type": "stream",
     "text": [
      " 10%|█         | 2/20 [00:00<00:05,  3.44it/s]"
     ]
    },
    {
     "name": "stdout",
     "output_type": "stream",
     "text": [
      "1 1 50.00 50.00 0.01 0.14\n"
     ]
    },
    {
     "name": "stderr",
     "output_type": "stream",
     "text": [
      " 15%|█▌        | 3/20 [00:00<00:04,  3.50it/s]"
     ]
    },
    {
     "name": "stdout",
     "output_type": "stream",
     "text": [
      "1 2 40.00 56.00 0.01 0.14\n"
     ]
    },
    {
     "name": "stderr",
     "output_type": "stream",
     "text": [
      " 20%|██        | 4/20 [00:01<00:04,  3.53it/s]"
     ]
    },
    {
     "name": "stdout",
     "output_type": "stream",
     "text": [
      "1 3 50.00 50.00 0.01 0.14\n"
     ]
    },
    {
     "name": "stderr",
     "output_type": "stream",
     "text": [
      " 25%|██▌       | 5/20 [00:01<00:04,  3.55it/s]"
     ]
    },
    {
     "name": "stdout",
     "output_type": "stream",
     "text": [
      "1 4 50.00 50.00 0.01 0.14\n"
     ]
    },
    {
     "name": "stderr",
     "output_type": "stream",
     "text": [
      " 30%|███       | 6/20 [00:01<00:03,  3.55it/s]"
     ]
    },
    {
     "name": "stdout",
     "output_type": "stream",
     "text": [
      "1 5 46.00 52.00 0.01 0.14\n"
     ]
    },
    {
     "name": "stderr",
     "output_type": "stream",
     "text": [
      " 35%|███▌      | 7/20 [00:01<00:03,  3.55it/s]"
     ]
    },
    {
     "name": "stdout",
     "output_type": "stream",
     "text": [
      "1 6 48.00 46.00 0.01 0.14\n"
     ]
    },
    {
     "name": "stderr",
     "output_type": "stream",
     "text": [
      " 40%|████      | 8/20 [00:02<00:03,  3.56it/s]"
     ]
    },
    {
     "name": "stdout",
     "output_type": "stream",
     "text": [
      "1 7 46.00 58.00 0.01 0.14\n"
     ]
    },
    {
     "name": "stderr",
     "output_type": "stream",
     "text": [
      " 45%|████▌     | 9/20 [00:02<00:03,  3.56it/s]"
     ]
    },
    {
     "name": "stdout",
     "output_type": "stream",
     "text": [
      "1 8 56.00 66.00 0.01 0.14\n"
     ]
    },
    {
     "name": "stderr",
     "output_type": "stream",
     "text": [
      " 50%|█████     | 10/20 [00:02<00:02,  3.56it/s]"
     ]
    },
    {
     "name": "stdout",
     "output_type": "stream",
     "text": [
      "1 9 48.00 60.00 0.01 0.14\n"
     ]
    },
    {
     "name": "stderr",
     "output_type": "stream",
     "text": [
      " 55%|█████▌    | 11/20 [00:03<00:02,  3.56it/s]"
     ]
    },
    {
     "name": "stdout",
     "output_type": "stream",
     "text": [
      "1 10 44.00 62.00 0.01 0.14\n"
     ]
    },
    {
     "name": "stderr",
     "output_type": "stream",
     "text": [
      " 60%|██████    | 12/20 [00:03<00:02,  3.56it/s]"
     ]
    },
    {
     "name": "stdout",
     "output_type": "stream",
     "text": [
      "1 11 50.00 52.00 0.01 0.14\n"
     ]
    },
    {
     "name": "stderr",
     "output_type": "stream",
     "text": [
      " 65%|██████▌   | 13/20 [00:03<00:01,  3.56it/s]"
     ]
    },
    {
     "name": "stdout",
     "output_type": "stream",
     "text": [
      "1 12 54.00 58.00 0.01 0.14\n"
     ]
    },
    {
     "name": "stderr",
     "output_type": "stream",
     "text": [
      " 70%|███████   | 14/20 [00:03<00:01,  3.56it/s]"
     ]
    },
    {
     "name": "stdout",
     "output_type": "stream",
     "text": [
      "1 13 48.00 62.00 0.01 0.14\n"
     ]
    },
    {
     "name": "stderr",
     "output_type": "stream",
     "text": [
      " 75%|███████▌  | 15/20 [00:04<00:01,  3.56it/s]"
     ]
    },
    {
     "name": "stdout",
     "output_type": "stream",
     "text": [
      "1 14 38.00 60.00 0.01 0.14\n"
     ]
    },
    {
     "name": "stderr",
     "output_type": "stream",
     "text": [
      " 80%|████████  | 16/20 [00:04<00:01,  3.56it/s]"
     ]
    },
    {
     "name": "stdout",
     "output_type": "stream",
     "text": [
      "1 15 50.00 66.00 0.01 0.14\n"
     ]
    },
    {
     "name": "stderr",
     "output_type": "stream",
     "text": [
      " 85%|████████▌ | 17/20 [00:04<00:00,  3.56it/s]"
     ]
    },
    {
     "name": "stdout",
     "output_type": "stream",
     "text": [
      "1 16 50.00 60.00 0.01 0.14\n"
     ]
    },
    {
     "name": "stderr",
     "output_type": "stream",
     "text": [
      " 90%|█████████ | 18/20 [00:05<00:00,  3.57it/s]"
     ]
    },
    {
     "name": "stdout",
     "output_type": "stream",
     "text": [
      "1 17 48.00 58.00 0.01 0.14\n"
     ]
    },
    {
     "name": "stderr",
     "output_type": "stream",
     "text": [
      " 95%|█████████▌| 19/20 [00:05<00:00,  3.57it/s]"
     ]
    },
    {
     "name": "stdout",
     "output_type": "stream",
     "text": [
      "1 18 50.00 58.00 0.01 0.14\n"
     ]
    },
    {
     "name": "stderr",
     "output_type": "stream",
     "text": [
      "100%|██████████| 20/20 [00:05<00:00,  3.55it/s]"
     ]
    },
    {
     "name": "stdout",
     "output_type": "stream",
     "text": [
      "1 19 42.00 62.00 0.01 0.14\n"
     ]
    },
    {
     "name": "stderr",
     "output_type": "stream",
     "text": [
      "\n"
     ]
    }
   ],
   "source": [
    "#Train the TM 1 and record results\n",
    "#f = open(\"run_%.1f_%d_%d_%d_%d_%d.txt\" % (s, clauses, T, step, visual_tokens), \"w+\")\n",
    "logTrain = np.zeros((epochs, X_train.shape[0]), dtype=np.uint8)\n",
    "logTest =  np.zeros((epochs, X_test.shape[0]),  dtype=np.uint8)\n",
    "\n",
    "print(\"Training:\")\n",
    "training_data_labels = np.unique(Y_train)\n",
    "print(training_data_labels.shape[0], \"labels used:\", training_data_labels)\n",
    "print(\"Training pictures:\", X_train.shape[0])\n",
    "\n",
    "print(\"Testing:\")\n",
    "testing_data_labels = np.unique(Y_test)\n",
    "print(testing_data_labels.shape[0], \"labels used:\", testing_data_labels)\n",
    "print(\"Maximum achievable accuracy:\", (100*(training_data_labels.shape[0]/testing_data_labels.shape[0])))\n",
    "print(\"..adjusting\") #see result_test_adj\n",
    "print(\"Testing pictures:\", X_test.shape[0])\n",
    "\n",
    "for label in range(trained_labels.shape[0]):\n",
    "        print(\"\\nAccuracy over %d epochs:\\n\" % (epochs))\n",
    "\n",
    "        tm = TMClassifier(clauses, T, s, max_included_literals=max_included_literals, patch_dim=(1,1), platform='CPU', weighted_clauses=True)\n",
    "        \n",
    "        for epoch in tqdm(range(epochs)):\n",
    "                start_training = time()\n",
    "                tm.fit(X_train, Y_train)\n",
    "                stop_training = time()\n",
    "\n",
    "                start_testing = time()\n",
    "                result_test = 100*(tm.predict(X_test) == Y_test).mean()\n",
    "                result_test_adj = 100*(result_test/ (100*(training_data_labels.shape[0]/testing_data_labels.shape[0])))\n",
    "                logTest[epoch] = (tm.predict(X_test))*label\n",
    "                stop_testing = time()\n",
    "\n",
    "                result_train = 100*(tm.predict(X_train) == Y_train).mean()\n",
    "                logTrain[epoch] = (tm.predict(X_train))*label\n",
    "\n",
    "                #recall_and_precision(epoch)\n",
    "\n",
    "                print(\"%d %d %.2f %.2f %.2f %.2f\" % (label, epoch, result_test_adj, result_train, stop_training-start_training, stop_testing-start_testing))\n",
    "                #print(\"%d %d %.2f %.2f %.2f %.2f\" % (label, epoch, result_test_adj, result_train, stop_training-start_training, stop_testing-start_testing), file=f)\n",
    "                #f.flush()\n",
    "#f.close()\n",
    "\n"
   ]
  },
  {
   "cell_type": "code",
   "execution_count": 512,
   "id": "a211e5a6",
   "metadata": {},
   "outputs": [
    {
     "name": "stdout",
     "output_type": "stream",
     "text": [
      "2024-01-05 20:45:35,333 - matplotlib.colorbar - DEBUG - locator: <matplotlib.ticker.AutoLocator object at 0x2999fa9e0>\n"
     ]
    },
    {
     "data": {
      "image/png": "[encoded data removed]",
      "text/plain": [
       "<Figure size 800x600 with 2 Axes>"
      ]
     },
     "metadata": {},
     "output_type": "display_data"
    }
   ],
   "source": [
    "#Confusion Matrix TM 1\n",
    "conf_matrix1 = confusion_matrix(Y_test, tm.predict(X_test))\n",
    "# Calculate percentages\n",
    "conf_matrix_percent1 = conf_matrix1 / conf_matrix1.sum(axis=1, keepdims=True) * 100\n",
    "conf_matrix_percent1 = np.nan_to_num(conf_matrix_percent1, 0)  # Replace NaNs with 0\n",
    "\n",
    "# Plot the confusion matrix with percentages\n",
    "plt.figure(figsize=(8, 6))\n",
    "sns.heatmap(conf_matrix_percent1, annot=True, fmt=\".1f\", cmap=\"Blues\", xticklabels=labels, yticklabels=labels)\n",
    "plt.title(\"Confusion Matrix run 1 (Percentages)\")\n",
    "plt.xlabel(\"Predicted Labels\")\n",
    "plt.ylabel(\"True Labels\")\n",
    "plt.show()\n"
   ]
  },
  {
   "cell_type": "code",
   "execution_count": 513,
   "id": "41e71cd5",
   "metadata": {},
   "outputs": [],
   "source": [
    "#Patch object\n",
    "\n",
    "class Patch:\n",
    "    def __init__(self, xMin, xMax, yMin, yMax, ID, patch_info, raw, weight=None):\n",
    "        # Coordinates where patch appears\n",
    "        self.xMin = xMin\n",
    "        self.xMax = xMax\n",
    "        self.yMin = yMin\n",
    "        self.yMax = yMax\n",
    "        \n",
    "        self.weight = weight\n",
    "        self.ID = ID\n",
    "        self.patch_info = patch_info # color info in 3x3px 3xcolor uint8\n",
    "        self.raw = raw #bool vals of whole clause\n",
    "        self.found_in_images = {}\n",
    "        self.total_count = 0\n",
    "        self.sparsity = 0\n",
    "            \n",
    "    def visualize_patch_info(self, polarity=0):\n",
    "        # Rescale the channel values to the range of 0-255\n",
    "        patch_info_scaled = (np.array(self.patch_info) * (255 / resolution)).astype(np.uint8)\n",
    "        \n",
    "        # Create an empty image canvas\n",
    "        image = np.zeros((3, 3, 3), dtype=np.uint32)\n",
    "        # Loop through each channel\n",
    "        for c in range(3):\n",
    "            image[:,:,c] = patch_info_scaled[:,:,c, polarity].reshape((3,3))\n",
    "        \n",
    "        return image\n",
    "    def dominant_color(self, value=0):\n",
    "        # Reshape the patch to a 9x3 array\n",
    "        pixels = self.patch_info[...,0].reshape((9, 3))\n",
    "\n",
    "        # Calculate the sum of color values for each channel\n",
    "        color_sums = np.sum(pixels, axis=0)\n",
    "\n",
    "        # Find the index of the channel with the highest sum\n",
    "        dominant_channel = np.argmax(color_sums)\n",
    "\n",
    "        # Determine the dominant color based on the channel index\n",
    "        if dominant_channel == 0:\n",
    "            dominant_color = 'R'\n",
    "        elif dominant_channel == 1:\n",
    "            dominant_color = 'G'\n",
    "        else:\n",
    "            dominant_color = 'B'\n",
    "        \n",
    "        if value == 1:\n",
    "            return dominant_channel\n",
    "        elif value == 2:\n",
    "            return sum(self.patch_info[:,:,dominant_channel]) // 3\n",
    "        else:\n",
    "            return dominant_color\n",
    "        \n",
    "\n",
    "\n",
    "def thermometer_to_integer(thermometer_bits, negated = 0):\n",
    "    value = 0\n",
    "    thermometer_bits_local = thermometer_bits\n",
    "    length = len(thermometer_bits_local)\n",
    "    for bit in range(length):\n",
    "        if not negated:\n",
    "            if thermometer_bits_local[bit]:\n",
    "                value = bit+1\n",
    "        else:\n",
    "            if thermometer_bits_local[bit]:\n",
    "                value = bit\n",
    "                break\n",
    "            value = length+1\n",
    "    return value\n",
    "\n",
    "#TODO: tm.transform should be moved elsewhere, but transform_clause_to_patch wont compile without it\n",
    "bank = tm.transform(X_train) # bank is a (image, clause*class) sized array\n",
    "\n",
    "def transform_clause_to_patch(block, ID, resolution=8, patch_dim=(3,3), image_size=X_train_org.shape[1:3]):\n",
    "    auxK = 0\n",
    "    auxJ = image_size[0] - patch_dim[0] -1\n",
    "    xMin = thermometer_to_integer(block[auxK:auxJ], negated=0)\n",
    "    auxK = image_size[0] - patch_dim[0]\n",
    "    auxJ = image_size[0] - patch_dim[0] + image_size[1] - patch_dim[1] -1\n",
    "    yMin = thermometer_to_integer(block[auxK:auxJ], negated=0)\n",
    "    auxK = image_size[0] - patch_dim[0] + image_size[1] - patch_dim[1] +patch_dim[0]*patch_dim[1]*resolution\n",
    "    auxJ = image_size[0] - patch_dim[0] + image_size[1] - patch_dim[1] +patch_dim[0]*patch_dim[1]*resolution + image_size[0] - patch_dim[0] -1\n",
    "    xMax = thermometer_to_integer(block[auxK:auxJ], negated=1)\n",
    "    auxK = image_size[0] - patch_dim[0] + image_size[1] - patch_dim[1] +patch_dim[0]*patch_dim[1]*resolution + image_size[0] - patch_dim[0]\n",
    "    auxJ = image_size[0] - patch_dim[0] + image_size[1] - patch_dim[1] +patch_dim[0]*patch_dim[1]*resolution + image_size[0] - patch_dim[0] + image_size[1] - patch_dim[1] -1\n",
    "    yMax = thermometer_to_integer(block[auxK:auxJ], negated=1)\n",
    "    \n",
    "    # Sort out the pixels\n",
    "    patch_info = np.zeros((3,3,3,2)) \n",
    "    for column in range(patch_dim[1]):\n",
    "        # rows = []\n",
    "        for row in range(patch_dim[0]):\n",
    "            # colors = []\n",
    "            for color in range(3):\n",
    "                auxJ = image_size[0] - patch_dim[0] + image_size[1] - patch_dim[1] -1\n",
    "                start_bit = auxJ + (column+row) * (3*resolution) + color * resolution\n",
    "                end_bit = start_bit + resolution\n",
    "                value = thermometer_to_integer(block[start_bit:end_bit])*(255/resolution)\n",
    "                \n",
    "                auxJ = image_size[0] - patch_dim[0] + image_size[1] - patch_dim[1] +patch_dim[0]*patch_dim[1]*resolution + image_size[0] - patch_dim[0] + image_size[1] - patch_dim[1] -1\n",
    "                start_bit2 = auxJ + (column+row) * (3*resolution) + color * resolution\n",
    "                end_bit2 = start_bit2 + resolution\n",
    "                value2 = thermometer_to_integer(block[start_bit2:end_bit2], negated=1)*(255/resolution)\n",
    "                #value = (value + value2)/2\n",
    "                #if value == 0: # turn the pixel white if empty\n",
    "                #    value = 8\n",
    "                patch_info[column,row,color,0] = value\n",
    "                patch_info[column,row,color,1] = value2\n",
    "                # colors.append(value)\n",
    "            # rows.append(colors)\n",
    "        # patch_info.append(rows)\n",
    "    raw = block\n",
    "    weight = 0\n",
    "    ID = ID\n",
    "    return Patch(xMin=xMin, xMax=xMax, yMin=yMin, yMax=yMax, weight=weight, ID=ID, patch_info=patch_info, raw=raw)\n",
    "\n"
   ]
  },
  {
   "cell_type": "code",
   "execution_count": 514,
   "id": "884bb8c5",
   "metadata": {},
   "outputs": [],
   "source": [
    "if not bypass_anchor_selection:\n",
    "    def find_patches_in_image(image, patches_to_search, targeted_search=False, avg=True):\n",
    "        \"\"\"\n",
    "        Search for specific patches within a given image. Return found ID and coordinates.\n",
    "        \n",
    "        Parameters:\n",
    "        - image: 2D array representing the image.\n",
    "        - patches_to_search: List of Patch objects to search for in the image.\n",
    "        - targeted_search: Boolean indicating whether to search only within the patch's expected coordinates.\n",
    "        - avg: Boolean indicating whether to return average coordinates for each patch.\n",
    "        \n",
    "        Returns:\n",
    "        - results: Array with shape (number of patches, 3) containing the patch ID and its (average) x and y coordinates.\n",
    "        - found_coordinates: List of tuples containing the coordinates where patches were found.\n",
    "        \"\"\"\n",
    "        results = []\n",
    "        for patch in patches_to_search:\n",
    "            patch_info = patch.patch_info\n",
    "            \n",
    "            # Define the search area based on the targeted_search flag\n",
    "            if targeted_search:\n",
    "                search_area = image[patch.xMin:patch.xMax, patch.yMin:patch.yMax]\n",
    "                offset_x, offset_y = patch.xMin, patch.yMin\n",
    "            else:\n",
    "                search_area = image\n",
    "                offset_x, offset_y = 0, 0\n",
    "            \n",
    "            found_coordinates = []\n",
    "            for x in range(search_area.shape[0] - patch_info.shape[0] + 1):\n",
    "                for y in range(search_area.shape[1] - patch_info.shape[1] + 1):\n",
    "                    region = search_area[x:x+patch_info.shape[0], y:y+patch_info.shape[1]]\n",
    "                    if np.all(region >= patch_info[...,0]) and np.all(region <= patch_info[...,1]):\n",
    "                        found_coordinates.append((x + offset_x, y + offset_y))\n",
    "            \n",
    "            # Calculate average coordinates if required\n",
    "            if avg and found_coordinates:\n",
    "                avg_x = int(np.mean([coord[0] for coord in found_coordinates]))\n",
    "                avg_y = int(np.mean([coord[1] for coord in found_coordinates]))\n",
    "                results.append((patch.ID, avg_x, avg_y))\n",
    "            elif not avg:\n",
    "                results.append((patch.ID, found_coordinates))\n",
    "        \n",
    "        return results\n",
    "\n",
    "\n",
    "    def find_patches_in_images(images, labels, patches_to_find):\n",
    "        \"\"\"\n",
    "        Use find_patches_in_image function, for the whole batch of images\n",
    "\n",
    "        Args:\n",
    "            images (img, x, y, [R,G,B]): _description_\n",
    "            labels (img, label): _description_\n",
    "            patches_to_find (_type_): _description_\n",
    "\n",
    "        Returns:\n",
    "            _type_: _description_\n",
    "        \"\"\"\n",
    "        num_images = images.shape\n",
    "        valid_indices = np.where((labels < patches_to_find.shape[0]) & (labels < num_images))[0]\n",
    "        \n",
    "        results = [find_patches_in_image(images[i], patches_to_find[labels[i], 0, :], targeted_search=True) for i in tqdm(valid_indices, desc=\"Processing images\", position=0, leave=True)]\n",
    "        \n",
    "        return results  # Return the list of arrays directly\n",
    "\n",
    "\n",
    "def create_dist_and_dir_map(images, Y_images, anchor_points, n_anchor_points=2):\n",
    "    \"\"\"\n",
    "    Encode images based on the distance and angle to the anchor patch.\n",
    "    \n",
    "    Parameters:\n",
    "    - images: List of 2D arrays representing the images.\n",
    "    - Y_images: List of labels corresponding to each image.\n",
    "    - anchor_points: List of origin points.[Class, img, coors[x,y]]\n",
    "    - n_anchor_points: Number of origin points to consider.\n",
    "    \n",
    "    Returns:\n",
    "    - encoded_patches: Array containing the encoded images.\n",
    "    \"\"\"\n",
    "    batch_size, height, width, _ = images.shape\n",
    "    encoded_patches = np.zeros((batch_size, height, width, tm.number_of_classes, n_anchor_points, 2), dtype=np.uint32)\n",
    "    \n",
    "    # if n_anchor_points > 1:\n",
    "    #     origin_coord = origins[img]\n",
    "    # else:\n",
    "    #     origin_coord = origins\n",
    "    \n",
    "    for img in range(batch_size):\n",
    "        for j in range(height):\n",
    "            for k in range(width):\n",
    "                for Class in range(tm.number_of_classes):\n",
    "                    for point in range(n_anchor_points):\n",
    "                        origin_coord = anchor_points[Class][img]\n",
    "                        # Check if the origin coordinate is a placeholder\n",
    "                        if np.any(origin_coord == -1):\n",
    "                            continue\n",
    "                        else:\n",
    "                            distance, angle = calculate_distance_and_direction(origin_coord, (j, k))\n",
    "                            encoded_patches[img, k, j, Class, point] = [distance, angle]\n",
    "    return encoded_patches\n",
    "\n",
    "\n",
    "def scale_value_int(value, old_max, new_max):\n",
    "    return int((value / old_max) * new_max)\n",
    "\n",
    "\n",
    "def calculate_distance_and_direction(coord1, coord2):\n",
    "    #TODO: remove the koeficients and replace with variable adjusting. the scaling now is to fit 0 to 255 scale\n",
    "    distance = 7* math.sqrt((coord2[0] - coord1[0])**2 + (coord2[1] - coord1[1])**2)\n",
    "    angle = math.atan2(coord2[1] - coord1[1], coord2[0] - coord1[0])\n",
    "    print(\"angle\", angle)\n",
    "    return distance, angle\n",
    "\n",
    "\n",
    "def calculate_distance_and_direction(coord1, coord2):\n",
    "    coord1, coord2 = np.array(coord1), np.array(coord2)\n",
    "    \n",
    "    # Calculate Euclidean distance\n",
    "    distance = np.hypot(*(coord2 - coord1))\n",
    "    # Scale distance to fit 0 to 255 scale\n",
    "    distance = (distance / 32) * 255\n",
    "\n",
    "    # Calculate angle\n",
    "    angle = np.arctan2(coord2[1] - coord1[1], coord2[0] - coord1[0])\n",
    "    # Shift range to [0, 2π]\n",
    "    angle = angle % (2 * np.pi)\n",
    "    # Convert to degrees and scale from [0, 360] to [0, 255]\n",
    "    angle = (np.degrees(angle) / 360) * 255\n",
    "    # Convert to uint32\n",
    "    distance = distance.astype(np.uint32)\n",
    "    angle = angle.astype(np.uint32)\n",
    "\n",
    "    #print(\"distance\", distance)\n",
    "    return distance, angle\n"
   ]
  },
  {
   "cell_type": "code",
   "execution_count": 515,
   "id": "a48637b0",
   "metadata": {},
   "outputs": [],
   "source": [
    "#TODO: use the find patches in images function to set the anchor points\n"
   ]
  },
  {
   "cell_type": "code",
   "execution_count": 516,
   "id": "9155d363",
   "metadata": {},
   "outputs": [
    {
     "name": "stdout",
     "output_type": "stream",
     "text": [
      "Bypassing the search of anchor points\n"
     ]
    }
   ],
   "source": [
    "if bypass_anchor_selection:\n",
    "\n",
    "    print(\"Bypassing the search of anchor points\")\n",
    "    anchors_test = np.empty((tm.number_of_classes, X_test.shape[0], coors_test_org.shape[1]))\n",
    "\n",
    "    for Class in range(tm.number_of_classes):\n",
    "        for img in range(X_test.shape[0]):\n",
    "            anchors_test[Class, img] = coors_test_org[img, :]\n",
    "\n",
    "    encoded_patches_test = create_dist_and_dir_map(X_test_org, Y_test_org, anchors_test, 1)\n",
    "\n",
    "\n",
    "else:\n",
    "    # Find anchors on test data\n",
    "    counts = np.zeros((tm.number_of_clauses*tm.number_of_classes))\n",
    "    for image_results in X_test_all_results:\n",
    "        for patch in image_results:\n",
    "            patch_id = patch[0]\n",
    "            counts[patch_id] += 1\n",
    "    anchors_id = []\n",
    "    # Initialize anchor_points\n",
    "    anchor_points = [[] for _ in range(tm.number_of_classes)]\n",
    "    # Get anchor points for each class\n",
    "    for Class in range(tm.number_of_classes):\n",
    "        #anchor_ids = Class*tm.number_of_clauses + counts[Class*tm.number_of_clauses:(Class+1)*tm.number_of_clauses].argsort()[-2:]\n",
    "        anchor_ids = Class*tm.number_of_clauses + counts[Class*tm.number_of_clauses:(Class+1)*tm.number_of_clauses].argsort()\n",
    "        #IDs now per class\n",
    "        for anchor_id in anchor_ids: #per ID\n",
    "            # Find the coordinates of the anchor patches\n",
    "            for image_results in X_test_all_results: \n",
    "                for result in image_results:\n",
    "                    # if bypass_anchor_selection:\n",
    "                    #     anchor_points[Class].append(coors_test_org[img, :].tolist())  # Assuming result[1] has the coordinates\n",
    "                    # else:\n",
    "                    if result[0] == anchor_id:\n",
    "                        anchor_points[Class].append(result[1:])\n",
    "                    else:\n",
    "                        anchor_points[Class].append([0,0]) \n",
    "    encoded_patches_test = create_dist_and_dir_map(X_test_org, Y_test_org, anchor_points, 2)\n",
    "    \n"
   ]
  },
  {
   "cell_type": "code",
   "execution_count": 517,
   "id": "bf022f34",
   "metadata": {},
   "outputs": [
    {
     "name": "stdout",
     "output_type": "stream",
     "text": [
      "Bypassing the search of anchor points\n"
     ]
    }
   ],
   "source": [
    "if bypass_anchor_selection:\n",
    "    print(\"Bypassing the search of anchor points\")\n",
    "    anchors_train = np.empty((tm.number_of_classes, X_train.shape[0], coors_train_org.shape[1]))\n",
    "\n",
    "    for Class in range(tm.number_of_classes):\n",
    "        for img in range(X_train.shape[0]):\n",
    "            anchors_train[Class, img] = coors_train_org[img, :]\n",
    "\n",
    "    encoded_patches_train = create_dist_and_dir_map(X_train_org, Y_train_org, anchors_train, 1)\n",
    "else:\n",
    "    #find anchors on train data\n",
    "    counts = np.zeros((tm.number_of_clauses*tm.number_of_classes))\n",
    "    for image_results in X_train_all_results:\n",
    "        for patch in image_results:\n",
    "            patch_id = patch[0]\n",
    "            counts[patch_id] += 1\n",
    "    anchors_id = []\n",
    "    # Initialize anchor_points\n",
    "    anchor_points = [[] for _ in range(tm.number_of_classes)]\n",
    "    # Get anchor points for each class\n",
    "    for Class in range(tm.number_of_classes):\n",
    "        #anchor_ids = Class*tm.number_of_clauses + counts[Class*tm.number_of_clauses:(Class+1)*tm.number_of_clauses].argsort()[-2:]\n",
    "        anchor_ids = Class*tm.number_of_clauses + counts[Class*tm.number_of_clauses:(Class+1)*tm.number_of_clauses]\n",
    "        #IDs now per class\n",
    "        for anchor_id in anchor_ids: #per ID\n",
    "            # Find the coordinates of the anchor patches\n",
    "            for image_results in X_train_all_results:\n",
    "                for result in image_results:\n",
    "                    if result[0] == anchor_id:\n",
    "                        anchor_points[Class].append(result[1:])  # Assuming result[1] has the coordinates\n",
    "                    else:\n",
    "                        anchor_points[Class].append([0,0]) \n",
    "    encoded_patches_train = create_dist_and_dir_map(X_train_org, Y_train_org, anchor_points, 2)\n",
    "\n",
    "\n"
   ]
  },
  {
   "cell_type": "code",
   "execution_count": 518,
   "id": "b95779e2",
   "metadata": {},
   "outputs": [
    {
     "name": "stdout",
     "output_type": "stream",
     "text": [
      "(3, 50, 2)\n",
      "(3, 50, 2)\n",
      "test:\n"
     ]
    },
    {
     "data": {
      "image/png": "[encoded data removed]",
      "text/plain": [
       "<Figure size 5000x500 with 10 Axes>"
      ]
     },
     "metadata": {},
     "output_type": "display_data"
    },
    {
     "name": "stdout",
     "output_type": "stream",
     "text": [
      "train:\n"
     ]
    },
    {
     "data": {
      "image/png": "[encoded data removed]",
      "text/plain": [
       "<Figure size 5000x500 with 10 Axes>"
      ]
     },
     "metadata": {},
     "output_type": "display_data"
    }
   ],
   "source": [
    "def plot_images_with_coordinates(images, Y_images, anchor_points, n_anchor_points=6, square_size=5):\n",
    "    \"\"\"\n",
    "    Plots images with specified coordinates (anchor points) marked with red squares based on their class labels.\n",
    "\n",
    "    Parameters:\n",
    "    - images: numpy array of 2D arrays representing the images.\n",
    "    - Y_images: numpy array of labels corresponding to each image.\n",
    "    - anchor_points: numpy array of origin points for each class.\n",
    "    - n_anchor_points: Number of origin points to consider for each class.\n",
    "    - square_size: Size of the square to be plotted at each coordinate.\n",
    "    \"\"\"\n",
    "    \n",
    "    batch_size = images.shape[0]\n",
    "    fig, ax = plt.subplots(1, batch_size, figsize=(batch_size * 5, 5))\n",
    "\n",
    "    if batch_size == 1:\n",
    "        ax = [ax]\n",
    "\n",
    "    for i in range(batch_size):\n",
    "        ax[i].imshow(images[i])\n",
    "        class_label = Y_images[i, 0] if len(Y_images.shape) > 1 else Y_images[i]\n",
    "\n",
    "        if class_label < anchor_points.shape[0]:\n",
    "            origins = anchor_points[class_label]\n",
    "            origin_coord = origins[i]\n",
    "            if np.any(origin_coord == -1):\n",
    "                continue\n",
    "            x, y = origin_coord\n",
    "            rect = patches.Rectangle((x - square_size//2, y - square_size//2), square_size, square_size, linewidth=1, edgecolor='g', facecolor='none')\n",
    "            ax[i].add_patch(rect)\n",
    "\n",
    "    plt.show()\n",
    "#print(\"te:\", anchors_test[:1])\n",
    "print(anchors_test.shape)\n",
    "\n",
    "#print(\"tr:\", anchors_train)\n",
    "print(anchors_train.shape)\n",
    "print(\"test:\")\n",
    "plot_images_with_coordinates(X_test_org[:10], Y_test_org, anchors_test)\n",
    "print(\"train:\")\n",
    "plot_images_with_coordinates(X_train_org[:10], Y_train_org, anchors_train)\n"
   ]
  },
  {
   "cell_type": "code",
   "execution_count": 519,
   "id": "6b18a6ad",
   "metadata": {},
   "outputs": [
    {
     "data": {
      "image/png": "[encoded data removed]",
      "text/plain": [
       "<Figure size 1000x500 with 3 Axes>"
      ]
     },
     "metadata": {},
     "output_type": "display_data"
    },
    {
     "data": {
      "image/png": "[encoded data removed]",
      "text/plain": [
       "<Figure size 1500x500 with 3 Axes>"
      ]
     },
     "metadata": {},
     "output_type": "display_data"
    },
    {
     "data": {
      "image/png": "[encoded data removed]",
      "text/plain": [
       "<Figure size 1500x500 with 3 Axes>"
      ]
     },
     "metadata": {},
     "output_type": "display_data"
    },
    {
     "data": {
      "image/png": "[encoded data removed]",
      "text/plain": [
       "<Figure size 1000x500 with 3 Axes>"
      ]
     },
     "metadata": {},
     "output_type": "display_data"
    },
    {
     "data": {
      "image/png": "[encoded data removed]",
      "text/plain": [
       "<Figure size 1500x500 with 3 Axes>"
      ]
     },
     "metadata": {},
     "output_type": "display_data"
    },
    {
     "data": {
      "image/png": "[encoded data removed]",
      "text/plain": [
       "<Figure size 1500x500 with 3 Axes>"
      ]
     },
     "metadata": {},
     "output_type": "display_data"
    },
    {
     "data": {
      "image/png": "[encoded data removed]",
      "text/plain": [
       "<Figure size 1000x500 with 3 Axes>"
      ]
     },
     "metadata": {},
     "output_type": "display_data"
    },
    {
     "data": {
      "image/png": "[encoded data removed]",
      "text/plain": [
       "<Figure size 1500x500 with 3 Axes>"
      ]
     },
     "metadata": {},
     "output_type": "display_data"
    },
    {
     "data": {
      "image/png": "[encoded data removed]",
      "text/plain": [
       "<Figure size 1500x500 with 3 Axes>"
      ]
     },
     "metadata": {},
     "output_type": "display_data"
    }
   ],
   "source": [
    "# Select a few sample images\n",
    "samples = encoded_patches_train[:3]\n",
    "for i, sample in enumerate(samples):\n",
    "    for j in range(1):  # Second last dimension (windows)\n",
    "        # Create a new figure for each window\n",
    "        plt.figure(figsize=(10, 5))\n",
    "\n",
    "        for k in range(2):  # Last dimension (features)\n",
    "            # Create a subplot for each feature\n",
    "            plt.subplot(1, 3, k + 1)\n",
    "            plt.imshow(sample[...,j, 0, k])  # Set aspect to 'auto'\n",
    "            plt.title(f'Sample {i+1}, Window {j+1}, Feature {k+1}')\n",
    "        \n",
    "        # Plot the corresponding image with anchor points\n",
    "        plt.subplot(1, 3, 3)\n",
    "        plot_images_with_coordinates(X_train_org[:3], Y_train_org, anchors_train,square_size=2)\n",
    "        plot_images_with_coordinates(X_train_org[:3], Y_train_org, anchors_train,square_size=8)\n",
    "        \n",
    "        plt.show()\n",
    "    "
   ]
  },
  {
   "cell_type": "code",
   "execution_count": 520,
   "id": "5fe46268",
   "metadata": {},
   "outputs": [],
   "source": [
    "# Create the windowed datasets\n",
    "X_train2 = create_windowed_dataset(thermometer_encode(X_train_org,resolution=4), thermometer_encode(encoded_patches_train, resolution=14), patch_dim=patch_dim)\n",
    "X_test2 = create_windowed_dataset(thermometer_encode(X_test_org,resolution=4), thermometer_encode(encoded_patches_test, resolution=14), patch_dim=patch_dim)"
   ]
  },
  {
   "cell_type": "code",
   "execution_count": 521,
   "metadata": {},
   "outputs": [
    {
     "name": "stdout",
     "output_type": "stream",
     "text": [
      "Training:\n",
      "2 labels used: [1 2]\n",
      "Training pictures: 50\n",
      "Testing:\n",
      "2 labels used: [1 2]\n",
      "Maximum achievable accuracy: 100.0\n",
      "..adjusting\n",
      "Testing pictures: 50\n",
      "\n",
      "Accuracy over 20 epochs:\n",
      "\n"
     ]
    },
    {
     "name": "stderr",
     "output_type": "stream",
     "text": [
      "  0%|          | 0/20 [00:00<?, ?it/s]"
     ]
    },
    {
     "name": "stdout",
     "output_type": "stream",
     "text": [
      "2024-01-05 20:45:40,581 - tmu.models.classification.base_classification - DEBUG - Initializing clause bank....\n"
     ]
    },
    {
     "name": "stderr",
     "output_type": "stream",
     "text": [
      "  5%|▌         | 1/20 [00:09<02:59,  9.44s/it]"
     ]
    },
    {
     "name": "stdout",
     "output_type": "stream",
     "text": [
      "0 0 50.00 50.00 1.52 4.02\n"
     ]
    },
    {
     "name": "stderr",
     "output_type": "stream",
     "text": [
      " 10%|█         | 2/20 [00:18<02:41,  8.98s/it]"
     ]
    },
    {
     "name": "stdout",
     "output_type": "stream",
     "text": [
      "0 1 50.00 50.00 0.45 4.32\n"
     ]
    },
    {
     "name": "stderr",
     "output_type": "stream",
     "text": [
      " 15%|█▌        | 3/20 [00:26<02:30,  8.84s/it]"
     ]
    },
    {
     "name": "stdout",
     "output_type": "stream",
     "text": [
      "0 2 54.00 60.00 0.43 4.33\n"
     ]
    },
    {
     "name": "stderr",
     "output_type": "stream",
     "text": [
      " 20%|██        | 4/20 [00:35<02:19,  8.74s/it]"
     ]
    },
    {
     "name": "stdout",
     "output_type": "stream",
     "text": [
      "0 3 48.00 48.00 0.37 4.27\n"
     ]
    },
    {
     "name": "stderr",
     "output_type": "stream",
     "text": [
      " 25%|██▌       | 5/20 [00:43<02:10,  8.70s/it]"
     ]
    },
    {
     "name": "stdout",
     "output_type": "stream",
     "text": [
      "0 4 50.00 60.00 0.36 4.26\n"
     ]
    },
    {
     "name": "stderr",
     "output_type": "stream",
     "text": [
      " 30%|███       | 6/20 [00:52<02:01,  8.69s/it]"
     ]
    },
    {
     "name": "stdout",
     "output_type": "stream",
     "text": [
      "0 5 50.00 50.00 0.40 4.36\n"
     ]
    },
    {
     "name": "stderr",
     "output_type": "stream",
     "text": [
      " 35%|███▌      | 7/20 [01:01<01:52,  8.65s/it]"
     ]
    },
    {
     "name": "stdout",
     "output_type": "stream",
     "text": [
      "0 6 50.00 60.00 0.37 4.25\n"
     ]
    },
    {
     "name": "stderr",
     "output_type": "stream",
     "text": [
      " 40%|████      | 8/20 [01:09<01:43,  8.65s/it]"
     ]
    },
    {
     "name": "stdout",
     "output_type": "stream",
     "text": [
      "0 7 50.00 54.00 0.39 4.32\n"
     ]
    },
    {
     "name": "stderr",
     "output_type": "stream",
     "text": [
      " 45%|████▌     | 9/20 [01:18<01:35,  8.66s/it]"
     ]
    },
    {
     "name": "stdout",
     "output_type": "stream",
     "text": [
      "0 8 50.00 50.00 0.40 4.30\n"
     ]
    },
    {
     "name": "stderr",
     "output_type": "stream",
     "text": [
      " 50%|█████     | 10/20 [01:27<01:26,  8.65s/it]"
     ]
    },
    {
     "name": "stdout",
     "output_type": "stream",
     "text": [
      "0 9 50.00 50.00 0.37 4.35\n"
     ]
    },
    {
     "name": "stderr",
     "output_type": "stream",
     "text": [
      " 55%|█████▌    | 11/20 [01:35<01:17,  8.63s/it]"
     ]
    },
    {
     "name": "stdout",
     "output_type": "stream",
     "text": [
      "0 10 52.00 56.00 0.38 4.27\n"
     ]
    },
    {
     "name": "stderr",
     "output_type": "stream",
     "text": [
      " 60%|██████    | 12/20 [01:44<01:09,  8.64s/it]"
     ]
    },
    {
     "name": "stdout",
     "output_type": "stream",
     "text": [
      "0 11 44.00 56.00 0.39 4.27\n"
     ]
    },
    {
     "name": "stderr",
     "output_type": "stream",
     "text": [
      " 65%|██████▌   | 13/20 [01:53<01:00,  8.62s/it]"
     ]
    },
    {
     "name": "stdout",
     "output_type": "stream",
     "text": [
      "0 12 52.00 64.00 0.38 4.29\n"
     ]
    },
    {
     "name": "stderr",
     "output_type": "stream",
     "text": [
      " 70%|███████   | 14/20 [02:01<00:51,  8.60s/it]"
     ]
    },
    {
     "name": "stdout",
     "output_type": "stream",
     "text": [
      "0 13 48.00 60.00 0.37 4.24\n"
     ]
    },
    {
     "name": "stderr",
     "output_type": "stream",
     "text": [
      " 75%|███████▌  | 15/20 [02:10<00:43,  8.60s/it]"
     ]
    },
    {
     "name": "stdout",
     "output_type": "stream",
     "text": [
      "0 14 42.00 56.00 0.38 4.29\n"
     ]
    },
    {
     "name": "stderr",
     "output_type": "stream",
     "text": [
      " 80%|████████  | 16/20 [02:18<00:34,  8.62s/it]"
     ]
    },
    {
     "name": "stdout",
     "output_type": "stream",
     "text": [
      "0 15 50.00 56.00 0.37 4.31\n"
     ]
    },
    {
     "name": "stderr",
     "output_type": "stream",
     "text": [
      " 85%|████████▌ | 17/20 [02:27<00:25,  8.61s/it]"
     ]
    },
    {
     "name": "stdout",
     "output_type": "stream",
     "text": [
      "0 16 50.00 64.00 0.37 4.31\n"
     ]
    },
    {
     "name": "stderr",
     "output_type": "stream",
     "text": [
      " 90%|█████████ | 18/20 [02:35<00:17,  8.58s/it]"
     ]
    },
    {
     "name": "stdout",
     "output_type": "stream",
     "text": [
      "0 17 54.00 54.00 0.38 4.20\n"
     ]
    },
    {
     "name": "stderr",
     "output_type": "stream",
     "text": [
      " 95%|█████████▌| 19/20 [02:44<00:08,  8.57s/it]"
     ]
    },
    {
     "name": "stdout",
     "output_type": "stream",
     "text": [
      "0 18 50.00 62.00 0.39 4.27\n"
     ]
    },
    {
     "name": "stderr",
     "output_type": "stream",
     "text": [
      "100%|██████████| 20/20 [02:53<00:00,  8.66s/it]\n"
     ]
    },
    {
     "name": "stdout",
     "output_type": "stream",
     "text": [
      "0 19 48.00 62.00 0.37 4.33\n",
      "\n",
      "Accuracy over 20 epochs:\n",
      "\n"
     ]
    },
    {
     "name": "stderr",
     "output_type": "stream",
     "text": [
      "  0%|          | 0/20 [00:00<?, ?it/s]"
     ]
    },
    {
     "name": "stdout",
     "output_type": "stream",
     "text": [
      "2024-01-05 20:48:33,726 - tmu.models.classification.base_classification - DEBUG - Initializing clause bank....\n"
     ]
    },
    {
     "name": "stderr",
     "output_type": "stream",
     "text": [
      "  5%|▌         | 1/20 [00:08<02:46,  8.76s/it]"
     ]
    },
    {
     "name": "stdout",
     "output_type": "stream",
     "text": [
      "1 0 50.00 50.00 1.05 3.86\n"
     ]
    },
    {
     "name": "stderr",
     "output_type": "stream",
     "text": [
      " 10%|█         | 2/20 [00:17<02:36,  8.68s/it]"
     ]
    },
    {
     "name": "stdout",
     "output_type": "stream",
     "text": [
      "1 1 48.00 52.00 0.42 4.24\n"
     ]
    },
    {
     "name": "stderr",
     "output_type": "stream",
     "text": [
      " 15%|█▌        | 3/20 [00:26<02:27,  8.67s/it]"
     ]
    },
    {
     "name": "stdout",
     "output_type": "stream",
     "text": [
      "1 2 50.00 50.00 0.40 4.31\n"
     ]
    },
    {
     "name": "stderr",
     "output_type": "stream",
     "text": [
      " 20%|██        | 4/20 [00:34<02:18,  8.63s/it]"
     ]
    },
    {
     "name": "stdout",
     "output_type": "stream",
     "text": [
      "1 3 46.00 56.00 0.39 4.29\n"
     ]
    },
    {
     "name": "stderr",
     "output_type": "stream",
     "text": [
      " 25%|██▌       | 5/20 [00:43<02:09,  8.62s/it]"
     ]
    },
    {
     "name": "stdout",
     "output_type": "stream",
     "text": [
      "1 4 58.00 58.00 0.40 4.29\n"
     ]
    },
    {
     "name": "stderr",
     "output_type": "stream",
     "text": [
      " 30%|███       | 6/20 [00:51<02:00,  8.60s/it]"
     ]
    },
    {
     "name": "stdout",
     "output_type": "stream",
     "text": [
      "1 5 58.00 58.00 0.37 4.27\n"
     ]
    },
    {
     "name": "stderr",
     "output_type": "stream",
     "text": [
      " 35%|███▌      | 7/20 [01:00<01:52,  8.62s/it]"
     ]
    },
    {
     "name": "stdout",
     "output_type": "stream",
     "text": [
      "1 6 50.00 50.00 0.40 4.29\n"
     ]
    },
    {
     "name": "stderr",
     "output_type": "stream",
     "text": [
      " 40%|████      | 8/20 [01:08<01:43,  8.60s/it]"
     ]
    },
    {
     "name": "stdout",
     "output_type": "stream",
     "text": [
      "1 7 54.00 58.00 0.36 4.24\n"
     ]
    },
    {
     "name": "stderr",
     "output_type": "stream",
     "text": [
      " 45%|████▌     | 9/20 [01:17<01:34,  8.60s/it]"
     ]
    },
    {
     "name": "stdout",
     "output_type": "stream",
     "text": [
      "1 8 52.00 52.00 0.36 4.31\n"
     ]
    },
    {
     "name": "stderr",
     "output_type": "stream",
     "text": [
      " 50%|█████     | 10/20 [01:26<01:26,  8.60s/it]"
     ]
    },
    {
     "name": "stdout",
     "output_type": "stream",
     "text": [
      "1 9 52.00 52.00 0.37 4.27\n"
     ]
    },
    {
     "name": "stderr",
     "output_type": "stream",
     "text": [
      " 55%|█████▌    | 11/20 [01:34<01:17,  8.61s/it]"
     ]
    },
    {
     "name": "stdout",
     "output_type": "stream",
     "text": [
      "1 10 56.00 66.00 0.36 4.35\n"
     ]
    },
    {
     "name": "stderr",
     "output_type": "stream",
     "text": [
      " 60%|██████    | 12/20 [01:43<01:08,  8.61s/it]"
     ]
    },
    {
     "name": "stdout",
     "output_type": "stream",
     "text": [
      "1 11 64.00 74.00 0.41 4.29\n"
     ]
    },
    {
     "name": "stderr",
     "output_type": "stream",
     "text": [
      " 65%|██████▌   | 13/20 [01:52<01:00,  8.65s/it]"
     ]
    },
    {
     "name": "stdout",
     "output_type": "stream",
     "text": [
      "1 12 66.00 74.00 0.39 4.35\n"
     ]
    },
    {
     "name": "stderr",
     "output_type": "stream",
     "text": [
      " 70%|███████   | 14/20 [02:00<00:52,  8.67s/it]"
     ]
    },
    {
     "name": "stdout",
     "output_type": "stream",
     "text": [
      "1 13 54.00 60.00 0.40 4.34\n"
     ]
    },
    {
     "name": "stderr",
     "output_type": "stream",
     "text": [
      " 75%|███████▌  | 15/20 [02:09<00:43,  8.67s/it]"
     ]
    },
    {
     "name": "stdout",
     "output_type": "stream",
     "text": [
      "1 14 58.00 70.00 0.36 4.35\n"
     ]
    },
    {
     "name": "stderr",
     "output_type": "stream",
     "text": [
      " 80%|████████  | 16/20 [02:18<00:34,  8.65s/it]"
     ]
    },
    {
     "name": "stdout",
     "output_type": "stream",
     "text": [
      "1 15 86.00 94.00 0.37 4.29\n"
     ]
    },
    {
     "name": "stderr",
     "output_type": "stream",
     "text": [
      " 85%|████████▌ | 17/20 [02:26<00:25,  8.63s/it]"
     ]
    },
    {
     "name": "stdout",
     "output_type": "stream",
     "text": [
      "1 16 68.00 82.00 0.39 4.27\n"
     ]
    },
    {
     "name": "stderr",
     "output_type": "stream",
     "text": [
      " 90%|█████████ | 18/20 [02:35<00:17,  8.64s/it]"
     ]
    },
    {
     "name": "stdout",
     "output_type": "stream",
     "text": [
      "1 17 98.00 98.00 0.40 4.28\n"
     ]
    },
    {
     "name": "stderr",
     "output_type": "stream",
     "text": [
      " 95%|█████████▌| 19/20 [02:43<00:08,  8.61s/it]"
     ]
    },
    {
     "name": "stdout",
     "output_type": "stream",
     "text": [
      "1 18 88.00 88.00 0.35 4.23\n"
     ]
    },
    {
     "name": "stderr",
     "output_type": "stream",
     "text": [
      "100%|██████████| 20/20 [02:52<00:00,  8.64s/it]"
     ]
    },
    {
     "name": "stdout",
     "output_type": "stream",
     "text": [
      "1 19 92.00 92.00 0.44 4.39\n"
     ]
    },
    {
     "name": "stderr",
     "output_type": "stream",
     "text": [
      "\n"
     ]
    }
   ],
   "source": [
    "#USE UINT32\n",
    "\n",
    "#Train the TM 2 and record results\n",
    "#f = open(\"run_%.1f_%d_%d_%d_%d_%d.txt\" % (s, clauses, T, step, visual_tokens), \"w+\")\n",
    "logTrain = np.zeros((epochs, X_train2.shape[0]), dtype=np.uint8)\n",
    "logTest =  np.zeros((epochs, X_test2.shape[0]),  dtype=np.uint8)\n",
    "\n",
    "print(\"Training:\")\n",
    "training_data_labels = np.unique(Y_train)\n",
    "print(training_data_labels.shape[0], \"labels used:\", training_data_labels)\n",
    "print(\"Training pictures:\", X_train2.shape[0])\n",
    "\n",
    "print(\"Testing:\")\n",
    "testing_data_labels = np.unique(Y_test)\n",
    "print(testing_data_labels.shape[0], \"labels used:\", testing_data_labels)\n",
    "print(\"Maximum achievable accuracy:\", (100*(training_data_labels.shape[0]/testing_data_labels.shape[0])))\n",
    "print(\"..adjusting\") #see result_test_adj\n",
    "print(\"Testing pictures:\", X_test2.shape[0])\n",
    "\n",
    "for label in range(trained_labels.shape[0]):\n",
    "        print(\"\\nAccuracy over %d epochs:\\n\" % (epochs))\n",
    "\n",
    "        tm = TMClassifier(clauses, T, s, max_included_literals=max_included_literals, patch_dim=(1,1), platform='CPU', weighted_clauses=True)\n",
    "        \n",
    "        for epoch in tqdm(range(epochs)):\n",
    "                start_training = time()\n",
    "                tm.fit(X_train2, Y_train)\n",
    "                stop_training = time()\n",
    "\n",
    "                start_testing = time()\n",
    "                result_test = 100*(tm.predict(X_test2) == Y_test).mean()\n",
    "                result_test_adj = 100*(result_test/ (100*(training_data_labels.shape[0]/testing_data_labels.shape[0])))\n",
    "                logTest[epoch] = (tm.predict(X_test2))*label\n",
    "                stop_testing = time()\n",
    "\n",
    "                result_train = 100*(tm.predict(X_train2) == Y_train).mean()\n",
    "                logTrain[epoch] = (tm.predict(X_train2))*label\n",
    "\n",
    "                #recall_and_precision(epoch)\n",
    "\n",
    "                print(\"%d %d %.2f %.2f %.2f %.2f\" % (label, epoch, result_test_adj, result_train, stop_training-start_training, stop_testing-start_testing))\n",
    "                #print(\"%d %d %.2f %.2f %.2f %.2f\" % (label, epoch, result_test_adj, result_train, stop_training-start_training, stop_testing-start_testing), file=f)\n",
    "                #f.flush()\n",
    "#f.close()\n",
    "\n"
   ]
  },
  {
   "cell_type": "code",
   "execution_count": 522,
   "id": "13391c70",
   "metadata": {},
   "outputs": [
    {
     "name": "stdout",
     "output_type": "stream",
     "text": [
      "2024-01-05 20:51:29,525 - matplotlib.colorbar - DEBUG - locator: <matplotlib.ticker.AutoLocator object at 0x298e52110>\n"
     ]
    },
    {
     "data": {
      "image/png": "[encoded data removed]",
      "text/plain": [
       "<Figure size 800x600 with 2 Axes>"
      ]
     },
     "metadata": {},
     "output_type": "display_data"
    }
   ],
   "source": [
    "#Confusion Matrix\n",
    "conf_matrix2 = confusion_matrix(Y_test, tm.predict(X_test2))\n",
    "# Calculate percentages\n",
    "conf_matrix_percent2 = conf_matrix2 / conf_matrix2.sum(axis=1, keepdims=True) * 100\n",
    "conf_matrix_percent2 = np.nan_to_num(conf_matrix_percent2, 0)  # Replace NaNs with 0\n",
    "\n",
    "# Plot the confusion matrix with percentages\n",
    "plt.figure(figsize=(8, 6))\n",
    "sns.heatmap(conf_matrix_percent2, annot=True, fmt=\".1f\", cmap=\"Blues\", xticklabels=labels, yticklabels=labels)\n",
    "plt.title(\"Confusion Matrix run 2 (Percentages)\")\n",
    "plt.xlabel(\"Predicted Labels\")\n",
    "plt.ylabel(\"True Labels\")\n",
    "plt.show()\n"
   ]
  },
  {
   "cell_type": "code",
   "execution_count": 523,
   "id": "8818a843",
   "metadata": {},
   "outputs": [
    {
     "name": "stdout",
     "output_type": "stream",
     "text": [
      "2024-01-05 20:51:29,646 - matplotlib.colorbar - DEBUG - locator: <matplotlib.ticker.AutoLocator object at 0x299be1480>\n"
     ]
    },
    {
     "data": {
      "image/png": "[encoded data removed]",
      "text/plain": [
       "<Figure size 800x600 with 2 Axes>"
      ]
     },
     "metadata": {},
     "output_type": "display_data"
    }
   ],
   "source": [
    "#Confusion Matrix\n",
    "\n",
    "# Plot the confusion matrix with percentages\n",
    "plt.figure(figsize=(8, 6))\n",
    "sns.heatmap(conf_matrix_percent2-conf_matrix_percent1, annot=True, fmt=\".1f\", cmap=\"Blues\", xticklabels=labels, yticklabels=labels)\n",
    "plt.title(\"Confusion Matrix difference 2-1 (Percentages)\")\n",
    "plt.xlabel(\"Predicted Labels\")\n",
    "plt.ylabel(\"True Labels\")\n",
    "plt.show()\n"
   ]
  }
 ],
 "metadata": {
  "kernelspec": {
   "display_name": "Python 3 (ipykernel)",
   "language": "python",
   "name": "python3"
  },
  "language_info": {
   "codemirror_mode": {
    "name": "ipython",
    "version": 3
   },
   "file_extension": ".py",
   "mimetype": "text/x-python",
   "name": "python",
   "nbconvert_exporter": "python",
   "pygments_lexer": "ipython3",
   "version": "3.10.10"
  }
 },
 "nbformat": 4,
 "nbformat_minor": 5
}
